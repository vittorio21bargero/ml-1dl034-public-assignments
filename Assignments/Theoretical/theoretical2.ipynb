{
  "cells": [
    {
      "cell_type": "markdown",
      "metadata": {
        "id": "gELlCYxr-zU0"
      },
      "source": [
        "# Logistic Regression\n",
        "## Introduction\n",
        "\n",
        "In this notebook we are going to study gradient descent and in this case applied to logistic regression.\n",
        "Logistic regression (LR) is a statistical method for analysing datasets where there are one of more independent variables that determine the outcome. The outcome is a dichotomous, meaning there are only two possible outcomes (1 / 0, Yes / No, True / False). For instance, if you want to predict the sex of a person from age ($x_1$) and income ($x_2$), the logistic regression model would be\n",
        "\n",
        "$$ h(x) = \\theta_0 + \\theta_1x_1 + \\theta_2 x_2 $$\n",
        "\n",
        "where $h(x)$ is the outcome varibale, $\\theta_0$ the bias and $\\theta_1$ and $\\theta_2$ the weights. The goal is ultimately to tune these parameters with respect to the obeserved data ($x_1$,$x_2$).\n",
        "\n",
        "LR estimates a probability (between 0 and 100%) but $h(x)$ gives values in $(-\\infty, +\\infty)$. We need to \"squish\" $h(x)$ to restrict it to a suitable range. LR commonly uses the logistic function (a.k.a. sigmoid function) to compute probabilities:\n",
        "\n",
        "$$ \\sigma(h(x)) = \\frac{1}{1+e^{-h(x)}}. $$\n",
        "\n",
        "It is possible to threshold the logistic function (values between 0-1), and values below 0.5 will be counted as the prediction of class 0 and values larger than 0.5 results in the prediction of class 1.\n",
        "\n",
        "The full logistic regression model is then:\n",
        "\n",
        "$$ z(x) = \\sigma(h(x)) = \\frac{1}{1+e^{-(\\theta_0 + \\theta_1x_1 + \\theta_2 x_2)}}. $$"
      ]
    },
    {
      "cell_type": "markdown",
      "metadata": {
        "id": "QelIDq9g-zU4"
      },
      "source": [
        "# Ready, steady, code! 🚀\n",
        "\n",
        "Let's start with loading some data, scikit-learn comes with a couple of toy datasets and we are going to use the \"iris\" dataset where the goal is to classify which type of flower based on a set of features consisting of sepal length (cm), sepal width (cm), petal length (cm), petal width (cm). To begin with we consider only two of those features."
      ]
    },
    {
      "cell_type": "code",
      "execution_count": 5,
      "metadata": {
        "ExecuteTime": {
          "end_time": "2021-01-19T07:50:41.692245Z",
          "start_time": "2021-01-19T07:50:41.685547Z"
        },
        "id": "gRacVKES-zU5"
      },
      "outputs": [],
      "source": [
        "# import stuff that we need\n",
        "import numpy as np\n",
        "import matplotlib as mpl\n",
        "import matplotlib.pyplot as plt\n",
        "import sklearn\n",
        "import sklearn.datasets as ds\n",
        "from IPython.display import clear_output # if you get problem with this import you can skip it, it is used to print the cost later which can be skipped"
      ]
    },
    {
      "cell_type": "code",
      "execution_count": null,
      "metadata": {
        "ExecuteTime": {
          "end_time": "2021-01-19T07:52:28.766916Z",
          "start_time": "2021-01-19T07:52:28.757691Z"
        },
        "id": "b5kkX_rd-zU6"
      },
      "outputs": [],
      "source": [
        "assert np.__version__ == \"2.2.0\", \"Looks like you don't have the same version of numpy as us!\"\n",
        "assert mpl.__version__ == \"3.10.0\", \"Looks like you don't have the same version of matplotlib as us!\"\n",
        "assert sklearn.__version__ == \"1.6.0\", \"Looks like you don't have the same version of sklearn as us!\""
      ]
    },
    {
      "cell_type": "code",
      "execution_count": 9,
      "metadata": {
        "ExecuteTime": {
          "end_time": "2021-01-19T07:52:33.179008Z",
          "start_time": "2021-01-19T07:52:33.151459Z"
        },
        "id": "qlE01Wme-zU7"
      },
      "outputs": [],
      "source": [
        "data = ds.load_iris() #very famous dataset (we can find it in the sklearn library)\n",
        "#print(data)\n",
        "\n",
        "selected_features_idx = [0,1] #'sepal length (cm)', 'sepal width (cm)'\n",
        "selected_targets = [0,1] #'setosa' 'versicolor'\n",
        "\n",
        "idx = np.array([x in selected_targets for x in data.target])\n",
        "x = data.data[:,selected_features_idx][idx]\n",
        "y = data.target[idx]\n",
        "y[y > 1] = 1 # Reset labels greater than 1 to 1 (all the values=2 VIRGINICA count as 1 to make life easier)"
      ]
    },
    {
      "cell_type": "code",
      "execution_count": 7,
      "metadata": {
        "ExecuteTime": {
          "end_time": "2021-01-19T07:52:46.508713Z",
          "start_time": "2021-01-19T07:52:46.172908Z"
        },
        "id": "ASemISPq-zU8",
        "outputId": "b98ba59a-078f-4392-f57f-3aaf40203f14",
        "colab": {
          "base_uri": "https://localhost:8080/",
          "height": 433
        }
      },
      "outputs": [
        {
          "output_type": "display_data",
          "data": {
            "text/plain": [
              "<Figure size 640x480 with 1 Axes>"
            ],
            "image/png": "[encoded data removed]"
          },
          "metadata": {}
        }
      ],
      "source": [
        "plt.figure()\n",
        "for label in np.unique(y):\n",
        "    plt.scatter(x[:, 0][y == label], x[:, 1][y == label], label = data.target_names[label])\n",
        "plt.legend()\n",
        "plt.show()"
      ]
    },
    {
      "cell_type": "markdown",
      "metadata": {
        "id": "1DJszsQy-zU8"
      },
      "source": [
        "Now we need a function that predicts the logistic regression model and make predictions. This function takes a measurement, the current bias and the weights as input.\n",
        "\n",
        "$$ z(x) = \\frac{1}{1+e^{-(\\theta_0 + \\theta_1x_1 + \\theta_2x_2)}} $$\n"
      ]
    },
    {
      "cell_type": "code",
      "execution_count": 10,
      "metadata": {
        "id": "jXv6MLoX-zU8",
        "outputId": "072f241b-4ed9-4485-f068-97e808382a83",
        "colab": {
          "base_uri": "https://localhost:8080/"
        }
      },
      "outputs": [
        {
          "output_type": "stream",
          "name": "stdout",
          "text": [
            "0.9785427102823965\n"
          ]
        }
      ],
      "source": [
        "import numpy as np\n",
        "#ESEMPIO SU COME SCEGLIENDO DEI PESI OTTENGO UN DETERMINATO VALORE DELLA FUNZIONE h\n",
        "def z_x(x, bias, weights):\n",
        "    \"\"\"\n",
        "    Compute the logistic regression output for a given input x, bias, and weights.\n",
        "\n",
        "    :param x: numpy array containing measurements, x = [x1, x2]\n",
        "    :param bias: single value (θ0)\n",
        "    :param weights: numpy array containing model weights, weights = [w1, w2]\n",
        "\n",
        "    :return: logistic regression model output\n",
        "    \"\"\"\n",
        "    linear_combination = bias + np.dot(weights, x)  # θ0 + θ1*x1 + θ2*x2\n",
        "    return 1 / (1 + np.exp(-linear_combination))   # Sigmoid function\n",
        "\n",
        "# Example usage   x,weights inizializzati fuori dalla funzione\n",
        "x_sample = np.array([5.1, 3.5])  # Example feature values\n",
        "bias = 0.5\n",
        "weights = np.array([1.2, -0.8])  # Example weights\n",
        "\n",
        "print(z_x(x_sample, bias, weights))  # Output of the logistic function\n"
      ]
    },
    {
      "cell_type": "markdown",
      "metadata": {
        "id": "z1E6vAma-zU9"
      },
      "source": [
        "Now try it with some random weights and bias."
      ]
    },
    {
      "cell_type": "code",
      "execution_count": 21,
      "metadata": {
        "id": "u2ItNy9b-zU9",
        "outputId": "e5ce5f11-bca5-41f9-8105-3f78356910d3",
        "colab": {
          "base_uri": "https://localhost:8080/"
        }
      },
      "outputs": [
        {
          "output_type": "stream",
          "name": "stdout",
          "text": [
            "[-0.44124883  1.07616889]\n",
            "Accuracy:  0.5\n"
          ]
        }
      ],
      "source": [
        "bias = np.random.normal() #parametro 0 a caso (preso da una gaussiana)\n",
        "weights = np.random.normal(size = len(x[0])) #x l'avevo definito prima, voglio che il vettore dei pesi (parametri 1 e 2) abbia la stessa dimensione dle vettore x\n",
        "print(weights)\n",
        "\n",
        "predicted = []\n",
        "for i in range(len(x)):# per ogni elemento del vettore x\n",
        "    yhat = z_x(x[i], bias, weights) # calcolo il valore della sigmoide associato (la sigmoide ha i pesi che gli ho appena assegnato non c'è ancora minimizzazione)\n",
        "    predicted.append(round(yhat)) #il vettore predicted avrà tutti i valori della sigmoide per ogni punto, utilizzando round se <0.5 avrò 0, se >0.5 avrò 1\n",
        "\n",
        "print('Accuracy: ', np.sum(np.equal(y, predicted)) / len(predicted)) #con np.equal ottengo un vettore di True se y=predicted, False in caso contrario, quindi calcolo il rapporto tra predetti correttamente e totali"
      ]
    },
    {
      "cell_type": "markdown",
      "metadata": {
        "id": "N2HlVQJR-zU-"
      },
      "source": [
        "Let's plot the decision boundary between the points for this set of weights. The decision boundary is found by setting $h(x) = 0$ which gives:\n",
        "\n",
        "$$ x_2 = -\\frac{\\theta_0 + \\theta_1x_1}{\\theta_2} $$"
      ]
    },
    {
      "cell_type": "code",
      "execution_count": 22,
      "metadata": {
        "id": "lvkANRmE-zU_",
        "outputId": "0cb9a3b4-4436-4e59-8280-2b77a1dbfb2b",
        "colab": {
          "base_uri": "https://localhost:8080/",
          "height": 430
        }
      },
      "outputs": [
        {
          "output_type": "display_data",
          "data": {
            "text/plain": [
              "<Figure size 640x480 with 1 Axes>"
            ],
            "image/png": "[encoded data removed]"
          },
          "metadata": {}
        }
      ],
      "source": [
        "#il decision boundary è il luogo dove il modello è indeciso ovvero dove z(x)=1/2 e quindi h(x)=0\n",
        "x_values = x[:,0] #valori di x1\n",
        "y_values = - (bias + weights[0]*x_values) / weights[1] #valori di x2 calcolati come scritto sopra\n",
        "\n",
        "plt.figure()\n",
        "plt.scatter(x[:,0][y==0],x[:,1][y==0], label = '0')\n",
        "plt.scatter(x[:,0][y==1],x[:,1][y==1], label = '2')\n",
        "plt.plot(x_values, y_values, label='Decision Boundary')\n",
        "plt.legend()\n",
        "plt.show()\n",
        "#il decision boundary come mi aspettavo fa schifo perchè i weights decisi precedentemente sono casuali"
      ]
    },
    {
      "cell_type": "markdown",
      "metadata": {
        "id": "8dKjFqrz-zU_"
      },
      "source": [
        "Not very good (or did you get lucky with the weights?). Try rerunning it a couple of times to see if you can randomly find a better set of weights that improves the accuracy.\n",
        "\n",
        "\n",
        "\n",
        "Now, a better way of finding the optimal weights is the gradient descent method. Gradient descent is an iterative process of minimizing a function by following the gradients of a pre-defined cost function. This is useful for updating and tuning the parameters of our logistic regression model. As gradient descent is an iterative algorithm, we have to repeat the above step until we reach a satisfactory solution. The updates are defined as:\n",
        "\n",
        "$$ \\theta_j \\leftarrow \\theta_j - \\alpha \\frac{\\partial J(\\theta)}{\\partial\\theta_j}, $$\n",
        "\n",
        "and similarily for the bias term\n",
        "\n",
        "$$ \\theta_0 \\leftarrow \\theta_0 - \\alpha \\frac{\\partial J(\\theta)}{\\partial \\theta_o}. $$\n",
        "\n",
        "Where $\\alpha$ is a user specified learning rate, a scalar that controls the step size in the parameter space and $J(\\theta)$ is the cost function that we will now define. Note that to minimize the cost function, we move in the direction opposite to the gradient.\n",
        "\n",
        "First, we need to define our cost function, which is typically the negative log-likelihood of the data for numerical reasons, also called *Binary-Cross-Entropy* loss function. For a binary classification problem with $m$ training examples, where $x^{(i)}$ represents the $i$-th example of our training set and $y^{(i)}$ its output, the cost function is given by:\n",
        "\n",
        "$$\n",
        "J(\\theta)=\\frac{1}{m}\\sum_{i=1}^m\n",
        "\\begin{cases}\n",
        "-log(g(x^{(i)}, \\theta)),& \\text{if } y^{(i)} = 1\\\\\n",
        "-log(1 - g(x^{(i)},\\theta)),& \\text{if } y^{(i)} = 0\n",
        "\\end{cases}\n",
        "$$\n",
        "\n",
        "where $g(x^{(i)},\\theta)$ modelizes $P(y = 1 | x; \\theta)$. Note that we have added $\\theta$ explicitly to the notation to emphasize the dependence on the model parameters.\n",
        "\n",
        "The two functions can be combined into one as:\n",
        "\n",
        "$$ J(\\theta) = -\\frac{1}{m} \\sum_{i=1}^m [y^{(i)} \\log(z_\\theta(x^{(i)})) + (1 - y^{(i)}) \\log(1 - z_\\theta(x^{(i)}))] $$\n",
        "\n",
        "Where $z_θ(x)$ is the sigmoid function, representing the probability that the input $x$ belongs to the positive class.\n",
        "\n",
        "To simplify the notation in the following calculations, we will omit the subindexes; nevertheless, keep in mind that when the cost function is optimized, it is done across all samples in the training dataset.\n",
        "\n",
        "$$ J(\\theta)= -y\\cdot log(z(x)) - (1-y)\\cdot log(1-z(x))$$\n",
        "\n",
        "where $y$ is the target class. The Binary-Cross-Entropy tells us that if the target is 1 and we predict 0, then we will get a large error ($-log(0) = \\infty$) and vice verca ($-log(1 - 1) = -log(0) = \\infty$).\n",
        "\n",
        "For gradient descent we need the derivative of this cost function with respect to the weights $\\frac{\\partial J(\\theta)}{\\partial\\theta_j}$. We can get this with the chain rule:\n",
        "\n",
        "\n",
        "\n",
        "$$\\frac{\\partial J(\\theta)}{\\partial \\theta_j} = \\frac{\\partial J(\\theta)}{\\partial z(x)} \\cdot \\frac{\\partial z(x)}{\\partial h(x)} \\cdot \\frac{\\partial h(x)}{\\partial \\theta_j}$$\n",
        "\n",
        "\n",
        "Where the three derivatives result in:\n",
        "\n",
        "$$\\begin{aligned} \\frac{\\partial J(\\theta)}{\\partial z(x)} &= -\\left(\\frac{y}{z(x)} - \\frac{(1-y)}{(1-z(x))}\\right) \\\\ \\frac{\\partial z(x)}{\\partial h(x)} &= z(x)\\cdot(1-z(x)) \\\\ \\frac{\\partial h(x)}{\\partial \\theta} &=  x \\end{aligned}$$\n",
        "\n",
        "Combining the previous equations together with the previous chain rule gives\n",
        "\n",
        "$$ \\frac{\\partial J(\\theta)}{\\partial\\theta_j} = x_j\\cdot(z(x)-y) $$\n",
        "\n",
        "where $x_j$ is the $j$-th component of $x$.\n",
        "\n",
        "For the bias term the derivative is similar but it is not dependent on $x$ since $\\frac{\\partial h(x)}{\\partial \\theta_0} =  1$\n",
        "\n",
        "$$ \\frac{\\partial J(\\theta)}{\\partial \\theta_0} = z(x)-y $$\n",
        "\n",
        "Finally, recovering the subindex notation for all the samples in our training set we can express the gradient of the cost function with respect to each parameter. For the weight case:\n",
        "\n",
        "$$ \\frac{\\partial J(\\theta)}{\\partial \\theta_j} = \\frac{1}{m} \\sum_{i=1}^m (z_\\theta(x^{(i)}) - y^{(i)})x_j^{(i)}. $$\n",
        "\n",
        "And for the bias case:\n",
        "\n",
        "$$ \\frac{\\partial J(\\theta)}{\\partial \\theta_0} = \\frac{1}{m} \\sum_{i=1}^m (z_\\theta(x^{(i)}) - y^{(i)}). $$\n",
        "\n",
        "With this two formulas now we can use these gradients to update the parameters in the gradient descent algorithm."
      ]
    },
    {
      "cell_type": "markdown",
      "metadata": {
        "id": "7DEzMV-K-zVA"
      },
      "source": [
        "**The full algorithm is:**\n",
        "1. Initialize the weights randomly.\n",
        "2. Calculate the gradients of cost function w.r.t parameters.\n",
        "3. Update the weights by $ \\theta_j \\leftarrow \\theta_j - \\alpha \\frac{\\partial}{\\partial\\theta_j}J(\\theta). $\n",
        "4. Update the bias by $ \\theta_0 \\leftarrow \\theta_0 - \\alpha \\frac{\\partial}{\\partial \\theta_0}J(\\theta). $\n",
        "5. Repeat until value of cost function does not change or to a pre-defined number of iterations."
      ]
    },
    {
      "cell_type": "markdown",
      "metadata": {
        "id": "y6Nd1uii-zVA"
      },
      "source": [
        "Write a function for the cost and one for its derivative with respect to the weights and one with respect to the bias. Note that the derivative function will return the number of values corresponing the the number of weights that you have. Also note that we are only doing this for one training point."
      ]
    },
    {
      "cell_type": "code",
      "execution_count": null,
      "metadata": {
        "id": "bl0DNc4I-zVB"
      },
      "outputs": [],
      "source": [
        "def cost_function(y, x, bias, weights):\n",
        "    \"\"\" param y: Ground truth label for measurements\n",
        "        param x: vector containing measurements. x = [x1, x2]\n",
        "        param bias: single value\n",
        "        param weight: vector containing model weights. weights= [w1,w2]\n",
        "\n",
        "        return: value of the cost function. In this case BCE\n",
        "    \"\"\"\n",
        "\n",
        "    # STUDENT CODE HERE\n",
        "    cost = ...\n",
        "    # STUDENT CODE ENDS\n",
        "    return cost"
      ]
    },
    {
      "cell_type": "code",
      "execution_count": null,
      "metadata": {
        "id": "B5ACiHtS-zVB"
      },
      "outputs": [],
      "source": [
        "def derivative_weights(y, x, bias, weights):\n",
        "    \"\"\" param y: Ground truth label for measurements\n",
        "        param x: vector containing measurements. x = [x1, x2]\n",
        "        param bias: single value\n",
        "        param weight: vector containing model weights. weights= [w1,w2]\n",
        "\n",
        "        return: derivative of cost function with respect to the weights, dw = [dw1, dw2]\n",
        "    \"\"\"\n",
        "\n",
        "    # STUDENT CODE HERE\n",
        "    cost_deriv = ...\n",
        "    # STUDENT CODE ENDS\n",
        "    return cost_deriv"
      ]
    },
    {
      "cell_type": "code",
      "execution_count": null,
      "metadata": {
        "id": "syNaImeK-zVB"
      },
      "outputs": [],
      "source": [
        "def derivative_bias(y, x, bias, weights):\n",
        "    \"\"\" param y: Ground truth label for measurements\n",
        "        param x: vector containing measurements. x = [x1, x2]\n",
        "        param bias: single value\n",
        "        param weight: vector containing model weights. weights= [w1,w2]\n",
        "\n",
        "        return: derivative of cost function with respect to the bias\n",
        "    \"\"\"\n",
        "\n",
        "    # STUDENT CODE HERE\n",
        "    cost_deriv = ...\n",
        "    # STUDENT CODE ENDS\n",
        "    return cost_deriv"
      ]
    },
    {
      "cell_type": "markdown",
      "metadata": {
        "id": "jmXzkur7-zVB"
      },
      "source": [
        "Finally lets fit the logistic regression model with gradient descent across all training data points. As we saw before, gradient descent works by, at each iteration, average the total cost and the derivatives on over the full training set.\n",
        "\n",
        "Implement gradient descent for logistic regression. Experiment with different learning rates and number of iterations to see if you get differnt solutions."
      ]
    },
    {
      "cell_type": "code",
      "execution_count": null,
      "metadata": {
        "id": "ItBiMc4N-zVC"
      },
      "outputs": [],
      "source": [
        "lr = ... # <-- specify learning rate\n",
        "\n",
        "# Initialize weights and bias as random\n",
        "bias = np.random.normal()\n",
        "weights = np.random.normal(size = len(x[0]))\n",
        "\n",
        "\n",
        "number_of_iterations = ... # <-- number of iterations to perform gradient descent\n",
        "\n",
        "# Loop through training data and update the weights at each iteration\n",
        "\n",
        "for it in range(number_of_iterations):\n",
        "# .. Code for gradient descent for logistic regression\n",
        "    # STUDENT CODE HERE\n",
        "\n",
        "\n",
        "\n",
        "\n",
        "\n",
        "    # STUDENT CODE ENDS\n",
        "\n",
        "    print('iteration: ', it, ' cost: ', cost) # In this case the variable for the current cost is called \"cost\""
      ]
    },
    {
      "cell_type": "code",
      "execution_count": null,
      "metadata": {
        "id": "o9JYhWuk-zVC"
      },
      "outputs": [],
      "source": [
        "predicted = []\n",
        "for i in range(len(x)):\n",
        "    yhat = z_x(x[i], bias, weights)\n",
        "    predicted.append(round(yhat))\n",
        "\n",
        "print('Accuracy: ', np.sum(np.equal(y,predicted)) / len(predicted))"
      ]
    },
    {
      "cell_type": "markdown",
      "metadata": {
        "id": "32mLKv_l-zVC"
      },
      "source": [
        "Let us plot the decision boundary for the new weights:"
      ]
    },
    {
      "cell_type": "code",
      "execution_count": null,
      "metadata": {
        "id": "byODATS--zVD"
      },
      "outputs": [],
      "source": [
        "x_values = x[:,0]\n",
        "y_values = - (bias + weights[0]*x_values) / weights[1]\n",
        "\n",
        "plt.figure()\n",
        "for label in np.unique(y):\n",
        "    plt.scatter(x[:,0][y==label],x[:,1][y==label], label = data.target_names[label])\n",
        "plt.plot(x_values, y_values, label='Decision Boundary')\n",
        "plt.legend()\n",
        "plt.show()"
      ]
    }
  ],
  "metadata": {
    "kernelspec": {
      "display_name": "venv",
      "language": "python",
      "name": "python3"
    },
    "language_info": {
      "codemirror_mode": {
        "name": "ipython",
        "version": 3
      },
      "file_extension": ".py",
      "mimetype": "text/x-python",
      "name": "python",
      "nbconvert_exporter": "python",
      "pygments_lexer": "ipython3",
      "version": "3.12.4"
    },
    "colab": {
      "provenance": []
    }
  },
  "nbformat": 4,
  "nbformat_minor": 0
}