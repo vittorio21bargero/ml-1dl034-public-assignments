{
  "cells": [
    {
      "cell_type": "markdown",
      "metadata": {
        "id": "TGmLTuII-aAh"
      },
      "source": [
        "# Tweet classification with naive bayes\n",
        "\n",
        "For this notebook we are going to implement a naive bayes classifier for classifying positive or negative based on the words in the tweet. Recall that for two events A and B the bayes theorem says\n",
        "\n",
        "$$ P(A|B) = \\frac{P(B|A)P(A)}{P(B)} $$\n",
        "\n",
        "where P(A) and P(B) is the ***class probabilities*** and P(B|A) is called ***conditional probabilities***. this gives us the probability of A happening, given that B has occurred. So as an example if we want to find the probability of \"is this a positive tweet given that it contains the word \"good\" \" we will obtain the following\n",
        "\n",
        "$$ P(\\text{``positive\"}|\\text{``good\" in tweet}) = \\frac{P(\\text{``good\" in tweet}|\\text{``positive\"})P(\\text{``positive\"})}{P(\\text{``good\" in tweet})} $$\n",
        "\n",
        "This means that to find the probability of \"is this a positive tweet given that it contains the word \"good\" \" we need the probability of \"good\" being in a positive tweet, the probability of a tweet being positive and the probability of \"good\" being in a tweet.\n",
        "\n",
        "Similarly, if we want to obtain the opposite \"is this a negative tweet given that it contains the word \"boring\" \"\n",
        "we get\n",
        "\n",
        "$$ P(\\text{``negative\"}|\\text{``boring\" in tweet}) = \\frac{P(\\text{``boring\" in tweet}|\\text{``negative\"})P(\\text{``negative\"})}{P(\\text{``boring\" in tweet})} $$\n",
        "\n",
        "where we need the probability of \"boring\" being in a negative tweet, the probability of a tweet negative being and the probability of \"boring\" being in a tweet.\n",
        "\n",
        "We can now build a classifier where we compare those two probabilities and whichever is the larger one it's classified as\n",
        "\n",
        "if P(\"positive\"|\"good\" in tweet) $>$ P(\"negative\"|\"boring\" in tweet)\n",
        "    \n",
        "   Tweet is positive\n",
        "\n",
        "else\n",
        "   \n",
        "   Tweet is negative\n",
        "\n",
        "Now let's expand this to handle multiple features and put the Naive assumption into bayes theroem. This means that if features are independent we have\n",
        "\n",
        "$$ P(A,B) = P(A)P(B) $$\n",
        "\n",
        "This gives us:\n",
        "\n",
        "$$ P(A|b_1,b_2,...,b_n) = \\frac{P(b_1|A)P(b_2|A)...P(b_n|A)P(A)}{P(b_1)P(b_2)...P(b_n)} $$\n",
        "\n",
        "or\n",
        "\n",
        "$$ P(A|b_1,b_2,...,b_n) = \\frac{\\prod_i^nP(b_i|A)P(A)}{P(b_1)P(b_2)...P(b_n)} $$\n",
        "\n",
        "\n",
        "So with our previous example expanded with more words \"is this a positive tweet given that it contains the word \"good\" and \"interesting\" \" gives us\n",
        "\n",
        "$$ P(\\text{``positive\"}|\\text{``good\", ``interesting\" in tweet}) = \\frac{P(\\text{``good\" in tweet}|\\text{``positive\"})P(\\text{``interesting\" in tweet}|\\text{``positive\"})P(\\text{``positive\"})}{P(\\text{``good\" in tweet})P(\\text{``interesting\" in tweet})} $$\n",
        "\n",
        "As you can see the denominator remains constant which means we can remove it and the final classifier end up\n",
        "\n",
        "$$y = argmax_A P(A)\\prod_i^nP(b_i|A) $$"
      ]
    },
    {
      "cell_type": "markdown",
      "metadata": {
        "id": "9A227dex-aAk"
      },
      "source": [
        "The dataset that you will be working with can be downloaded from the following link: https://uppsala.instructure.com/courses/66466/files"
      ]
    },
    {
      "cell_type": "code",
      "execution_count": 6,
      "metadata": {
        "ExecuteTime": {
          "end_time": "2024-01-07T13:37:14.983555600Z",
          "start_time": "2024-01-07T13:37:13.641527800Z"
        },
        "id": "nX86B9UG-aAk"
      },
      "outputs": [],
      "source": [
        "#stuff to import\n",
        "import pandas as pd\n",
        "import numpy as np\n",
        "from sklearn.model_selection import train_test_split"
      ]
    },
    {
      "cell_type": "markdown",
      "metadata": {
        "id": "imNNP9_S-aAl"
      },
      "source": [
        "#### Load the data"
      ]
    },
    {
      "cell_type": "code",
      "execution_count": 8,
      "metadata": {
        "ExecuteTime": {
          "end_time": "2024-01-07T13:59:08.449137900Z",
          "start_time": "2024-01-07T13:59:07.974610Z"
        },
        "colab": {
          "base_uri": "https://localhost:8080/",
          "height": 423
        },
        "id": "T61F_B1E-aAl",
        "outputId": "2c5469ec-f9a5-4333-c3e9-1866ba0941d4"
      },
      "outputs": [
        {
          "output_type": "execute_result",
          "data": {
            "text/plain": [
              "        Unnamed: 0  sentiment  \\\n",
              "0                0          0   \n",
              "1                1          0   \n",
              "2                2          1   \n",
              "3                3          0   \n",
              "4                4          0   \n",
              "...            ...        ...   \n",
              "199374      199995          1   \n",
              "199375      199996          1   \n",
              "199376      199997          0   \n",
              "199377      199998          1   \n",
              "199378      199999          1   \n",
              "\n",
              "                                                    tweet  \\\n",
              "0       Hanging out with my friend waiting for a rain ...   \n",
              "1                        yesdir... layin not feelin good    \n",
              "2                                       Hae a nice night    \n",
              "3                   Tay...where are you? miss you SO bad    \n",
              "4                                   @NeilMcDaid shizer!     \n",
              "...                                                   ...   \n",
              "199374            Eating cobb salad w my Patricia at CF.    \n",
              "199375  @hallowed_ground ever been to fremont? You cou...   \n",
              "199376  @StacyLynn1985 as far as anything to scrape th...   \n",
              "199377  ksh scripting today to produce html code to di...   \n",
              "199378               @frelle  Ohhh I've love a Chai too!    \n",
              "\n",
              "                                         processed_tweets  \n",
              "0       anging friend waiting rain band looking huge s...  \n",
              "1                                 esdir layin feelin good  \n",
              "2                                              nice night  \n",
              "3                                            aywhere miss  \n",
              "4                                       neilmcdaid shizer  \n",
              "...                                                   ...  \n",
              "199374                  ating cobb salad patricia compare  \n",
              "199375             hallowedground ever fremont could help  \n",
              "199376           stacylynn1985 anything scrape teeth clue  \n",
              "199377  scripting today produce html code display pgra...  \n",
              "199378                              frelle ohhh love chai  \n",
              "\n",
              "[199379 rows x 4 columns]"
            ],
            "text/html": [
              "\n",
              "  <div id=\"df-7c2bf584-a165-47a8-9f0d-35dfa078d6b0\" class=\"colab-df-container\">\n",
              "    <div>\n",
              "<style scoped>\n",
              "    .dataframe tbody tr th:only-of-type {\n",
              "        vertical-align: middle;\n",
              "    }\n",
              "\n",
              "    .dataframe tbody tr th {\n",
              "        vertical-align: top;\n",
              "    }\n",
              "\n",
              "    .dataframe thead th {\n",
              "        text-align: right;\n",
              "    }\n",
              "</style>\n",
              "<table border=\"1\" class=\"dataframe\">\n",
              "  <thead>\n",
              "    <tr style=\"text-align: right;\">\n",
              "      <th></th>\n",
              "      <th>Unnamed: 0</th>\n",
              "      <th>sentiment</th>\n",
              "      <th>tweet</th>\n",
              "      <th>processed_tweets</th>\n",
              "    </tr>\n",
              "  </thead>\n",
              "  <tbody>\n",
              "    <tr>\n",
              "      <th>0</th>\n",
              "      <td>0</td>\n",
              "      <td>0</td>\n",
              "      <td>Hanging out with my friend waiting for a rain ...</td>\n",
              "      <td>anging friend waiting rain band looking huge s...</td>\n",
              "    </tr>\n",
              "    <tr>\n",
              "      <th>1</th>\n",
              "      <td>1</td>\n",
              "      <td>0</td>\n",
              "      <td>yesdir... layin not feelin good</td>\n",
              "      <td>esdir layin feelin good</td>\n",
              "    </tr>\n",
              "    <tr>\n",
              "      <th>2</th>\n",
              "      <td>2</td>\n",
              "      <td>1</td>\n",
              "      <td>Hae a nice night</td>\n",
              "      <td>nice night</td>\n",
              "    </tr>\n",
              "    <tr>\n",
              "      <th>3</th>\n",
              "      <td>3</td>\n",
              "      <td>0</td>\n",
              "      <td>Tay...where are you? miss you SO bad</td>\n",
              "      <td>aywhere miss</td>\n",
              "    </tr>\n",
              "    <tr>\n",
              "      <th>4</th>\n",
              "      <td>4</td>\n",
              "      <td>0</td>\n",
              "      <td>@NeilMcDaid shizer!</td>\n",
              "      <td>neilmcdaid shizer</td>\n",
              "    </tr>\n",
              "    <tr>\n",
              "      <th>...</th>\n",
              "      <td>...</td>\n",
              "      <td>...</td>\n",
              "      <td>...</td>\n",
              "      <td>...</td>\n",
              "    </tr>\n",
              "    <tr>\n",
              "      <th>199374</th>\n",
              "      <td>199995</td>\n",
              "      <td>1</td>\n",
              "      <td>Eating cobb salad w my Patricia at CF.</td>\n",
              "      <td>ating cobb salad patricia compare</td>\n",
              "    </tr>\n",
              "    <tr>\n",
              "      <th>199375</th>\n",
              "      <td>199996</td>\n",
              "      <td>1</td>\n",
              "      <td>@hallowed_ground ever been to fremont? You cou...</td>\n",
              "      <td>hallowedground ever fremont could help</td>\n",
              "    </tr>\n",
              "    <tr>\n",
              "      <th>199376</th>\n",
              "      <td>199997</td>\n",
              "      <td>0</td>\n",
              "      <td>@StacyLynn1985 as far as anything to scrape th...</td>\n",
              "      <td>stacylynn1985 anything scrape teeth clue</td>\n",
              "    </tr>\n",
              "    <tr>\n",
              "      <th>199377</th>\n",
              "      <td>199998</td>\n",
              "      <td>1</td>\n",
              "      <td>ksh scripting today to produce html code to di...</td>\n",
              "      <td>scripting today produce html code display pgra...</td>\n",
              "    </tr>\n",
              "    <tr>\n",
              "      <th>199378</th>\n",
              "      <td>199999</td>\n",
              "      <td>1</td>\n",
              "      <td>@frelle  Ohhh I've love a Chai too!</td>\n",
              "      <td>frelle ohhh love chai</td>\n",
              "    </tr>\n",
              "  </tbody>\n",
              "</table>\n",
              "<p>199379 rows × 4 columns</p>\n",
              "</div>\n",
              "    <div class=\"colab-df-buttons\">\n",
              "\n",
              "  <div class=\"colab-df-container\">\n",
              "    <button class=\"colab-df-convert\" onclick=\"convertToInteractive('df-7c2bf584-a165-47a8-9f0d-35dfa078d6b0')\"\n",
              "            title=\"Convert this dataframe to an interactive table.\"\n",
              "            style=\"display:none;\">\n",
              "\n",
              "  <svg xmlns=\"http://www.w3.org/2000/svg\" height=\"24px\" viewBox=\"0 -960 960 960\">\n",
              "    <path d=\"M120-120v-720h720v720H120Zm60-500h600v-160H180v160Zm220 220h160v-160H400v160Zm0 220h160v-160H400v160ZM180-400h160v-160H180v160Zm440 0h160v-160H620v160ZM180-180h160v-160H180v160Zm440 0h160v-160H620v160Z\"/>\n",
              "  </svg>\n",
              "    </button>\n",
              "\n",
              "  <style>\n",
              "    .colab-df-container {\n",
              "      display:flex;\n",
              "      gap: 12px;\n",
              "    }\n",
              "\n",
              "    .colab-df-convert {\n",
              "      background-color: #E8F0FE;\n",
              "      border: none;\n",
              "      border-radius: 50%;\n",
              "      cursor: pointer;\n",
              "      display: none;\n",
              "      fill: #1967D2;\n",
              "      height: 32px;\n",
              "      padding: 0 0 0 0;\n",
              "      width: 32px;\n",
              "    }\n",
              "\n",
              "    .colab-df-convert:hover {\n",
              "      background-color: #E2EBFA;\n",
              "      box-shadow: 0px 1px 2px rgba(60, 64, 67, 0.3), 0px 1px 3px 1px rgba(60, 64, 67, 0.15);\n",
              "      fill: #174EA6;\n",
              "    }\n",
              "\n",
              "    .colab-df-buttons div {\n",
              "      margin-bottom: 4px;\n",
              "    }\n",
              "\n",
              "    [theme=dark] .colab-df-convert {\n",
              "      background-color: #3B4455;\n",
              "      fill: #D2E3FC;\n",
              "    }\n",
              "\n",
              "    [theme=dark] .colab-df-convert:hover {\n",
              "      background-color: #434B5C;\n",
              "      box-shadow: 0px 1px 3px 1px rgba(0, 0, 0, 0.15);\n",
              "      filter: drop-shadow(0px 1px 2px rgba(0, 0, 0, 0.3));\n",
              "      fill: #FFFFFF;\n",
              "    }\n",
              "  </style>\n",
              "\n",
              "    <script>\n",
              "      const buttonEl =\n",
              "        document.querySelector('#df-7c2bf584-a165-47a8-9f0d-35dfa078d6b0 button.colab-df-convert');\n",
              "      buttonEl.style.display =\n",
              "        google.colab.kernel.accessAllowed ? 'block' : 'none';\n",
              "\n",
              "      async function convertToInteractive(key) {\n",
              "        const element = document.querySelector('#df-7c2bf584-a165-47a8-9f0d-35dfa078d6b0');\n",
              "        const dataTable =\n",
              "          await google.colab.kernel.invokeFunction('convertToInteractive',\n",
              "                                                    [key], {});\n",
              "        if (!dataTable) return;\n",
              "\n",
              "        const docLinkHtml = 'Like what you see? Visit the ' +\n",
              "          '<a target=\"_blank\" href=https://colab.research.google.com/notebooks/data_table.ipynb>data table notebook</a>'\n",
              "          + ' to learn more about interactive tables.';\n",
              "        element.innerHTML = '';\n",
              "        dataTable['output_type'] = 'display_data';\n",
              "        await google.colab.output.renderOutput(dataTable, element);\n",
              "        const docLink = document.createElement('div');\n",
              "        docLink.innerHTML = docLinkHtml;\n",
              "        element.appendChild(docLink);\n",
              "      }\n",
              "    </script>\n",
              "  </div>\n",
              "\n",
              "\n",
              "<div id=\"df-f509d917-1371-4bd1-a0b1-715354d209e7\">\n",
              "  <button class=\"colab-df-quickchart\" onclick=\"quickchart('df-f509d917-1371-4bd1-a0b1-715354d209e7')\"\n",
              "            title=\"Suggest charts\"\n",
              "            style=\"display:none;\">\n",
              "\n",
              "<svg xmlns=\"http://www.w3.org/2000/svg\" height=\"24px\"viewBox=\"0 0 24 24\"\n",
              "     width=\"24px\">\n",
              "    <g>\n",
              "        <path d=\"M19 3H5c-1.1 0-2 .9-2 2v14c0 1.1.9 2 2 2h14c1.1 0 2-.9 2-2V5c0-1.1-.9-2-2-2zM9 17H7v-7h2v7zm4 0h-2V7h2v10zm4 0h-2v-4h2v4z\"/>\n",
              "    </g>\n",
              "</svg>\n",
              "  </button>\n",
              "\n",
              "<style>\n",
              "  .colab-df-quickchart {\n",
              "      --bg-color: #E8F0FE;\n",
              "      --fill-color: #1967D2;\n",
              "      --hover-bg-color: #E2EBFA;\n",
              "      --hover-fill-color: #174EA6;\n",
              "      --disabled-fill-color: #AAA;\n",
              "      --disabled-bg-color: #DDD;\n",
              "  }\n",
              "\n",
              "  [theme=dark] .colab-df-quickchart {\n",
              "      --bg-color: #3B4455;\n",
              "      --fill-color: #D2E3FC;\n",
              "      --hover-bg-color: #434B5C;\n",
              "      --hover-fill-color: #FFFFFF;\n",
              "      --disabled-bg-color: #3B4455;\n",
              "      --disabled-fill-color: #666;\n",
              "  }\n",
              "\n",
              "  .colab-df-quickchart {\n",
              "    background-color: var(--bg-color);\n",
              "    border: none;\n",
              "    border-radius: 50%;\n",
              "    cursor: pointer;\n",
              "    display: none;\n",
              "    fill: var(--fill-color);\n",
              "    height: 32px;\n",
              "    padding: 0;\n",
              "    width: 32px;\n",
              "  }\n",
              "\n",
              "  .colab-df-quickchart:hover {\n",
              "    background-color: var(--hover-bg-color);\n",
              "    box-shadow: 0 1px 2px rgba(60, 64, 67, 0.3), 0 1px 3px 1px rgba(60, 64, 67, 0.15);\n",
              "    fill: var(--button-hover-fill-color);\n",
              "  }\n",
              "\n",
              "  .colab-df-quickchart-complete:disabled,\n",
              "  .colab-df-quickchart-complete:disabled:hover {\n",
              "    background-color: var(--disabled-bg-color);\n",
              "    fill: var(--disabled-fill-color);\n",
              "    box-shadow: none;\n",
              "  }\n",
              "\n",
              "  .colab-df-spinner {\n",
              "    border: 2px solid var(--fill-color);\n",
              "    border-color: transparent;\n",
              "    border-bottom-color: var(--fill-color);\n",
              "    animation:\n",
              "      spin 1s steps(1) infinite;\n",
              "  }\n",
              "\n",
              "  @keyframes spin {\n",
              "    0% {\n",
              "      border-color: transparent;\n",
              "      border-bottom-color: var(--fill-color);\n",
              "      border-left-color: var(--fill-color);\n",
              "    }\n",
              "    20% {\n",
              "      border-color: transparent;\n",
              "      border-left-color: var(--fill-color);\n",
              "      border-top-color: var(--fill-color);\n",
              "    }\n",
              "    30% {\n",
              "      border-color: transparent;\n",
              "      border-left-color: var(--fill-color);\n",
              "      border-top-color: var(--fill-color);\n",
              "      border-right-color: var(--fill-color);\n",
              "    }\n",
              "    40% {\n",
              "      border-color: transparent;\n",
              "      border-right-color: var(--fill-color);\n",
              "      border-top-color: var(--fill-color);\n",
              "    }\n",
              "    60% {\n",
              "      border-color: transparent;\n",
              "      border-right-color: var(--fill-color);\n",
              "    }\n",
              "    80% {\n",
              "      border-color: transparent;\n",
              "      border-right-color: var(--fill-color);\n",
              "      border-bottom-color: var(--fill-color);\n",
              "    }\n",
              "    90% {\n",
              "      border-color: transparent;\n",
              "      border-bottom-color: var(--fill-color);\n",
              "    }\n",
              "  }\n",
              "</style>\n",
              "\n",
              "  <script>\n",
              "    async function quickchart(key) {\n",
              "      const quickchartButtonEl =\n",
              "        document.querySelector('#' + key + ' button');\n",
              "      quickchartButtonEl.disabled = true;  // To prevent multiple clicks.\n",
              "      quickchartButtonEl.classList.add('colab-df-spinner');\n",
              "      try {\n",
              "        const charts = await google.colab.kernel.invokeFunction(\n",
              "            'suggestCharts', [key], {});\n",
              "      } catch (error) {\n",
              "        console.error('Error during call to suggestCharts:', error);\n",
              "      }\n",
              "      quickchartButtonEl.classList.remove('colab-df-spinner');\n",
              "      quickchartButtonEl.classList.add('colab-df-quickchart-complete');\n",
              "    }\n",
              "    (() => {\n",
              "      let quickchartButtonEl =\n",
              "        document.querySelector('#df-f509d917-1371-4bd1-a0b1-715354d209e7 button');\n",
              "      quickchartButtonEl.style.display =\n",
              "        google.colab.kernel.accessAllowed ? 'block' : 'none';\n",
              "    })();\n",
              "  </script>\n",
              "</div>\n",
              "\n",
              "  <div id=\"id_093fa262-b8a5-40e3-b80f-b7dec44196ed\">\n",
              "    <style>\n",
              "      .colab-df-generate {\n",
              "        background-color: #E8F0FE;\n",
              "        border: none;\n",
              "        border-radius: 50%;\n",
              "        cursor: pointer;\n",
              "        display: none;\n",
              "        fill: #1967D2;\n",
              "        height: 32px;\n",
              "        padding: 0 0 0 0;\n",
              "        width: 32px;\n",
              "      }\n",
              "\n",
              "      .colab-df-generate:hover {\n",
              "        background-color: #E2EBFA;\n",
              "        box-shadow: 0px 1px 2px rgba(60, 64, 67, 0.3), 0px 1px 3px 1px rgba(60, 64, 67, 0.15);\n",
              "        fill: #174EA6;\n",
              "      }\n",
              "\n",
              "      [theme=dark] .colab-df-generate {\n",
              "        background-color: #3B4455;\n",
              "        fill: #D2E3FC;\n",
              "      }\n",
              "\n",
              "      [theme=dark] .colab-df-generate:hover {\n",
              "        background-color: #434B5C;\n",
              "        box-shadow: 0px 1px 3px 1px rgba(0, 0, 0, 0.15);\n",
              "        filter: drop-shadow(0px 1px 2px rgba(0, 0, 0, 0.3));\n",
              "        fill: #FFFFFF;\n",
              "      }\n",
              "    </style>\n",
              "    <button class=\"colab-df-generate\" onclick=\"generateWithVariable('tweets')\"\n",
              "            title=\"Generate code using this dataframe.\"\n",
              "            style=\"display:none;\">\n",
              "\n",
              "  <svg xmlns=\"http://www.w3.org/2000/svg\" height=\"24px\"viewBox=\"0 0 24 24\"\n",
              "       width=\"24px\">\n",
              "    <path d=\"M7,19H8.4L18.45,9,17,7.55,7,17.6ZM5,21V16.75L18.45,3.32a2,2,0,0,1,2.83,0l1.4,1.43a1.91,1.91,0,0,1,.58,1.4,1.91,1.91,0,0,1-.58,1.4L9.25,21ZM18.45,9,17,7.55Zm-12,3A5.31,5.31,0,0,0,4.9,8.1,5.31,5.31,0,0,0,1,6.5,5.31,5.31,0,0,0,4.9,4.9,5.31,5.31,0,0,0,6.5,1,5.31,5.31,0,0,0,8.1,4.9,5.31,5.31,0,0,0,12,6.5,5.46,5.46,0,0,0,6.5,12Z\"/>\n",
              "  </svg>\n",
              "    </button>\n",
              "    <script>\n",
              "      (() => {\n",
              "      const buttonEl =\n",
              "        document.querySelector('#id_093fa262-b8a5-40e3-b80f-b7dec44196ed button.colab-df-generate');\n",
              "      buttonEl.style.display =\n",
              "        google.colab.kernel.accessAllowed ? 'block' : 'none';\n",
              "\n",
              "      buttonEl.onclick = () => {\n",
              "        google.colab.notebook.generateWithVariable('tweets');\n",
              "      }\n",
              "      })();\n",
              "    </script>\n",
              "  </div>\n",
              "\n",
              "    </div>\n",
              "  </div>\n"
            ],
            "application/vnd.google.colaboratory.intrinsic+json": {
              "type": "dataframe",
              "variable_name": "tweets"
            }
          },
          "metadata": {},
          "execution_count": 8
        }
      ],
      "source": [
        "#caricamento del file\n",
        "tweets=pd.read_csv('data_for_theoretical_notebook_1.csv',encoding='latin')\n",
        "tweets"
      ]
    },
    {
      "cell_type": "markdown",
      "metadata": {
        "id": "DweRcNb3-aAl"
      },
      "source": [
        "Now lets split the data into a training set and a test set using scikit-learns train_test_split function\n",
        "https://scikit-learn.org/stable/modules/generated/sklearn.model_selection.train_test_split.html"
      ]
    },
    {
      "cell_type": "code",
      "execution_count": 9,
      "metadata": {
        "ExecuteTime": {
          "end_time": "2024-01-07T13:37:59.025504100Z",
          "start_time": "2024-01-07T13:37:59.020482200Z"
        },
        "id": "f-0FpeBJ-aAm"
      },
      "outputs": [],
      "source": [
        "#divido in due dataframe i dati\n",
        "tweets_data = tweets[\"processed_tweets\"] #dataframe per i tweet processati (non prendo i tweet originali perchè contengono errori a palate)\n",
        "tweets_labels = tweets[\"sentiment\"] # dataframe con il semtiment (0 se è negativo 1 se è positivo)\n",
        "\n",
        "#splitto ciascuno dei due dataframe appena creati in due in modo da avere dati per il training e dati per il testing\n",
        "# STUDENT CODE HERE\n",
        "train_tweets, test_tweets = train_test_split(tweets_data, test_size=None, train_size=None, random_state=None, shuffle=True, stratify=None)\n",
        "train_labels, test_labels = train_test_split(tweets_labels, test_size=None, train_size=None, random_state=None, shuffle=True, stratify=None)\n",
        "# STUDENT CODE ENDS"
      ]
    },
    {
      "cell_type": "markdown",
      "metadata": {
        "id": "2MkeP6Q5-aAm"
      },
      "source": [
        "What we need to build our classifier is \"probability of positive tweet\" P(pos) , \"probability of negative tweet\" P(neg), \"probability of word in tweet given tweet is positive\" P(w|pos) and \"probability of word in tweet given tweet is negative\" P(w|neg). Start by calculating the probability that a tweet is positive and negative respectively"
      ]
    },
    {
      "cell_type": "code",
      "execution_count": 10,
      "metadata": {
        "colab": {
          "base_uri": "https://localhost:8080/"
        },
        "id": "yoNbTEHo-aAm",
        "outputId": "08551f70-4f99-4add-c27f-cb97bfd3ae44"
      },
      "outputs": [
        {
          "output_type": "stream",
          "name": "stdout",
          "text": [
            "0.49971662010542733\n",
            "0.5002833798945727\n"
          ]
        }
      ],
      "source": [
        "# STUDENT CODE HERE\n",
        "# STEP A) PER L'UTILIZZO DI BAYES\n",
        "P_pos = tweets['sentiment'].mean()\n",
        "P_neg = 1 - P_pos\n",
        "print(P_pos)\n",
        "print(P_neg)\n",
        "# STUDENT CODE ENDS"
      ]
    },
    {
      "cell_type": "markdown",
      "metadata": {
        "id": "tGlG34gi-aAm"
      },
      "source": [
        "For P(w|pos), P(w|neg) we need to count how many tweets each word occur in. Count the number of tweets each word occurs in and store in the word counter. An entry in the word counter is for instance {'good': 'Pos':150, 'Neg': 10} meaning good occurs in 150 positive tweets and 10 negative tweets. Be aware that we are not interested in calculating multiple occurrences of the same word in the same tweet. Also, we change the labels from 0 for \"Negative\" and 1 for \"Positive\" to \"Neg\" and \"Pos\" respectively. For each word convert it to lower case. You can use Python's [lower](https://www.w3schools.com/python/ref_string_lower.asp). Another handy Python string method is [split](https://www.w3schools.com/python/ref_string_split.asp)."
      ]
    },
    {
      "cell_type": "code",
      "execution_count": 23,
      "metadata": {
        "id": "8-pA_pFm-aAm"
      },
      "outputs": [],
      "source": [
        "#per comodità assegno nei train labels 0 e 1 al rispettivo sentiment\n",
        "new_train_labels = train_labels.replace(0, \"Neg\", regex=True)\n",
        "final_train_labels = new_train_labels.replace(1, \"Pos\", regex=True)\n",
        "\n",
        "    # ... Count number of tweets each word occurs in and store in word_counter where an entry looks like ex. {'word': 'Pos':98, 'Neg':10}\n",
        "    # STUDENT CODE HERE\n",
        "word_counter = {}\n",
        "\n",
        "# per ogni tweet, label (avrei potuto utilizzare qualsiasi altro indice nel ciclo for) presente nei train_tweets e nei train_labels\n",
        "for tweet, label in zip(train_tweets, final_train_labels):\n",
        "\n",
        "    words_in_tweet = set(tweet.lower().split()) #set: rimuove i duplicati  lower: converte in minuscolo #split: divide la stringa (frase completa) in parole se di mezzo c'è uno spazio\n",
        "    for word in words_in_tweet: #il ciclo scorre ogni parola del tweet (sto scorrendo i tweet nel ciclo precedente)\n",
        "        if word not in word_counter:\n",
        "            word_counter[word] = {'Pos': 0, 'Neg': 0} #se la parola non è ancora presente nel word counter la inizializzo con (0,0)\n",
        "        word_counter[word][label] += 1 #mi incrementa il conteggio di 'pos' o 'neg' di 1 il base al label associato al tweet\n",
        "\n",
        "\n",
        "#print(word_counter)\n",
        "\n",
        "\n",
        "\n",
        "    # STUDENT CODE ENDS\n"
      ]
    },
    {
      "cell_type": "markdown",
      "metadata": {
        "id": "-KhvKnW3-aAn"
      },
      "source": [
        "Let's work with a smaller subset of words just to save up some time. Find the 1500 most occuring words in tweet data."
      ]
    },
    {
      "cell_type": "code",
      "execution_count": 12,
      "metadata": {
        "id": "LVhS6R1P-aAn"
      },
      "outputs": [],
      "source": [
        "nr_of_words_to_use = 1500\n",
        "popular_words = sorted(word_counter.items(), key=lambda x: x[1]['Pos'] + x[1]['Neg'], reverse=True)\n",
        "popular_words = [x[0] for x in popular_words[:nr_of_words_to_use]]"
      ]
    },
    {
      "cell_type": "markdown",
      "metadata": {
        "id": "FkX1H0F5-aAn"
      },
      "source": [
        "Now let's compute P(w|pos), P(w|neg) for the popular words"
      ]
    },
    {
      "cell_type": "code",
      "execution_count": 14,
      "metadata": {
        "colab": {
          "base_uri": "https://localhost:8080/"
        },
        "id": "emT5JlEH-aAn",
        "outputId": "34adf8c3-05a0-4468-bdf7-cee3fee53380"
      },
      "outputs": [
        {
          "output_type": "stream",
          "name": "stdout",
          "text": [
            "99633\n",
            "99746\n",
            "{'good': 0.0369757008220168, 'like': 0.0359519436331336, 'today': 0.03163610450352795, 'work': 0.02895626950909839, 'love': 0.02883582748687684, 'time': 0.02860498027761886, 'laughing': 0.026808386779480695, 'loud': 0.026778276273925306, 'know': 0.025182419479489727, 'going': 0.024188772796161915, 'back': 0.02322523661838949, 'really': 0.02113757489988257, 'want': 0.020826433009143556, 'think': 0.019782602149890097, 'night': 0.019491533929521344, 'still': 0.017644756255457528, 'thanks': 0.018287113707305812, 'well': 0.01779530878323447, 'need': 0.017223209177682094, 'much': 0.01715295133138619, 'would': 0.0167815884295364, 'home': 0.01725331968323748, 'miss': 0.01660092539620407, 'make': 0.015848162757319362, 'feel': 0.015085363283249525, 'hope': 0.015426615679543926, 'tomorrow': 0.014954884425842844, 'great': 0.015025142272138749, 'last': 0.015988678449911174, 'morning': 0.014924773920287454, 'though': 0.014543374183252536, 'twitter': 0.014011421918440677, 'haha': 0.013469432818443688, 'right': 0.013359027631407264, 'come': 0.012686559674003593, 'wish': 0.012445675629560487, 'sleep': 0.012265012596228158, 'could': 0.011391807935121897, 'thing': 0.011783244507341945, 'week': 0.011833428683267592, 'tonight': 0.011753134001786557, 'friend': 0.011923760199933757, 'sorry': 0.01100037136290185, 'hour': 0.010438308592534602, 'look': 0.010247608724017143, 'people': 0.010428271757349472, 'better': 0.010578824285126414, 'happy': 0.010347977075868438, 'nice': 0.010629008461052062, 'wait': 0.01027771922957253, 'yeah': 0.009384440898096012, 'hate': 0.00976584063513093, 'getting': 0.00944466190920679, 'even': 0.008922746479580058, 'school': 0.008611604588841047, 'thank': 0.008591530918470787, 'weekend': 0.00853130990736001, 'soon': 0.008521273072174882, 'take': 0.008260315357361516, 'next': 0.008270352192546647, 'show': 0.008290425862916905, 'never': 0.00837072054439794, 'dont': 0.007838768279586081, 'awesome': 0.007638031575883493, 'life': 0.007648068411068622, 'little': 0.007698252586994269, 'year': 0.007939136631437376, 'cant': 0.007547700059217327, 'long': 0.0077183262573645274, 'tweet': 0.0074473317073660335, 'best': 0.007979283972177892, 'movie': 0.00680497425551775, 'first': 0.00715626348699728, 'watch': 0.00679493742033262, 'sick': 0.007116116146256762, 'sure': 0.006945489948109562, 'always': 0.00697560045366495, 'everyone': 0.006423574518482832, 'tired': 0.006584163881444903, 'please': 0.0069956741240352095, 'already': 0.006343279837001796, 'girl': 0.006704605903666456, 'find': 0.007065931970331115, 'working': 0.006273021990705891, 'suck': 0.0065339797055192555, 'something': 0.006584163881444903, 'done': 0.006262985155520762, 'feeling': 0.006072285287003302, 'ever': 0.006273021990705891, 'keep': 0.005700922385153513, 'ready': 0.005911695924041231, 'cool': 0.006092358957373561, 'watching': 0.006273021990705891, 'phone': 0.005961880099966879, 'pretty': 0.0059317695944114904, 'made': 0.005670811879598125, 'another': 0.006102395792558691, 'song': 0.005690885549968384, 'thought': 0.00576114339626429, 'hurt': 0.005981953770337137, 'help': 0.005951843264781749, 'went': 0.00559051719811709, 'house': 0.005399817329599631, 'away': 0.005530296187006313, 'till': 0.005771180231449419, 'sound': 0.005530296187006313, 'oing': 0.00523922796663756, 'start': 0.0059217327592263605, 'early': 0.005560406692561701, 'guess': 0.005279375307378077, 'game': 0.005389780494414501, 'looking': 0.0051990806258970425, 'summer': 0.005219154296267301, 'mean': 0.004988307087009324, 'amazing': 0.005088675438860619, 'maybe': 0.004827717724047253, 'baby': 0.005249264801822689, 'tell': 0.005229191131452431, 'left': 0.0051689701203416535, 'someone': 0.005118785944416007, 'lost': 0.004807644053676995, 'follow': 0.0047373862073810885, 'weather': 0.004827717724047253, 'missed': 0.004556723174048759, 'stuff': 0.004466391657382594, 'later': 0.004948159746268807, 'live': 0.004486465327752853, 'coming': 0.004747423042566218, 'nothing': 0.004787570383306736, 'glad': 0.0047072757018257, 'party': 0.004516575833308241, 'rain': 0.0043660233055313, 'trying': 0.0041953971073841, 'exam': 0.0042857286240502645, 'hear': 0.004376060140716429, 'play': 0.0045868336796041475, 'might': 0.0045366495036785, 'since': 0.0041953971073841, 'thats': 0.0045366495036785, 'birthday': 0.004376060140716429, 'give': 0.004225507612939488, 'actually': 0.004556723174048759, 'also': 0.00435598647034617, 'call': 0.004235544448124617, 'hard': 0.004496502162937982, 'head': 0.0042857286240502645, 'luck': 0.0039846235684963816, 'atching': 0.00418536027219897, 'said': 0.00401473407405177, 'around': 0.004175323437013841, 'world': 0.004084991920347676, 'bored': 0.00401473407405177, 'damn': 0.004205433942569229, 'yesterday': 0.0038742183814599583, 'many': 0.003894292051830217, 'excited': 0.0039645498981261225, 'music': 0.0037939236999789227, 'late': 0.0038842552166450874, 'least': 0.004225507612939488, 'must': 0.003854144711089699, 'sunday': 0.003753776359238405, 'friday': 0.0039946604036815115, 'talk': 0.0038641815462748287, 'stop': 0.003824034205534311, 'gone': 0.0037638131944235345, 'cold': 0.0036734816777573695, 'anything': 0.003934439392570734, 'read': 0.0037236658536830168, 'finally': 0.0036232975018317226, 'family': 0.0036935553481276286, 'monday': 0.0037136290184978872, 'month': 0.003783886864793793, 'enjoy': 0.003653408007387111, 'found': 0.0036032238314614635, 'follower': 0.0036333343370168517, 'beautiful': 0.0031917135888711572, 'video': 0.0036032238314614635, 'without': 0.003543002820350687, 'food': 0.003613260666646593, 'leave': 0.003352302951833228, 'wanted': 0.003422560798129134, 'funny': 0.003613260666646593, 'believe': 0.003402487127758875, 'cute': 0.0034125239629440047, 'poor': 0.0035028554796101693, 'book': 0.0036433711722019813, 'forward': 0.003382413457388616, 'check': 0.003352302951833228, 'free': 0.00331215561109271, 'facebook': 0.0037035921833127577, 'iphone': 0.003422560798129134, 'almost': 0.003241897764796804, 'place': 0.003452671303684522, 'missing': 0.003372376622203487, 'making': 0.003372376622203487, 'mine': 0.003452671303684522, 'waiting': 0.0034325976333142634, 'sweet': 0.003231860929611675, 'class': 0.003352302951833228, 'welcome': 0.0033221924462778396, 'hair': 0.0033924502925737456, 'stay': 0.00314152941294551, 'cause': 0.0032017504240562868, 'enough': 0.003372376622203487, 'dinner': 0.0030813084018347335, 'picture': 0.0032218240944265454, 'shit': 0.003241897764796804, 'lunch': 0.0031214557425752513, 'coffee': 0.003161603083315769, 'every': 0.003231860929611675, 'idea': 0.0030511978962793453, 'everything': 0.0031917135888711572, 'update': 0.003231860929611675, 'outside': 0.003091345237019863, 'anyone': 0.0030110505555388275, 'room': 0.0032218240944265454, 'minute': 0.0030813084018347335, 'anymore': 0.00314152941294551, 'real': 0.0029608663796131802, 'totally': 0.0031214557425752513, 'playing': 0.0030411610610942157, 'stupid': 0.0030612347314644744, 'finished': 0.0029909768851685684, 'seen': 0.0027099454999849446, 'woke': 0.0026999086647998155, 'saturday': 0.002950829544428051, 'probably': 0.0028504611925767565, 'money': 0.002760129675910592, 'wrong': 0.0027099454999849446, 'didnt': 0.0027300191703552037, 'brother': 0.0028002770166511096, 'dream': 0.0028002770166511096, 'name': 0.002760129675910592, 'thinking': 0.002760129675910592, 'came': 0.0027099454999849446, 'post': 0.002830387522206498, 'crazy': 0.002719982335170074, 'lovely': 0.0028002770166511096, 'face': 0.002689871829614686, 'hell': 0.0023686931036905443, 'okay': 0.002740056005540333, 'whole': 0.002689871829614686, 'following': 0.0025995403129485213, 'message': 0.0025995403129485213, 'kinda': 0.002740056005540333, 'beach': 0.0025292824666526153, 'hopefully': 0.0025995403129485213, 'fuck': 0.0024389509499864502, 'meet': 0.002549356137022874, 'learned': 0.0024891351259120975, 'heart': 0.002740056005540333, 'part': 0.002479098290726968, 'headache': 0.002509208796282356, 'plan': 0.002408840444431062, 'sister': 0.002509208796282356, 'else': 0.0024690614555418385, 'trip': 0.002719982335170074, 'computer': 0.0024690614555418385, 'rock': 0.0023988036092459325, 'sooo': 0.0024590246203567093, 'about': 0.002308472092579768, 'busy': 0.0023486194333202856, 'true': 0.0024188772796161916, 'problem': 0.0024289141148013207, 'change': 0.0025192456314674858, 'able': 0.0020675880481366617, 'wake': 0.0024188772796161916, 'city': 0.002177993235173085, 'mind': 0.002308472092579768, 'used': 0.0023486194333202856, 'blog': 0.0023686931036905443, 'final': 0.002378729938875674, 'news': 0.0024590246203567093, 'half': 0.0023486194333202856, 'listening': 0.0022783615870243796, 'mother': 0.0023486194333202856, 'word': 0.002218140575913603, 'taking': 0.002198066905543344, 'took': 0.002378729938875674, 'either': 0.0023285457629500265, 'rest': 0.0023686931036905443, 'care': 0.0024590246203567093, 'course': 0.0022883984222095088, 'kind': 0.0022081037407284737, 'full': 0.0025192456314674858, 'break': 0.002308472092579768, 'send': 0.0022984352573946383, 'email': 0.002238214246283862, 'super': 0.0023285457629500265, 'tried': 0.002388766774060803, 'forgot': 0.0019270723555448496, 'internet': 0.0022883984222095088, 'raining': 0.0024188772796161916, 'dude': 0.002147882729617697, 'ticket': 0.002318508927764897, 'annot': 0.002318508927764897, 'shopping': 0.0021177722240623086, 'hahaa': 0.0021880300703582146, 'awww': 0.0021579195648028264, 'office': 0.002147882729617697, 'heard': 0.0022883984222095088, 'quite': 0.002318508927764897, 'pain': 0.002147882729617697, 'wont': 0.002027440707396144, 'link': 0.002147882729617697, 'etting': 0.002127809059247438, 'started': 0.002037477542581273, 'told': 0.00226832475183925, 'remember': 0.002027440707396144, 'drink': 0.002007367037025885, 'site': 0.0022281774110987323, 'season': 0.002147882729617697, 'hehe': 0.00209769855369205, 'open': 0.002027440707396144, 'reply': 0.002167956399987956, 'seeing': 0.002007367037025885, 'appy': 0.0022081037407284737, 'laugh': 0.002077624883321791, 'loved': 0.0019872933666556262, 'reading': 0.00226832475183925, 'reason': 0.0021579195648028264, 'favorite': 0.002007367037025885, 'seems': 0.001957182861100238, 'fine': 0.002077624883321791, 'bring': 0.002057551212951532, 'alone': 0.0019371091907299791, 'talking': 0.0020876617185069204, 'sunny': 0.0019471460259151085, 'photo': 0.0019170355203597202, 'text': 0.002007367037025885, 'eating': 0.002127809059247438, 'called': 0.0019772565314704967, 'move': 0.002027440707396144, 'stuck': 0.0019872933666556262, 'jealous': 0.0019371091907299791, 'fucking': 0.0018969618499894614, 'watched': 0.0017865566629530376, 'hand': 0.0018568145092489436, 'instead': 0.001866851344434073, 'turn': 0.002027440707396144, 'concert': 0.0018367408388786847, 'june': 0.0019872933666556262, 'asleep': 0.0019270723555448496, 'breakfast': 0.0019471460259151085, 'goodnight': 0.0018768881796192025, 'sleeping': 0.0018467776740638143, 'mileycyrus': 0.0019371091907299791, 'using': 0.0019772565314704967, 'online': 0.0017865566629530376, 'lucky': 0.0019872933666556262, 'bought': 0.0017865566629530376, 'boring': 0.0018969618499894614, 'leaving': 0.0019973302018407558, 'hello': 0.0018467776740638143, 'study': 0.001796593498138167, 'crap': 0.0017865566629530376, 'afternoon': 0.0017162988166571317, 'store': 0.0017564461573976494, 'drive': 0.001866851344434073, 'hungry': 0.0016661146407314846, 'seriously': 0.0018367408388786847, 'broke': 0.0018869250148043318, 'anyway': 0.001967219696285367, 'person': 0.0018969618499894614, 'walk': 0.0018467776740638143, 'awake': 0.0017865566629530376, 'running': 0.0016661146407314846, 'couple': 0.0018166671685084259, 'tommcfly': 0.0018267040036935554, 'together': 0.001656077805546355, 'foot': 0.0018568145092489436, 'train': 0.0018367408388786847, 'second': 0.001605893629620708, 'ipod': 0.0016962251462868728, 'star': 0.0018467776740638143, 'laptop': 0.0017162988166571317, 'page': 0.0017464093222125199, 'definitely': 0.0017564461573976494, 'moment': 0.0016962251462868728, 'sore': 0.001676151475916614, 'wonderful': 0.0017664829925827788, 'close': 0.0015055252777694138, 'lady': 0.0017363724870273906, 'high': 0.0017564461573976494, 'finish': 0.001656077805546355, 'town': 0.0016259672999909668, 'knew': 0.0017865566629530376, 'happen': 0.001676151475916614, 'shower': 0.0015958567944355786, 'church': 0.0016360041351760964, 'bday': 0.0017664829925827788, 'mood': 0.0017564461573976494, 'happened': 0.0015055252777694138, 'side': 0.0016360041351760964, 'point': 0.0016962251462868728, 'inally': 0.001585819959250449, 'holiday': 0.0014854516073991549, 'hoping': 0.001415193761103249, 'story': 0.0017464093222125199, 'congrats': 0.0015757831240653197, 'ride': 0.0016661146407314846, 'water': 0.0016360041351760964, 'write': 0.0015055252777694138, 'sitting': 0.001605893629620708, 'album': 0.0015958567944355786, 'test': 0.0015958567944355786, 'meeting': 0.0016360041351760964, 'orning': 0.0015657462888801904, 'visit': 0.0016360041351760964, 'date': 0.0014854516073991549, 'seem': 0.0015657462888801904, 'soooo': 0.0016259672999909668, 'agree': 0.0014854516073991549, 'worry': 0.0014754147722140256, 'starting': 0.001585819959250449, 'dead': 0.001585819959250449, 'youtube': 0.0015055252777694138, 'died': 0.001605893629620708, 'smile': 0.0015958567944355786, 'saying': 0.001515562112954543, 'homework': 0.0014754147722140256, 'award': 0.0014453042666586371, 'account': 0.0013750464203627312, 'hang': 0.0014453042666586371, 'fail': 0.0015757831240653197, 'tour': 0.0014553411018437667, 'short': 0.0013650095851776018, 'listen': 0.001415193761103249, 'episode': 0.0016159304648058375, 'fall': 0.0015255989481396726, 'weird': 0.00139512009073299, 'catch': 0.0015958567944355786, 'three': 0.0015255989481396726, 'supposed': 0.0014754147722140256, 'english': 0.0014252305962883783, 'nite': 0.0015557094536950609, 'wedding': 0.001605893629620708, 'enjoying': 0.001415193761103249, 'ddlovato': 0.001415193761103249, 'interesting': 0.0015255989481396726, 'cream': 0.001415193761103249, 'london': 0.0014854516073991549, 'worst': 0.0014754147722140256, 'card': 0.0014553411018437667, 'worth': 0.001515562112954543, 'dance': 0.0014051569259181196, 'math': 0.001515562112954543, 'broken': 0.0012847149036965663, 'chocolate': 0.001515562112954543, 'band': 0.0013549727499924723, 'pick': 0.0014051569259181196, 'mister': 0.0014553411018437667, 'throat': 0.0014051569259181196, 'fast': 0.0014352674314735078, 'oday': 0.0015255989481396726, 'clean': 0.0013750464203627312, 'evening': 0.0015055252777694138, 'forget': 0.0013348990796222136, 'istening': 0.0014954884425842842, 'line': 0.001415193761103249, 'past': 0.0012345307277709192, 'wonder': 0.0012646412333263077, 'chance': 0.0013148254092519547, 'sometimes': 0.0012646412333263077, 'hank': 0.001344935914807343, 'direct': 0.0012847149036965663, 'cousin': 0.0013750464203627312, 'followfriday': 0.0013850832555478607, 'park': 0.001415193761103249, 'sigh': 0.0013850832555478607, 'window': 0.001254604398141178, 'rying': 0.0012947517388816959, 'horrible': 0.001134162375919625, 'figure': 0.0011943833870304015, 'team': 0.0013850832555478607, 'dear': 0.0014051569259181196, 'gave': 0.001415193761103249, 'comment': 0.0013850832555478607, 'paper': 0.001204420222215531, 'perfect': 0.0012144570574006603, 'unfortunately': 0.001415193761103249, 'doesnt': 0.0013650095851776018, 'goin': 0.001344935914807343, 'tweeting': 0.0013047885740668252, 'list': 0.001415193761103249, 'beer': 0.0013750464203627312, 'sent': 0.001274678068511437, 'question': 0.0013549727499924723, 'writing': 0.001324862244437084, 'looked': 0.0011241255407344955, 'scared': 0.0013549727499924723, 'rather': 0.001344935914807343, 'fell': 0.0014252305962883783, 'black': 0.0013348990796222136, 'flight': 0.001274678068511437, 'earlier': 0.0011843465518452721, 'finger': 0.001324862244437084, 'eading': 0.0013348990796222136, 'shop': 0.001274678068511437, 'sunshine': 0.0013047885740668252, 'camera': 0.00139512009073299, 'studying': 0.0011743097166601428, 'jonas': 0.0011943833870304015, 'understand': 0.0011441992111047544, 'slow': 0.0012947517388816959, 'pool': 0.0012947517388816959, 'number': 0.001274678068511437, 'website': 0.0012144570574006603, 'hows': 0.0011140887055493662, 'york': 0.001204420222215531, 'easy': 0.0012646412333263077, 'tuesday': 0.0011140887055493662, 'plus': 0.001274678068511437, 'college': 0.0012646412333263077, 'body': 0.0012847149036965663, 'spend': 0.0012345307277709192, 'huge': 0.0012144570574006603, 'answer': 0.0013047885740668252, 'airport': 0.0011441992111047544, 'loving': 0.001154236046289884, 'dress': 0.0011441992111047544, 'cheer': 0.0012947517388816959, 'parent': 0.0010438308592534602, 'worse': 0.001134162375919625, 'blue': 0.0010739413648088484, 'different': 0.0013650095851776018, 'vote': 0.0011943833870304015, 'moon': 0.0011843465518452721, 'light': 0.0011642728814750133, 'myspace': 0.0011743097166601428, 'fair': 0.0010739413648088484, 'upset': 0.001154236046289884, 'load': 0.0011743097166601428, 'eeling': 0.0011241255407344955, 'aking': 0.0012445675629560488, 'voice': 0.0011843465518452721, 'havent': 0.0011843465518452721, 'kill': 0.001204420222215531, 'project': 0.0012345307277709192, 'longer': 0.0011441992111047544, 'shot': 0.0012646412333263077, 'moving': 0.0011642728814750133, 'power': 0.001154236046289884, 'special': 0.0012144570574006603, 'vacation': 0.0010337940240683309, 'nope': 0.001134162375919625, 'support': 0.0012847149036965663, 'join': 0.0012646412333263077, 'babe': 0.0011943833870304015, 'chat': 0.001063904529623719, 'green': 0.0010940150351791073, 'inside': 0.0010237571888832013, 'cake': 0.0010237571888832013, 'kidding': 0.001083978199993978, 'possible': 0.0012144570574006603, 'woman': 0.001083978199993978, 'beat': 0.001134162375919625, 'heading': 0.0011040518703642368, 'hospital': 0.0011140887055493662, 'eally': 0.0009033151666616483, 'thursday': 0.0010940150351791073, 'wear': 0.0010438308592534602, 'forever': 0.0009735730129575542, 'white': 0.0011140887055493662, 'exactly': 0.0010337940240683309, 'safe': 0.0011140887055493662, 'especially': 0.00122449389258579, 'chicken': 0.0011140887055493662, 'sign': 0.0010237571888832013, 'july': 0.001063904529623719, 'isnt': 0.00122449389258579, 'learn': 0.0010237571888832013, 'felt': 0.0010438308592534602, 'nother': 0.0010538676944385895, 'sims': 0.0010036835185129424, 'spent': 0.0009836098481426836, 'club': 0.0011241255407344955, 'warm': 0.0010538676944385895, 'except': 0.0009836098481426836, 'shame': 0.0009936466833278131, 'wine': 0.0009735730129575542, 'boyfriend': 0.0010438308592534602, 'bike': 0.0010940150351791073, 'doctor': 0.001013720353698072, 'hill': 0.0009735730129575542, 'sadly': 0.0010739413648088484, 'needed': 0.0010538676944385895, 'service': 0.001063904529623719, 'small': 0.0009936466833278131, 'shoe': 0.0011441992111047544, 'slept': 0.0011241255407344955, 'orking': 0.0009334256722170365, 'garden': 0.0011040518703642368, 'aving': 0.001013720353698072, 'miley': 0.0009534993425872954, 'cleaning': 0.001013720353698072, 'driving': 0.0009635361777724248, 'father': 0.0010036835185129424, 'itting': 0.0008932783314765188, 'what': 0.0009334256722170365, 'aiting': 0.0011642728814750133, 'save': 0.0011843465518452721, 'case': 0.0010337940240683309, 'company': 0.0009836098481426836, 'sleepy': 0.001083978199993978, 'liked': 0.0009735730129575542, 'shirt': 0.0010237571888832013, 'lazy': 0.001013720353698072, 'google': 0.0008832414962913894, 'goodbye': 0.0008932783314765188, 'sale': 0.0009635361777724248, 'storm': 0.0009033151666616483, 'note': 0.0011441992111047544, 'fact': 0.0009735730129575542, 'application': 0.0009434625074021659, 'david': 0.0009836098481426836, 'lonely': 0.0010036835185129424, 'stomach': 0.0010538676944385895, 'apparently': 0.0009534993425872954, 'whats': 0.0009434625074021659, 'near': 0.0009434625074021659, 'scary': 0.0009836098481426836, 'hold': 0.0009936466833278131, 'annoying': 0.0009635361777724248, 'issue': 0.0009836098481426836, 'event': 0.0009534993425872954, 'decided': 0.0009434625074021659, 'pizza': 0.0009936466833278131, 'shall': 0.0010237571888832013, 'taken': 0.0008129836499954834, 'living': 0.0010036835185129424, 'share': 0.0009936466833278131, 'guitar': 0.0010538676944385895, 'film': 0.0009735730129575542, 'order': 0.0009635361777724248, 'road': 0.0009735730129575542, 'meant': 0.0008330573203657423, 'wondering': 0.0009836098481426836, 'absolutely': 0.0009936466833278131, 'hotel': 0.0009334256722170365, 'played': 0.0009534993425872954, 'killing': 0.0008531309907360012, 'ahead': 0.0009033151666616483, 'drinking': 0.0009233888370319071, 'radio': 0.0008330573203657423, 'apple': 0.0009836098481426836, 'exciting': 0.0010036835185129424, 'round': 0.0009936466833278131, 'front': 0.000802946814810354, 'happens': 0.0011441992111047544, 'yall': 0.001063904529623719, 'rainy': 0.001013720353698072, 'laying': 0.0008832414962913894, 'glass': 0.0009434625074021659, 'others': 0.0009836098481426836, 'sold': 0.0009033151666616483, 'country': 0.001013720353698072, 'lose': 0.0009334256722170365, 'gorgeous': 0.0008932783314765188, 'wednesday': 0.0007929099796252245, 'bitch': 0.0010036835185129424, 'passed': 0.0009233888370319071, 'tummy': 0.0010237571888832013, 'yummy': 0.0010237571888832013, 'hubby': 0.0009434625074021659, 'graduation': 0.0009033151666616483, 'ball': 0.0009836098481426836, 'officially': 0.0009033151666616483, 'french': 0.0009635361777724248, 'xoxo': 0.0008531309907360012, 'twilight': 0.0009735730129575542, 'turned': 0.0008832414962913894, 'door': 0.0009133520018467777, 'smell': 0.0008631678259211305, 'download': 0.0008932783314765188, 'bird': 0.001013720353698072, 'asked': 0.0009033151666616483, 'version': 0.0009836098481426836, 'ooking': 0.0007929099796252245, 'puppy': 0.0008531309907360012, 'behind': 0.0009836098481426836, 'hanging': 0.0008129836499954834, 'along': 0.0009233888370319071, 'tear': 0.0008631678259211305, 'proud': 0.0007828731444400952, 'couldnt': 0.0009233888370319071, 'ating': 0.0009033151666616483, 'dark': 0.0008531309907360012, 'touch': 0.0007828731444400952, 'random': 0.0008631678259211305, 'singing': 0.0008430941555508717, 'realized': 0.0008330573203657423, 'deal': 0.0009434625074021659, 'type': 0.0008531309907360012, 'group': 0.0007627994740698363, 'pink': 0.0007025784629590598, 'matter': 0.0008230204851806129, 'state': 0.0009334256722170365, 'record': 0.0009434625074021659, 'lame': 0.0007627994740698363, 'prime': 0.0008230204851806129, 'jonasbrothers': 0.0009434625074021659, 'business': 0.0008531309907360012, 'drop': 0.0008531309907360012, 'wife': 0.0008732046611062599, 'camp': 0.0007126152981441891, 'sing': 0.000802946814810354, 'daughter': 0.0008129836499954834, 'revision': 0.0008330573203657423, 'background': 0.000802946814810354, 'terrible': 0.0008129836499954834, 'ahhh': 0.0008732046611062599, 'hangover': 0.0009033151666616483, 'mate': 0.000802946814810354, 'although': 0.0008932783314765188, 'upload': 0.0008430941555508717, 'interview': 0.0008230204851806129, 'worked': 0.0009434625074021659, 'lately': 0.0009033151666616483, 'quick': 0.0008832414962913894, 'single': 0.0008531309907360012, 'drunk': 0.0008430941555508717, 'kick': 0.0008230204851806129, 'profile': 0.0009936466833278131, 'bless': 0.0008430941555508717, 'freaking': 0.0008932783314765188, 'everybody': 0.0007828731444400952, 'somewhere': 0.0008430941555508717, 'whatever': 0.000802946814810354, 'dying': 0.0008732046611062599, 'blackberry': 0.0007427258036995774, 'info': 0.0007728363092549658, 'mommy': 0.0008631678259211305, 'posted': 0.0009233888370319071, 'staying': 0.0006825047925888009, 'aint': 0.000732688968514448, 'clothes': 0.0007828731444400952, 'mile': 0.0007226521333293186, 'indeed': 0.0008932783314765188, 'vega': 0.0008531309907360012, 'alot': 0.000802946814810354, 'traffic': 0.000732688968514448, 'death': 0.0007427258036995774, 'giving': 0.0007527626388847069, 'ight': 0.0008430941555508717, 'screen': 0.0007527626388847069, 'taste': 0.0008230204851806129, 'middle': 0.0007627994740698363, 'future': 0.0007126152981441891, 'silly': 0.000802946814810354, 'awful': 0.0007728363092549658, 'minister': 0.0007427258036995774, 'trek': 0.0008230204851806129, 'plane': 0.0006925416277739304, 'ended': 0.0006925416277739304, 'self': 0.0007828731444400952, 'fire': 0.0007728363092549658, 'history': 0.0008129836499954834, 'cook': 0.0007728363092549658, 'worried': 0.0007828731444400952, 'practice': 0.0006925416277739304, 'husband': 0.0008230204851806129, 'trouble': 0.0006925416277739304, 'hahaha': 0.000802946814810354, 'memory': 0.0007527626388847069, 'serious': 0.0008631678259211305, 'buddy': 0.0008129836499954834, 'enjoyed': 0.0007929099796252245, 'chill': 0.0008129836499954834, 'peep': 0.0007929099796252245, 'wishing': 0.000732688968514448, 'straight': 0.0006925416277739304, 'alright': 0.0007226521333293186, 'pray': 0.0008531309907360012, 'sort': 0.0008631678259211305, 'closed': 0.0006825047925888009, 'mall': 0.0007728363092549658, 'mention': 0.0008531309907360012, 'trailer': 0.0008129836499954834, 'completely': 0.0006724679574036715, 'extra': 0.0007126152981441891, 'fantastic': 0.000732688968514448, 'nose': 0.0008732046611062599, 'usual': 0.000662431122218542, 'sexy': 0.000662431122218542, 'bloody': 0.0007126152981441891, 'major': 0.000732688968514448, 'channel': 0.0007828731444400952, 'relaxing': 0.0007828731444400952, 'often': 0.0008832414962913894, 'cover': 0.0005821364407375066, 'gettin': 0.0007627994740698363, 'appreciate': 0.0007627994740698363, 'mail': 0.0007527626388847069, 'track': 0.0006523942870334126, 'usually': 0.0007226521333293186, 'wasnt': 0.0006925416277739304, 'changed': 0.0008129836499954834, 'kiss': 0.0006825047925888009, 'cell': 0.000662431122218542, 'fever': 0.0006925416277739304, 'brain': 0.0007427258036995774, 'nobody': 0.0008330573203657423, 'shut': 0.0007226521333293186, 'stopped': 0.0007126152981441891, 'stick': 0.0008330573203657423, 'teeth': 0.0007126152981441891, 'awwww': 0.0007728363092549658, 'child': 0.0007025784629590598, 'choice': 0.0007126152981441891, 'nick': 0.0007728363092549658, 'dunno': 0.0006022101111077655, 'quotthe': 0.0007025784629590598, 'degree': 0.0007828731444400952, 'itunes': 0.000662431122218542, 'joke': 0.000732688968514448, 'fixed': 0.0007527626388847069, 'bunch': 0.0007427258036995774, 'nearly': 0.0006825047925888009, 'stand': 0.0006523942870334126, 'ouch': 0.0006724679574036715, 'view': 0.0007226521333293186, 'ache': 0.0007427258036995774, 'lakers': 0.000802946814810354, 'bummed': 0.0007828731444400952, 'young': 0.0007527626388847069, 'swimming': 0.0007828731444400952, 'shoot': 0.0007126152981441891, 'packing': 0.0006925416277739304, 'caught': 0.0007828731444400952, 'result': 0.0008129836499954834, 'tweetdeck': 0.0005520259351821184, 'wearing': 0.0007527626388847069, 'taylor': 0.0007126152981441891, 'folk': 0.000662431122218542, 'sell': 0.0007929099796252245, 'system': 0.0006323206166631538, 'quoti': 0.0007828731444400952, 'issing': 0.0006423574518482832, 'pack': 0.0007025784629590598, 'reat': 0.000732688968514448, 'double': 0.000662431122218542, 'peace': 0.0006825047925888009, 'none': 0.0006724679574036715, 'burnt': 0.0006925416277739304, 'kate': 0.0006825047925888009, 'floor': 0.0006724679574036715, 'loss': 0.0006423574518482832, 'cheese': 0.0007427258036995774, 'south': 0.0007929099796252245, 'chris': 0.0007226521333293186, 'walking': 0.0006825047925888009, 'promise': 0.0006323206166631538, 'there': 0.0006724679574036715, 'street': 0.0006724679574036715, 'gosh': 0.0005921732759226361, 'roll': 0.0005319522648118595, 'bummer': 0.0007527626388847069, 'available': 0.0007126152981441891, 'magic': 0.0006925416277739304, 'daddy': 0.0006222837814780244, 'blood': 0.0007126152981441891, 'hmmm': 0.0006523942870334126, 'planning': 0.0007126152981441891, 'ring': 0.0007025784629590598, 'waking': 0.0006925416277739304, 'ishing': 0.0007427258036995774, 'nail': 0.0006523942870334126, 'anyways': 0.000612246946292895, 'onna': 0.000612246946292895, 'sense': 0.0005921732759226361, 'normal': 0.000612246946292895, 'favourite': 0.0007427258036995774, 'report': 0.000541989099996989, 'shake': 0.0007025784629590598, 'quot': 0.0006222837814780244, 'paid': 0.0007929099796252245, 'series': 0.0006523942870334126, 'kitty': 0.0007728363092549658, 'john': 0.0005921732759226361, 'pissed': 0.000612246946292895, 'copy': 0.0005319522648118595, 'hilarious': 0.0006022101111077655, 'disappointed': 0.0007126152981441891, 'race': 0.0006523942870334126, 'board': 0.000612246946292895, 'quiet': 0.0006222837814780244, 'american': 0.0006222837814780244, 'badly': 0.0006523942870334126, 'doin': 0.0007126152981441891, 'figured': 0.0005921732759226361, 'epic': 0.0006222837814780244, 'dentist': 0.0006523942870334126, 'before': 0.0006825047925888009, 'experience': 0.0006323206166631538, 'oodnight': 0.0006423574518482832, 'australia': 0.000662431122218542, 'fresh': 0.0007527626388847069, 'topic': 0.0006222837814780244, 'grandma': 0.000541989099996989, 'congratulation': 0.0006323206166631538, 'speak': 0.0006222837814780244, 'become': 0.0007126152981441891, 'heat': 0.0006724679574036715, 'gift': 0.0005319522648118595, 'adam': 0.0006724679574036715, 'heck': 0.0007427258036995774, 'finale': 0.0006523942870334126, 'jordanknight': 0.0006423574518482832, 'failed': 0.0006222837814780244, 'sooooo': 0.000612246946292895, 'search': 0.000612246946292895, 'knee': 0.0006323206166631538, 'exhausted': 0.0005319522648118595, 'shes': 0.0006222837814780244, 'complete': 0.000662431122218542, 'original': 0.000541989099996989, 'review': 0.0006323206166631538, 'feelin': 0.0005921732759226361, 'match': 0.0005921732759226361, 'just': 0.0006523942870334126, 'everyday': 0.0006523942870334126, 'fight': 0.000732688968514448, 'release': 0.000612246946292895, 'america': 0.0006925416277739304, 'helping': 0.0006323206166631538, 'piece': 0.0005520259351821184, 'headed': 0.0005921732759226361, 'connection': 0.0006222837814780244, 'witter': 0.0006222837814780244, 'count': 0.0005118785944416007, 'laundry': 0.0005720996055523772, 'training': 0.0005520259351821184, 'lake': 0.0005620627703672477, 'island': 0.000662431122218542, 'france': 0.0006523942870334126, 'style': 0.0005921732759226361, 'bill': 0.0006825047925888009, 'blast': 0.0005720996055523772, 'productive': 0.000541989099996989, 'burn': 0.0006022101111077655, 'area': 0.0006022101111077655, 'nervous': 0.00045165758333082413, 'doubt': 0.0006022101111077655, 'confused': 0.0005520259351821184, 'article': 0.0007126152981441891, 'everywhere': 0.0006523942870334126, 'crash': 0.0005520259351821184, 'honey': 0.0006022101111077655, 'milk': 0.0005620627703672477, 'cancelled': 0.0005921732759226361, 'depressing': 0.0005520259351821184, 'anywhere': 0.0006222837814780244, 'hurting': 0.0006423574518482832, 'step': 0.0006022101111077655, 'mark': 0.000732688968514448, 'ello': 0.000541989099996989, 'inished': 0.0005720996055523772, 'finding': 0.0006222837814780244, 'ending': 0.0006724679574036715, 'allowed': 0.000662431122218542, 'calling': 0.0007025784629590598, 'prob': 0.0005319522648118595, 'block': 0.000612246946292895, 'twit': 0.0006222837814780244, 'king': 0.0007527626388847069, 'dancing': 0.0006323206166631538, 'studio': 0.0006222837814780244, 'keeping': 0.0005520259351821184, 'station': 0.000612246946292895, 'imagine': 0.0006323206166631538, 'bank': 0.0006925416277739304, 'sending': 0.000541989099996989, 'mama': 0.0005921732759226361, 'afraid': 0.0005821364407375066, 'color': 0.000541989099996989, 'depressed': 0.0005921732759226361, 'demi': 0.0005018417592564712, 'midnight': 0.0006022101111077655, 'mouth': 0.0006423574518482832, 'lesson': 0.0006323206166631538, 'showing': 0.000541989099996989, 'thru': 0.0006022101111077655, 'irst': 0.0005018417592564712, 'surgery': 0.0005620627703672477, 'return': 0.0005821364407375066, 'outta': 0.0006724679574036715, 'bright': 0.000612246946292895, 'battery': 0.0005118785944416007, 'ored': 0.0006423574518482832, 'prayer': 0.0005720996055523772, 'present': 0.0006825047925888009, 'fish': 0.0005921732759226361, 'moved': 0.0004817680888862124, 'suppose': 0.000612246946292895, 'talked': 0.0005018417592564712, 'design': 0.0006022101111077655, 'angel': 0.000612246946292895, 'strong': 0.0005821364407375066, 'wall': 0.0005720996055523772, 'updated': 0.0004918049240713418, 'button': 0.0005821364407375066, 'mcfly': 0.0005219154296267301, 'noticed': 0.0005921732759226361, 'machine': 0.0005319522648118595, 'shout': 0.0005821364407375066, 'happening': 0.0005118785944416007, 'currently': 0.0005018417592564712, 'personal': 0.0005319522648118595, 'social': 0.0005921732759226361, 'tweeps': 0.0005520259351821184, 'bottle': 0.0005720996055523772, 'hero': 0.000541989099996989, 'invite': 0.0006323206166631538, 'dropped': 0.0005319522648118595, 'cooky': 0.0006323206166631538, 'brought': 0.0005620627703672477, 'delicious': 0.0005219154296267301, 'putting': 0.000612246946292895, 'arrived': 0.0005620627703672477, 'bath': 0.0005319522648118595, 'august': 0.000541989099996989, 'nyone': 0.0004817680888862124, 'twittering': 0.0005720996055523772, 'asking': 0.000541989099996989, 'empty': 0.0005921732759226361, 'killed': 0.0005720996055523772, 'chip': 0.0006323206166631538, 'mess': 0.0006022101111077655, 'contact': 0.0006022101111077655, 'gutted': 0.0005319522648118595, 'spending': 0.0005520259351821184, 'canada': 0.000541989099996989, 'however': 0.0005720996055523772, 'price': 0.0004817680888862124, 'evil': 0.0005821364407375066, 'workout': 0.0006222837814780244, 'code': 0.0005219154296267301, 'unless': 0.0004918049240713418, 'tune': 0.0005319522648118595, 'drama': 0.0004817680888862124, 'relax': 0.0005821364407375066, 'schedule': 0.0004817680888862124, 'begin': 0.0005620627703672477, 'swear': 0.000401473407405177, 'tonite': 0.0005319522648118595, 'feed': 0.0006222837814780244, 'spot': 0.0005620627703672477, 'letting': 0.0005821364407375066, 'west': 0.0005821364407375066, 'mobile': 0.00047173125370108296, 'shift': 0.0005620627703672477, 'twice': 0.0005319522648118595, 'adorable': 0.0005821364407375066, 'freakin': 0.0005821364407375066, 'donniewahlberg': 0.0005720996055523772, 'checked': 0.0004416207481456947, 'germany': 0.0005720996055523772, 'five': 0.0006022101111077655, 'retweet': 0.0005520259351821184, 'sometime': 0.0006423574518482832, 'four': 0.0005620627703672477, 'cried': 0.0005520259351821184, 'chicago': 0.0006022101111077655, 'starbucks': 0.00047173125370108296, 'assignment': 0.0005118785944416007, 'player': 0.0005720996055523772, 'barely': 0.000662431122218542, 'wrote': 0.00047173125370108296, 'swine': 0.0004817680888862124, 'space': 0.0004817680888862124, 'kitchen': 0.0005921732759226361, 'tough': 0.0004817680888862124, 'million': 0.0005219154296267301, 'rule': 0.0005018417592564712, 'energy': 0.0005921732759226361, '2morrow': 0.0005620627703672477, 'sweetie': 0.0005018417592564712, 'lived': 0.00046169441851595357, 'essay': 0.0004817680888862124, 'brown': 0.0005520259351821184, 'travel': 0.0004817680888862124, 'chillin': 0.0004817680888862124, 'library': 0.0004416207481456947, 'session': 0.0006724679574036715, 'stress': 0.0005219154296267301, 'secret': 0.0004817680888862124, 'expensive': 0.0005118785944416007, 'ired': 0.0005319522648118595, 'wave': 0.0005319522648118595, 'crappy': 0.0004115102425903064, 'brazil': 0.0005018417592564712, 'mini': 0.0005720996055523772, 'simple': 0.0005720996055523772, 'prom': 0.0004918049240713418, 'butt': 0.0005620627703672477, 'disney': 0.00045165758333082413, 'danny': 0.00046169441851595357, 'seat': 0.0005018417592564712, 'blah': 0.0005821364407375066, 'youll': 0.0005018417592564712, 'cooking': 0.0004416207481456947, 'dang': 0.0004817680888862124, 'bread': 0.0005821364407375066, 'youre': 0.0005219154296267301, 'pant': 0.0005620627703672477, 'picked': 0.0005219154296267301, 'losing': 0.0004817680888862124, 'davidarchie': 0.0005018417592564712, 'easier': 0.0005319522648118595, 'bite': 0.0005720996055523772, 'lookin': 0.0005821364407375066, 'sushi': 0.0004817680888862124, 'cost': 0.0005118785944416007, 'orange': 0.0005520259351821184, 'flower': 0.0005118785944416007, 'michael': 0.0005018417592564712, 'tweeted': 0.0005118785944416007, 'excellent': 0.00045165758333082413, 'eaving': 0.00043158391296056525, 'server': 0.0005520259351821184, 'orry': 0.00046169441851595357, 'local': 0.0005620627703672477, 'honest': 0.0005018417592564712, 'girlfriend': 0.0005620627703672477, 'quote': 0.00047173125370108296, 'option': 0.0005319522648118595, 'client': 0.0005319522648118595, 'ishes': 0.00043158391296056525, 'spring': 0.00045165758333082413, 'rough': 0.0004817680888862124, 'checking': 0.0005520259351821184, 'teach': 0.0005219154296267301, 'mostly': 0.0005219154296267301, 'hinks': 0.0005219154296267301, 'handle': 0.0005018417592564712, 'market': 0.0005118785944416007, 'talent': 0.0004416207481456947, 'term': 0.00046169441851595357, 'falling': 0.0005118785944416007, 'texas': 0.0004416207481456947, 'important': 0.0004817680888862124, 'entire': 0.0005118785944416007, 'form': 0.0004817680888862124, 'strange': 0.0004416207481456947, 'pleasure': 0.0005219154296267301, 'followed': 0.0004115102425903064, 'salad': 0.0005520259351821184, 'kicked': 0.0005720996055523772, 'fabulous': 0.00045165758333082413, 'festival': 0.0005018417592564712, 'sport': 0.0005821364407375066, 'afford': 0.0005118785944416007, 'throw': 0.00047173125370108296, 'level': 0.00047173125370108296, 'gunna': 0.00046169441851595357, 'leaf': 0.0005720996055523772, 'turning': 0.0004918049240713418, 'official': 0.0005018417592564712, 'perhaps': 0.0005620627703672477, 'stayed': 0.0004416207481456947, 'daily': 0.0004115102425903064, 'sharing': 0.00046169441851595357, 'grad': 0.0005118785944416007, '2009': 0.00047173125370108296, 'truly': 0.0005018417592564712, 'table': 0.000401473407405177, 'teacher': 0.0004416207481456947, 'alive': 0.00045165758333082413, 'beginning': 0.0005720996055523772, 'telling': 0.0004416207481456947, 'skin': 0.00047173125370108296, 'jonathanrknight': 0.00046169441851595357, 'general': 0.0005118785944416007, 'apartment': 0.00047173125370108296, 'lack': 0.00042154707777543587, 'somebody': 0.0005118785944416007, 'added': 0.00045165758333082413, 'soup': 0.0004115102425903064, 'flat': 0.00043158391296056525, 'craving': 0.0005620627703672477, 'offer': 0.00046169441851595357, 'anging': 0.000541989099996989, 'pound': 0.000541989099996989, 'here': 0.00042154707777543587, 'trust': 0.00045165758333082413, 'spanish': 0.00046169441851595357, 'alking': 0.0005319522648118595, 'gotten': 0.000401473407405177, 'spam': 0.00045165758333082413, 'land': 0.0003211787259241416, 'ampamp': 0.0005118785944416007, 'animal': 0.0004817680888862124, 'voted': 0.000401473407405177, 'positive': 0.00046169441851595357, 'sunburn': 0.00042154707777543587, 'desk': 0.0004817680888862124, 'xbox': 0.0004817680888862124, 'reminds': 0.00047173125370108296, 'omeone': 0.0003914365722200476, 'brilliant': 0.0005118785944416007, 'crack': 0.00043158391296056525, 'limit': 0.0004416207481456947, 'notice': 0.00038139973703491816, 'accident': 0.0004817680888862124, 'hinking': 0.0005620627703672477, 'squarespace': 0.0005018417592564712, 'allergy': 0.00042154707777543587, 'hannah': 0.0004817680888862124, 'jack': 0.0005118785944416007, 'realize': 0.00046169441851595357, 'student': 0.00042154707777543587, 'kept': 0.00045165758333082413, 'boston': 0.0005319522648118595, 'fave': 0.0005118785944416007, 'woohoo': 0.00045165758333082413, 'meal': 0.0003914365722200476, 'difficult': 0.00043158391296056525, 'hahaaha': 0.000401473407405177, 'clear': 0.0005018417592564712, 'shining': 0.0005018417592564712, 'paris': 0.0004817680888862124, 'character': 0.00042154707777543587, 'onto': 0.00034125239629440046, 'pulled': 0.0004817680888862124, 'neck': 0.0005018417592564712, 'eeds': 0.000401473407405177, 'slightly': 0.0003613260666646593, 'advice': 0.00046169441851595357, 'wanting': 0.0005118785944416007, 'cough': 0.00047173125370108296, 'decide': 0.0003512892314795299, 'oving': 0.0005118785944416007, 'england': 0.0004817680888862124, 'grey': 0.0004918049240713418, 'marathon': 0.0003713629018497887, 'ruined': 0.000331215561109271, 'keyboard': 0.00042154707777543587, 'goodness': 0.0005319522648118595, 'ankle': 0.0005319522648118595, 'darn': 0.00045165758333082413, 'tweeter': 0.0003914365722200476, 'surprise': 0.00043158391296056525, 'fter': 0.0004918049240713418, 'status': 0.0004416207481456947, 'buying': 0.0004416207481456947, 'yard': 0.00045165758333082413, 'nightmare': 0.000401473407405177, 'reality': 0.00034125239629440046, 'planned': 0.00046169441851595357, 'older': 0.0003914365722200476, 'cloud': 0.000401473407405177, 'winter': 0.0005219154296267301, 'ugly': 0.0005018417592564712, 'weight': 0.0004918049240713418, 'deserve': 0.00047173125370108296, 'attention': 0.000541989099996989, 'ooks': 0.00046169441851595357, 'credit': 0.0005319522648118595, 'size': 0.00047173125370108296, 'swim': 0.0004817680888862124, 'scene': 0.0003713629018497887, 'north': 0.0005319522648118595, 'transformer': 0.00046169441851595357, 'matt': 0.0005118785944416007, 'somehow': 0.0004817680888862124, 'anytime': 0.00043158391296056525, 'dumb': 0.0004817680888862124, 'ound': 0.0003914365722200476, 'performance': 0.00043158391296056525, 'strawberry': 0.0004817680888862124, 'control': 0.0004416207481456947, 'awhile': 0.0003512892314795299, 'trending': 0.000401473407405177, 'pair': 0.0004115102425903064, 'sarah': 0.0004115102425903064, 'noooo': 0.00045165758333082413, 'brand': 0.000401473407405177, 'florida': 0.00045165758333082413, 'couch': 0.00046169441851595357, 'stage': 0.0004918049240713418, 'science': 0.00043158391296056525, 'harry': 0.00043158391296056525, 'model': 0.0004416207481456947, 'neither': 0.00038139973703491816, 'software': 0.00042154707777543587, 'celebrate': 0.00045165758333082413, 'access': 0.0003914365722200476, 'woot': 0.00047173125370108296, 'tree': 0.0004416207481456947, 'lease': 0.00047173125370108296, 'uncle': 0.00047173125370108296, 'boot': 0.00043158391296056525, 'detail': 0.00043158391296056525, 'file': 0.00045165758333082413, 'posting': 0.0004416207481456947, 'knowing': 0.000331215561109271, 'museum': 0.00043158391296056525, 'error': 0.00047173125370108296, 'biggest': 0.0004918049240713418, 'otherwise': 0.000401473407405177, 'soul': 0.0003914365722200476, 'messed': 0.0004817680888862124, 'married': 0.000401473407405177, 'juice': 0.00047173125370108296, 'hehehe': 0.00042154707777543587, 'breaking': 0.0004817680888862124, 'possibly': 0.00038139973703491816, 'suggestion': 0.0004918049240713418, 'wing': 0.00038139973703491816, 'medium': 0.0004918049240713418, 'thunder': 0.0004416207481456947, 'conference': 0.00043158391296056525, 'blame': 0.0003613260666646593, 'fault': 0.0004416207481456947, 'hole': 0.0004416207481456947, 'soccer': 0.00042154707777543587, 'thankyou': 0.0004416207481456947, 'ahaha': 0.00047173125370108296, 'ahhhh': 0.0004115102425903064, 'otta': 0.0004115102425903064, 'watchin': 0.00045165758333082413, 'tech': 0.00038139973703491816, 'nasty': 0.00046169441851595357, 'apart': 0.0004416207481456947, 'ordered': 0.0004918049240713418, 'oooo': 0.0005018417592564712, 'nooo': 0.0004817680888862124, 'aunt': 0.000401473407405177, 'fucked': 0.000401473407405177, 'alarm': 0.0003512892314795299, 'cancer': 0.0003914365722200476, 'painful': 0.0003613260666646593, 'program': 0.0004115102425903064, 'gtlt': 0.00045165758333082413, 'letter': 0.0003914365722200476, 'shitty': 0.0004416207481456947, 'chinese': 0.00047173125370108296, 'sandwich': 0.0003512892314795299, 'ebay': 0.000401473407405177, 'james': 0.00038139973703491816, 'user': 0.0004115102425903064, 'total': 0.0004416207481456947, 'presentation': 0.00043158391296056525, 'liking': 0.0003713629018497887, 'british': 0.00046169441851595357, 'flying': 0.00047173125370108296, 'decent': 0.0003613260666646593, 'fake': 0.0003512892314795299, 'shoulder': 0.0003613260666646593, 'joined': 0.0004416207481456947, 'cali': 0.0003613260666646593, 'mitchelmusso': 0.00038139973703491816, 'cupcake': 0.0004115102425903064, 'quit': 0.00043158391296056525, 'upgrade': 0.00043158391296056525, 'crossed': 0.0004115102425903064, 'conversation': 0.0003512892314795299, 'ryan': 0.0003512892314795299, 'bear': 0.00043158391296056525, 'idol': 0.00038139973703491816, 'othing': 0.0003914365722200476, 'drag': 0.00034125239629440046, 'mistake': 0.00038139973703491816, 'expect': 0.0003914365722200476, 'njoying': 0.000331215561109271, 'wash': 0.00042154707777543587, 'atchin': 0.0003211787259241416, 'across': 0.0003211787259241416, 'latest': 0.00034125239629440046, 'grow': 0.000401473407405177, 'ohhh': 0.00038139973703491816, 'driver': 0.00034125239629440046, 'acting': 0.00046169441851595357, 'waste': 0.00038139973703491816, 'alex': 0.0003713629018497887, 'lauren': 0.0004115102425903064, 'quality': 0.0003713629018497887, 'queen': 0.0003512892314795299, 'learning': 0.0003512892314795299, 'treat': 0.000401473407405177, 'tennis': 0.00042154707777543587, 'blocked': 0.00030110505555388275, 'everyones': 0.00045165758333082413, 'given': 0.0003512892314795299, 'contest': 0.0003713629018497887, 'attack': 0.00038139973703491816, 'boat': 0.00046169441851595357, 'national': 0.0003914365722200476, 'mmmm': 0.0003613260666646593, 'applications': 0.00030110505555388275, 'colour': 0.0003613260666646593, 'deleted': 0.0003613260666646593, 'eaten': 0.0003713629018497887, 'invited': 0.00038139973703491816, 'mike': 0.0003914365722200476, 'customer': 0.0003914365722200476, 'theme': 0.0004416207481456947, 'smart': 0.0003713629018497887, 'comp': 0.000401473407405177, 'image': 0.0004115102425903064, 'anniversary': 0.0003613260666646593, 'susan': 0.00042154707777543587, 'football': 0.00038139973703491816, 'dirty': 0.00030110505555388275, 'imma': 0.00043158391296056525, 'chair': 0.0003613260666646593, 'literally': 0.00038139973703491816, 'europe': 0.0003512892314795299, 'interested': 0.00038139973703491816, 'difference': 0.0003713629018497887, 'annoyed': 0.00045165758333082413, 'neighbor': 0.00042154707777543587, 'setting': 0.0002408840444431062, 'mornin': 0.0004115102425903064, 'healthy': 0.00042154707777543587, 'charge': 0.00038139973703491816, 'revise': 0.000331215561109271, 'pull': 0.00038139973703491816, 'certain': 0.0003613260666646593, 'taylorswift13': 0.0003613260666646593, 'blessed': 0.0003512892314795299, 'goal': 0.0003713629018497887, 'basically': 0.00042154707777543587, 'earth': 0.00047173125370108296, 'click': 0.000401473407405177, 'jean': 0.0003914365722200476, 'signed': 0.0003914365722200476, 'angry': 0.0003914365722200476, 'grand': 0.0003512892314795299, 'blow': 0.00030110505555388275, 'recently': 0.0003512892314795299, 'wouldnt': 0.0003713629018497887, 'diversity': 0.00034125239629440046, 'aying': 0.0003613260666646593, 'wind': 0.0003914365722200476, 'east': 0.00034125239629440046, 'hella': 0.00034125239629440046, 'crashed': 0.000401473407405177, 'massive': 0.0003512892314795299, 'launch': 0.00042154707777543587, 'jump': 0.0004416207481456947, 'extremely': 0.00042154707777543587, 'montana': 0.0003613260666646593, 'winning': 0.0004115102425903064, 'addicted': 0.0004817680888862124, 'public': 0.0003111418907390122, 'rite': 0.0003713629018497887, 'truck': 0.0003613260666646593, 'workin': 0.0003211787259241416, 'gross': 0.0004115102425903064, 'painting': 0.0003211787259241416, 'closer': 0.00034125239629440046, 'chick': 0.000331215561109271, 'ould': 0.0003512892314795299, 'title': 0.000331215561109271, 'hardly': 0.0003713629018497887, 'wifi': 0.0003512892314795299, 'content': 0.000401473407405177, 'adventure': 0.00042154707777543587, 'senior': 0.00030110505555388275, 'fuckin': 0.0002910682203687533, 'sugar': 0.00043158391296056525, 'migraine': 0.0003512892314795299, 'period': 0.00038139973703491816, 'hurry': 0.00034125239629440046, 'network': 0.00034125239629440046, 'wide': 0.0003211787259241416, 'known': 0.0003914365722200476, 'opinion': 0.0003713629018497887, 'third': 0.0002709945499984945, 'selling': 0.000331215561109271, 'member': 0.00042154707777543587, 'deep': 0.00038139973703491816, 'filled': 0.000331215561109271, 'excuse': 0.0003111418907390122, 'famous': 0.0004115102425903064, 'winner': 0.0002910682203687533, 'orlando': 0.000331215561109271, 'oodmorning': 0.0003512892314795299, 'situation': 0.0003111418907390122, 'golf': 0.0003512892314795299, 'snow': 0.00034125239629440046, 'grade': 0.000401473407405177, 'coast': 0.0003512892314795299, 'cash': 0.0003512892314795299, 'riding': 0.00038139973703491816, 'paint': 0.0003713629018497887, 'california': 0.0004416207481456947, 'idiot': 0.000401473407405177, 'oops': 0.0003111418907390122, 'action': 0.0003512892314795299, 'avatar': 0.000401473407405177, 'arent': 0.0003512892314795299, 'fellow': 0.000331215561109271, 'greatest': 0.00038139973703491816, 'omorrow': 0.00034125239629440046, 'growing': 0.00030110505555388275, 'bowl': 0.0003613260666646593, 'freezing': 0.0003914365722200476}\n",
            "{'good': 0.03753533976299801, 'like': 0.03619192749583943, 'today': 0.03233212359392858, 'work': 0.028321937721813406, 'love': 0.028362039580534557, 'time': 0.02787079181120045, 'laughing': 0.02504361077135925, 'loud': 0.02491327973051551, 'know': 0.02386060593908528, 'going': 0.024412006496501115, 'back': 0.023128747017424258, 'really': 0.021444468951135887, 'want': 0.02107352675796523, 'think': 0.01899825556914563, 'night': 0.019118561145309083, 'still': 0.018587211517253826, 'thanks': 0.017865378060273093, 'well': 0.017945581777715398, 'need': 0.017554588655184167, 'much': 0.0168628315922443, 'would': 0.017133519138612073, 'home': 0.016582118581196237, 'miss': 0.015719928618691478, 'make': 0.01570990315401119, 'feel': 0.015940488841657812, 'hope': 0.015288833637439095, 'tomorrow': 0.015619673971888596, 'great': 0.015088324343833337, 'last': 0.013895294046879073, 'morning': 0.014246185310689151, 'though': 0.014396567280893469, 'twitter': 0.014747458544703548, 'haha': 0.01371483568263389, 'right': 0.012351372486114731, 'come': 0.012622060032482505, 'wish': 0.01284262025544884, 'sleep': 0.012110761333787821, 'could': 0.012712289214605097, 'thing': 0.012090710404427244, 'week': 0.011900226575501775, 'tonight': 0.011709742746576305, 'friend': 0.011328775088725363, 'sorry': 0.011408978806167666, 'hour': 0.01060694163174463, 'look': 0.010677119884506647, 'people': 0.010376355944098008, 'better': 0.010205923044533114, 'happy': 0.010396406873458585, 'nice': 0.009995388286247067, 'wait': 0.010205923044533114, 'yeah': 0.00949411505223267, 'hate': 0.008982816353537986, 'getting': 0.009173300182463456, 'even': 0.008702103342489925, 'school': 0.008952739959497122, 'thank': 0.00848154311952359, 'weekend': 0.008501594048884165, 'soon': 0.008271008361237543, 'take': 0.008491568584203878, 'next': 0.008311110219958695, 'show': 0.007980269885509194, 'never': 0.007629378621699116, 'dont': 0.007769735127223147, 'awesome': 0.007960218956148617, 'life': 0.007819862450624587, 'little': 0.0077296332685019955, 'year': 0.007338640145970765, 'cant': 0.007669480480420267, 'long': 0.0073586910753313415, 'tweet': 0.007378742004691918, 'best': 0.006516552042187156, 'movie': 0.007438894792773645, 'first': 0.007088003528963567, 'watch': 0.007348665610651054, 'sick': 0.006867443305997233, 'sure': 0.006707035871112626, 'always': 0.006586730294949171, 'everyone': 0.007128105387684719, 'tired': 0.006797265053235218, 'please': 0.006265915425179957, 'already': 0.006837366911956369, 'girl': 0.006426322860064564, 'find': 0.005935075090730455, 'working': 0.006717061335792914, 'suck': 0.0063862210013434124, 'something': 0.006336093677941973, 'done': 0.006336093677941973, 'feeling': 0.006416297395384276, 'ever': 0.005995227878812183, 'keep': 0.006536602971547731, 'ready': 0.006306017283901109, 'cool': 0.006115533454975638, 'watching': 0.005844845908607864, 'phone': 0.006065406131574198, 'pretty': 0.006095482525615062, 'made': 0.006336093677941973, 'another': 0.005614260220961242, 'song': 0.005955126020091031, 'thought': 0.005784693120526136, 'hurt': 0.005524031038838651, 'help': 0.005453852786076635, 'went': 0.005604234756280953, 'house': 0.005774667655845849, 'away': 0.005604234756280953, 'till': 0.005353598139273755, 'sound': 0.0055741583622400896, 'oing': 0.005744591261804985, 'start': 0.005002706875463678, 'early': 0.005303470815872315, 'guess': 0.005514005574158362, 'game': 0.0052733944218314515, 'looking': 0.005393699997994907, 'summer': 0.0052733944218314515, 'mean': 0.0054137509273554825, 'amazing': 0.00528341988651174, 'maybe': 0.0054137509273554825, 'baby': 0.004631764682293024, 'tell': 0.0046016882882521605, 'left': 0.0046518156116536, 'someone': 0.004631764682293024, 'lost': 0.004802197581857919, 'follow': 0.004832273975898783, 'weather': 0.0046518156116536, 'missed': 0.0049024522286607985, 'stuff': 0.0049726304814228135, 'later': 0.004481382712088706, 'live': 0.004912477693341086, 'coming': 0.004571611894211297, 'nothing': 0.00441120445932669, 'glad': 0.0044613317827281295, 'party': 0.0046016882882521605, 'rain': 0.004711968399735328, 'trying': 0.004822248511218495, 'exam': 0.004721993864415615, 'hear': 0.004591662823571873, 'play': 0.0043209752772040986, 'might': 0.00436107713592525, 'since': 0.004631764682293024, 'thats': 0.004290898883163235, 'birthday': 0.00441120445932669, 'give': 0.004541535500170433, 'actually': 0.004170593306999779, 'also': 0.004331000741884386, 'call': 0.004391153529966114, 'hard': 0.004030236801475748, 'head': 0.004200669701040643, 'luck': 0.004481382712088706, 'atching': 0.004270847953802659, 'said': 0.00436107713592525, 'around': 0.0040703386601969, 'world': 0.00412046598359834, 'bored': 0.004080364124877188, 'damn': 0.0038798548312714296, 'yesterday': 0.0041605678423194915, 'many': 0.004100415054237764, 'excited': 0.003970084013394021, 'music': 0.004130491448278628, 'late': 0.0040001604074348844, 'least': 0.003629218214264231, 'must': 0.003970084013394021, 'sunday': 0.003990134942754597, 'friday': 0.0037294728610671106, 'talk': 0.003839752972550278, 'stop': 0.0038598039019108535, 'gone': 0.0038698293665911415, 'cold': 0.003950033084033445, 'anything': 0.003659294608305095, 'read': 0.0038197020431897017, 'finally': 0.0038598039019108535, 'family': 0.0037094219317065345, 'monday': 0.003639243678944519, 'month': 0.003549014496821928, 'enjoy': 0.003629218214264231, 'found': 0.0036693200729853827, 'follower': 0.0035891163555430796, 'beautiful': 0.0038798548312714296, 'video': 0.0034287089206584726, 'without': 0.0034587853146993363, 'food': 0.003368556132576745, 'leave': 0.0035991418202233672, 'wanted': 0.003498887173420488, 'funny': 0.0032883524151344416, 'believe': 0.0034788362440599124, 'cute': 0.0034387343853387606, 'poor': 0.0033284542738555934, 'book': 0.003107894050889259, 'forward': 0.003368556132576745, 'check': 0.003388607061937321, 'free': 0.0034186834559781845, 'facebook': 0.0030276903334469554, 'iphone': 0.0032983778798147292, 'almost': 0.0034688107793796243, 'place': 0.00319812323301185, 'missing': 0.00324825055641329, 'making': 0.0032281996270527137, 'mine': 0.0031379704449301226, 'waiting': 0.0031479959096104107, 'sweet': 0.003338479738535881, 'class': 0.003218174162372426, 'welcome': 0.0032281996270527137, 'hair': 0.0031580213742906983, 'stay': 0.003348505203216169, 'cause': 0.0032783269504541536, 'enough': 0.003107894050889259, 'dinner': 0.003398632526617609, 'picture': 0.00324825055641329, 'shit': 0.003188097768331562, 'lunch': 0.0032783269504541536, 'coffee': 0.003188097768331562, 'every': 0.003087843121528683, 'idea': 0.003238225091733002, 'everything': 0.003057766727487819, 'update': 0.0029875884747258036, 'outside': 0.003097868586208971, 'anyone': 0.0031479959096104107, 'room': 0.002927435686644076, 'minute': 0.0030276903334469554, 'anymore': 0.00295751208068494, 'real': 0.003097868586208971, 'totally': 0.0028773083632426364, 'playing': 0.0028773083632426364, 'stupid': 0.0028271810398411965, 'finished': 0.002807130110480621, 'seen': 0.0030778176568483947, 'woke': 0.0030778176568483947, 'saturday': 0.002807130110480621, 'probably': 0.0028572574338820603, 'money': 0.0029374611513243638, 'wrong': 0.0029875884747258036, 'didnt': 0.0029374611513243638, 'brother': 0.002807130110480621, 'dream': 0.0027369518577186054, 'name': 0.002777053716439757, 'thinking': 0.002767028251759469, 'came': 0.002817155575160909, 'post': 0.0026968499989974536, 'crazy': 0.002777053716439757, 'lovely': 0.002656748140276302, 'face': 0.0026968499989974536, 'hell': 0.00295751208068494, 'okay': 0.0025564934934734227, 'whole': 0.0025865698875142864, 'following': 0.00266677360495659, 'message': 0.00266677360495659, 'kinda': 0.002496340705391695, 'beach': 0.0026868245343171656, 'hopefully': 0.0025564934934734227, 'fuck': 0.00266677360495659, 'meet': 0.0025364425641128466, 'learned': 0.0025865698875142864, 'heart': 0.0023259078058268, 'part': 0.0025765444228339983, 'headache': 0.0025364425641128466, 'plan': 0.0026366972109157258, 'sister': 0.002516391634752271, 'else': 0.0025464680287931346, 'trip': 0.0022657550177450723, 'computer': 0.002516391634752271, 'rock': 0.0025564934934734227, 'sooo': 0.002466264311350831, 'about': 0.002606620816874862, 'busy': 0.0025665189581537103, 'true': 0.0024462133819902554, 'problem': 0.0024161369879493913, 'change': 0.0023259078058268, 'able': 0.002767028251759469, 'wake': 0.0023760351292282395, 'city': 0.002606620816874862, 'mind': 0.002466264311350831, 'used': 0.0024161369879493913, 'blog': 0.0023860605939085276, 'final': 0.0023760351292282395, 'news': 0.0022557295530647847, 'half': 0.002366009664547952, 'listening': 0.0024261624526296793, 'mother': 0.002335933270507088, 'word': 0.0024361879173099674, 'taking': 0.0024261624526296793, 'took': 0.0022457040883844966, 'either': 0.0022958314117859364, 'rest': 0.0022356786237042086, 'care': 0.0021454494415816174, 'course': 0.0022958314117859364, 'kind': 0.002366009664547952, 'full': 0.002055220259459026, 'break': 0.002225653159023921, 'send': 0.002215627694343633, 'email': 0.0022557295530647847, 'super': 0.002155474906261905, 'tried': 0.002075271188819602, 'forgot': 0.002496340705391695, 'internet': 0.0021354239769013294, 'raining': 0.0019950674713772984, 'dude': 0.0022657550177450723, 'ticket': 0.002075271188819602, 'annot': 0.002065245724139314, 'shopping': 0.0022657550177450723, 'hahaa': 0.002185551300302769, 'awww': 0.002195576764983057, 'office': 0.002205602229663345, 'heard': 0.002065245724139314, 'quite': 0.002015118400737874, 'pain': 0.002175525835622481, 'wont': 0.0022958314117859364, 'link': 0.002155474906261905, 'etting': 0.002155474906261905, 'started': 0.0022457040883844966, 'told': 0.0019549656126561466, 'remember': 0.002195576764983057, 'drink': 0.002195576764983057, 'site': 0.0019549656126561466, 'season': 0.00203516933009845, 'hehe': 0.002075271188819602, 'open': 0.0021454494415816174, 'reply': 0.0019950674713772984, 'seeing': 0.0021253985122210413, 'appy': 0.0019148637539349949, 'laugh': 0.002025143865418162, 'loved': 0.0020852966534998896, 'reading': 0.0017945581777715398, 'reason': 0.001904838289254707, 'favorite': 0.002055220259459026, 'seems': 0.0020953221181801776, 'fine': 0.0019549656126561466, 'bring': 0.0019349146832955708, 'alone': 0.002055220259459026, 'talking': 0.001894812824574419, 'sunny': 0.002025143865418162, 'photo': 0.002055220259459026, 'text': 0.0019549656126561466, 'eating': 0.0018246345718124035, 'called': 0.0019750165420167223, 'move': 0.0019148637539349949, 'stuck': 0.0019349146832955708, 'jealous': 0.0019649910773364347, 'fucking': 0.0019950674713772984, 'watched': 0.0020953221181801776, 'hand': 0.002025143865418162, 'instead': 0.002015118400737874, 'turn': 0.0018346600364926914, 'concert': 0.002015118400737874, 'june': 0.0018647364305335553, 'asleep': 0.0019148637539349949, 'breakfast': 0.0018647364305335553, 'goodnight': 0.0019248892186152827, 'sleeping': 0.0019349146832955708, 'mileycyrus': 0.0018346600364926914, 'using': 0.0017945581777715398, 'online': 0.0019750165420167223, 'lucky': 0.001754456319050388, 'bought': 0.0019449401479758586, 'boring': 0.0018346600364926914, 'leaving': 0.0016842780662883726, 'hello': 0.0018246345718124035, 'study': 0.0018547109658532672, 'crap': 0.0018146091071321155, 'afternoon': 0.0018747618952138431, 'store': 0.0018346600364926914, 'drive': 0.0017243799250095241, 'hungry': 0.0019148637539349949, 'seriously': 0.0017344053896898122, 'broke': 0.0016842780662883726, 'anyway': 0.0015840234194854932, 'person': 0.0016542016722475086, 'walk': 0.0016943035309686604, 'awake': 0.0017444308543701, 'running': 0.0018547109658532672, 'couple': 0.0017043289956489482, 'tommcfly': 0.0016842780662883726, 'together': 0.0018346600364926914, 'foot': 0.0016341507428869328, 'train': 0.0016441762075672208, 'second': 0.0018346600364926914, 'ipod': 0.0017444308543701, 'star': 0.0015840234194854932, 'laptop': 0.0017143544603292363, 'page': 0.0016742526016080845, 'definitely': 0.0016642271369277967, 'moment': 0.0017043289956489482, 'sore': 0.0017243799250095241, 'wonderful': 0.0016341507428869328, 'close': 0.0018847873598941312, 'lady': 0.0016441762075672208, 'high': 0.001624125278206645, 'finish': 0.0016943035309686604, 'town': 0.0017043289956489482, 'knew': 0.0015439215607643414, 'happen': 0.0016441762075672208, 'shower': 0.0017143544603292363, 'church': 0.0016642271369277967, 'bday': 0.0015338960960840536, 'mood': 0.0015439215607643414, 'happened': 0.001774507248410964, 'side': 0.0016441762075672208, 'point': 0.0015840234194854932, 'inally': 0.0016842780662883726, 'holiday': 0.0017845327130912518, 'hoping': 0.0018446855011729794, 'story': 0.0015138451667234777, 'congrats': 0.0016842780662883726, 'ride': 0.0015840234194854932, 'water': 0.001604074348846069, 'write': 0.0017143544603292363, 'sitting': 0.0016140998135263569, 'album': 0.0016140998135263569, 'test': 0.0016140998135263569, 'meeting': 0.0015639724901249173, 'orning': 0.0016341507428869328, 'visit': 0.0015338960960840536, 'date': 0.0016842780662883726, 'seem': 0.001604074348846069, 'soooo': 0.0015238706314037655, 'agree': 0.0016542016722475086, 'worry': 0.0016642271369277967, 'starting': 0.0015338960960840536, 'dead': 0.0015138451667234777, 'youtube': 0.001594048884165781, 'died': 0.0014937942373629018, 'smile': 0.0014837687726826137, 'saying': 0.0015539470254446294, 'homework': 0.0015840234194854932, 'award': 0.0016140998135263569, 'account': 0.0016842780662883726, 'hang': 0.0015840234194854932, 'fail': 0.00145369237864175, 'tour': 0.0015639724901249173, 'short': 0.0016140998135263569, 'listen': 0.0015539470254446294, 'episode': 0.0013534377318388706, 'fall': 0.0014135905199205983, 'weird': 0.0015338960960840536, 'catch': 0.001323361337798007, 'three': 0.0013835141258797346, 'supposed': 0.0014336414492811742, 'english': 0.001473743308002326, 'nite': 0.001333386802478295, 'wedding': 0.0012832594790768551, 'enjoying': 0.001473743308002326, 'ddlovato': 0.001473743308002326, 'interesting': 0.0013634631965191587, 'cream': 0.001463717843322038, 'london': 0.0013835141258797346, 'worst': 0.0013734886611994465, 'card': 0.0013935395905600224, 'worth': 0.001323361337798007, 'dance': 0.0014336414492811742, 'math': 0.001323361337798007, 'broken': 0.0015539470254446294, 'chocolate': 0.001323361337798007, 'band': 0.001473743308002326, 'pick': 0.0014135905199205983, 'mister': 0.0013634631965191587, 'throat': 0.0014135905199205983, 'fast': 0.0013734886611994465, 'oday': 0.0012832594790768551, 'clean': 0.0014336414492811742, 'evening': 0.001303310408437431, 'forget': 0.001473743308002326, 'istening': 0.001303310408437431, 'line': 0.0013734886611994465, 'past': 0.0015338960960840536, 'wonder': 0.0015038197020431896, 'chance': 0.0014336414492811742, 'sometimes': 0.0014837687726826137, 'hank': 0.0014035650552403104, 'direct': 0.00145369237864175, 'cousin': 0.0013634631965191587, 'followfriday': 0.0013434122671585828, 'park': 0.001303310408437431, 'sigh': 0.001323361337798007, 'window': 0.00145369237864175, 'rying': 0.0013935395905600224, 'horrible': 0.0015539470254446294, 'figure': 0.001473743308002326, 'team': 0.0012832594790768551, 'dear': 0.0012531830850359914, 'gave': 0.0012431576203557034, 'comment': 0.0012431576203557034, 'paper': 0.0014236159846008863, 'perfect': 0.0014035650552403104, 'unfortunately': 0.0012030557616345518, 'doesnt': 0.0012531830850359914, 'goin': 0.0012531830850359914, 'tweeting': 0.0012932849437571432, 'list': 0.001172979367593688, 'beer': 0.0012030557616345518, 'sent': 0.001303310408437431, 'question': 0.0012030557616345518, 'writing': 0.0012231066909951277, 'looked': 0.0014236159846008863, 'scared': 0.001172979367593688, 'rather': 0.001172979367593688, 'fell': 0.0010927756501513846, 'black': 0.001172979367593688, 'flight': 0.0012331321556754155, 'earlier': 0.001313335873117719, 'finger': 0.001172979367593688, 'eading': 0.001152928438233112, 'shop': 0.0012130812263148397, 'sunshine': 0.001183004832273976, 'camera': 0.0010927756501513846, 'studying': 0.0012932849437571432, 'jonas': 0.0012732340143965673, 'understand': 0.001323361337798007, 'slow': 0.0011629539029134, 'pool': 0.0011629539029134, 'number': 0.001183004832273976, 'website': 0.0012431576203557034, 'hows': 0.0013434122671585828, 'york': 0.0012431576203557034, 'easy': 0.001183004832273976, 'tuesday': 0.001323361337798007, 'plus': 0.0011629539029134, 'college': 0.0011629539029134, 'body': 0.0011429029735528242, 'spend': 0.0011930302969542638, 'huge': 0.0012030557616345518, 'answer': 0.0011128265795119605, 'airport': 0.0012632085497162793, 'loving': 0.0012431576203557034, 'dress': 0.0012531830850359914, 'cheer': 0.0011028011148316724, 'parent': 0.0013434122671585828, 'worse': 0.0012431576203557034, 'blue': 0.001303310408437431, 'different': 0.001012571932709081, 'vote': 0.001172979367593688, 'moon': 0.001183004832273976, 'light': 0.0012030557616345518, 'myspace': 0.001183004832273976, 'fair': 0.0012832594790768551, 'upset': 0.0012030557616345518, 'load': 0.001183004832273976, 'eeling': 0.0012331321556754155, 'aking': 0.0011028011148316724, 'voice': 0.0011629539029134, 'havent': 0.0011629539029134, 'kill': 0.0011328775088725361, 'project': 0.0011028011148316724, 'longer': 0.0011930302969542638, 'shot': 0.0010727247207908087, 'moving': 0.0011429029735528242, 'power': 0.001152928438233112, 'special': 0.0010927756501513846, 'vacation': 0.0012732340143965673, 'nope': 0.001172979367593688, 'support': 0.001012571932709081, 'join': 0.0010025464680287932, 'babe': 0.0010727247207908087, 'chat': 0.0012030557616345518, 'green': 0.0011629539029134, 'inside': 0.0012331321556754155, 'cake': 0.0012231066909951277, 'kidding': 0.0011629539029134, 'possible': 0.001032622862069657, 'woman': 0.0011629539029134, 'beat': 0.0011028011148316724, 'heading': 0.0011228520441922483, 'hospital': 0.0011128265795119605, 'eally': 0.001313335873117719, 'thursday': 0.0011228520441922483, 'wear': 0.001152928438233112, 'forever': 0.0012130812263148397, 'white': 0.0010727247207908087, 'exactly': 0.0011429029735528242, 'safe': 0.0010626992561105207, 'especially': 0.0009423936799470656, 'chicken': 0.0010426483267499448, 'sign': 0.0011328775088725361, 'july': 0.0010927756501513846, 'isnt': 0.0009323682152667776, 'learn': 0.0011328775088725361, 'felt': 0.0011128265795119605, 'nother': 0.0010927756501513846, 'sims': 0.0011429029735528242, 'spent': 0.001152928438233112, 'club': 0.0010025464680287932, 'warm': 0.0010727247207908087, 'except': 0.0011328775088725361, 'shame': 0.0011128265795119605, 'wine': 0.0011328775088725361, 'boyfriend': 0.0010626992561105207, 'bike': 0.001012571932709081, 'doctor': 0.0010927756501513846, 'hill': 0.0011228520441922483, 'sadly': 0.001022597397389369, 'needed': 0.0010426483267499448, 'service': 0.001022597397389369, 'small': 0.0010827501854710965, 'shoe': 0.0009323682152667776, 'slept': 0.0009423936799470656, 'orking': 0.0011328775088725361, 'garden': 0.0009624446093076414, 'aving': 0.0010426483267499448, 'miley': 0.0011028011148316724, 'cleaning': 0.0010426483267499448, 'driving': 0.0010827501854710965, 'father': 0.0010426483267499448, 'itting': 0.001152928438233112, 'what': 0.0011128265795119605, 'aiting': 0.00087221542718505, 'save': 0.0008521644978244741, 'case': 0.0009925210033485052, 'company': 0.0010426483267499448, 'sleepy': 0.0009423936799470656, 'liked': 0.0010526737914302328, 'shirt': 0.0009925210033485052, 'lazy': 0.0010025464680287932, 'google': 0.0011328775088725361, 'goodbye': 0.0011228520441922483, 'sale': 0.0010426483267499448, 'storm': 0.0011028011148316724, 'note': 0.0008621899625047621, 'fact': 0.001032622862069657, 'application': 0.0010626992561105207, 'david': 0.001012571932709081, 'lonely': 0.0009925210033485052, 'stomach': 0.0009423936799470656, 'apparently': 0.0010426483267499448, 'whats': 0.0010526737914302328, 'near': 0.0010426483267499448, 'scary': 0.0010025464680287932, 'hold': 0.0009925210033485052, 'annoying': 0.001022597397389369, 'issue': 0.0009925210033485052, 'event': 0.001022597397389369, 'decided': 0.001022597397389369, 'pizza': 0.0009724700739879293, 'shall': 0.0009323682152667776, 'taken': 0.0011429029735528242, 'living': 0.0009423936799470656, 'share': 0.0009524191446273535, 'guitar': 0.0008822408918653379, 'film': 0.0009624446093076414, 'order': 0.0009724700739879293, 'road': 0.0009524191446273535, 'meant': 0.0010927756501513846, 'wondering': 0.0009423936799470656, 'absolutely': 0.0009223427505864897, 'hotel': 0.0009824955386682173, 'played': 0.0009524191446273535, 'killing': 0.0010526737914302328, 'ahead': 0.0010025464680287932, 'drinking': 0.0009724700739879293, 'radio': 0.0010526737914302328, 'apple': 0.0009022918212259138, 'exciting': 0.00087221542718505, 'round': 0.0008822408918653379, 'front': 0.0010727247207908087, 'happens': 0.0007218334569807311, 'yall': 0.0008020371744230345, 'rainy': 0.0008521644978244741, 'laying': 0.0009824955386682173, 'glass': 0.0009123172859062018, 'others': 0.00087221542718505, 'sold': 0.0009524191446273535, 'country': 0.0008321135684638983, 'lose': 0.0009022918212259138, 'gorgeous': 0.0009423936799470656, 'wednesday': 0.0010426483267499448, 'bitch': 0.0008321135684638983, 'passed': 0.0009123172859062018, 'tummy': 0.0008020371744230345, 'yummy': 0.0008020371744230345, 'hubby': 0.0008822408918653379, 'graduation': 0.0009223427505864897, 'ball': 0.0008421390331441863, 'officially': 0.0009123172859062018, 'french': 0.0008521644978244741, 'xoxo': 0.0009624446093076414, 'twilight': 0.0008321135684638983, 'turned': 0.0009223427505864897, 'door': 0.0008922663565456259, 'smell': 0.0009323682152667776, 'download': 0.0009022918212259138, 'bird': 0.0007719607803821707, 'asked': 0.0008822408918653379, 'version': 0.0008020371744230345, 'ooking': 0.0009925210033485052, 'puppy': 0.0009223427505864897, 'behind': 0.0007920117097427466, 'hanging': 0.0009624446093076414, 'along': 0.0008521644978244741, 'tear': 0.0009123172859062018, 'proud': 0.0009824955386682173, 'couldnt': 0.0008421390331441863, 'ating': 0.0008621899625047621, 'dark': 0.0009022918212259138, 'touch': 0.0009724700739879293, 'random': 0.0008922663565456259, 'singing': 0.0009123172859062018, 'realized': 0.0009223427505864897, 'deal': 0.0008120626391033225, 'type': 0.0008922663565456259, 'group': 0.0009824955386682173, 'pink': 0.0010426483267499448, 'matter': 0.0009223427505864897, 'state': 0.0008020371744230345, 'record': 0.0007920117097427466, 'lame': 0.0009624446093076414, 'prime': 0.0009022918212259138, 'jonasbrothers': 0.0007819862450624586, 'business': 0.00087221542718505, 'drop': 0.0008621899625047621, 'wife': 0.0008421390331441863, 'camp': 0.0009925210033485052, 'sing': 0.0009022918212259138, 'daughter': 0.0008922663565456259, 'revision': 0.0008621899625047621, 'background': 0.0008922663565456259, 'terrible': 0.0008822408918653379, 'ahhh': 0.0008220881037836104, 'hangover': 0.0007819862450624586, 'mate': 0.0008822408918653379, 'although': 0.0007920117097427466, 'upload': 0.0008421390331441863, 'interview': 0.0008521644978244741, 'worked': 0.000731858921661019, 'lately': 0.0007719607803821707, 'quick': 0.0007819862450624586, 'single': 0.0008120626391033225, 'drunk': 0.0008220881037836104, 'kick': 0.0008321135684638983, 'profile': 0.0006616806688990035, 'bless': 0.0008120626391033225, 'freaking': 0.0007619353157018828, 'everybody': 0.00087221542718505, 'somewhere': 0.0008020371744230345, 'whatever': 0.0008421390331441863, 'dying': 0.0007719607803821707, 'blackberry': 0.0008922663565456259, 'info': 0.0008621899625047621, 'mommy': 0.0007719607803821707, 'posted': 0.0007118079923004432, 'staying': 0.0009423936799470656, 'aint': 0.0008922663565456259, 'clothes': 0.0008321135684638983, 'mile': 0.0008922663565456259, 'indeed': 0.0007218334569807311, 'vega': 0.0007619353157018828, 'alot': 0.0008020371744230345, 'traffic': 0.00087221542718505, 'death': 0.0008621899625047621, 'giving': 0.0008521644978244741, 'ight': 0.0007519098510215948, 'screen': 0.0008321135684638983, 'taste': 0.0007619353157018828, 'middle': 0.0008120626391033225, 'future': 0.0008621899625047621, 'silly': 0.0007719607803821707, 'awful': 0.0008020371744230345, 'minister': 0.0008321135684638983, 'trek': 0.0007519098510215948, 'plane': 0.00087221542718505, 'ended': 0.0008621899625047621, 'self': 0.0007719607803821707, 'fire': 0.0007819862450624586, 'history': 0.0007418843863413069, 'cook': 0.0007719607803821707, 'worried': 0.0007619353157018828, 'practice': 0.0008521644978244741, 'husband': 0.0007218334569807311, 'trouble': 0.0008421390331441863, 'hahaha': 0.000731858921661019, 'memory': 0.0007819862450624586, 'serious': 0.0006616806688990035, 'buddy': 0.0007118079923004432, 'enjoyed': 0.000731858921661019, 'chill': 0.0007118079923004432, 'peep': 0.000731858921661019, 'wishing': 0.0007819862450624586, 'straight': 0.0008220881037836104, 'alright': 0.0007920117097427466, 'pray': 0.0006616806688990035, 'sort': 0.0006516552042187155, 'closed': 0.0008220881037836104, 'mall': 0.000731858921661019, 'mention': 0.0006516552042187155, 'trailer': 0.0006917570629398673, 'completely': 0.0008220881037836104, 'extra': 0.0007819862450624586, 'fantastic': 0.0007619353157018828, 'nose': 0.0006115533454975639, 'usual': 0.0008220881037836104, 'sexy': 0.0008220881037836104, 'bloody': 0.0007719607803821707, 'major': 0.0007418843863413069, 'channel': 0.0006917570629398673, 'relaxing': 0.0006917570629398673, 'often': 0.0005814769514567, 'cover': 0.0008822408918653379, 'gettin': 0.0007017825276201552, 'appreciate': 0.0006917570629398673, 'mail': 0.0007017825276201552, 'track': 0.0008020371744230345, 'usually': 0.000731858921661019, 'wasnt': 0.0007619353157018828, 'changed': 0.0006316042748581396, 'kiss': 0.0007619353157018828, 'cell': 0.0007819862450624586, 'fever': 0.0007519098510215948, 'brain': 0.0007017825276201552, 'nobody': 0.0006115533454975639, 'shut': 0.0007118079923004432, 'stopped': 0.0007218334569807311, 'stick': 0.0006015278808172759, 'teeth': 0.0007118079923004432, 'awwww': 0.0006516552042187155, 'child': 0.0007218334569807311, 'choice': 0.0007118079923004432, 'nick': 0.0006516552042187155, 'dunno': 0.0008220881037836104, 'quotthe': 0.0007218334569807311, 'degree': 0.0006416297395384276, 'itunes': 0.0007619353157018828, 'joke': 0.0006817315982595793, 'fixed': 0.0006616806688990035, 'bunch': 0.0006717061335792914, 'nearly': 0.000731858921661019, 'stand': 0.0007519098510215948, 'ouch': 0.000731858921661019, 'view': 0.0006817315982595793, 'ache': 0.0006616806688990035, 'lakers': 0.0006015278808172759, 'bummed': 0.0006215788101778517, 'young': 0.0006516552042187155, 'swimming': 0.0006215788101778517, 'shoot': 0.0006917570629398673, 'packing': 0.0007118079923004432, 'caught': 0.0006115533454975639, 'result': 0.0005814769514567, 'tweetdeck': 0.0008421390331441863, 'wearing': 0.0006416297395384276, 'taylor': 0.0006817315982595793, 'folk': 0.0007218334569807311, 'sell': 0.000591502416136988, 'system': 0.0007519098510215948, 'quoti': 0.0006015278808172759, 'issing': 0.0007418843863413069, 'pack': 0.0006717061335792914, 'reat': 0.0006416297395384276, 'double': 0.0007118079923004432, 'peace': 0.0006917570629398673, 'none': 0.0006917570629398673, 'burnt': 0.0006717061335792914, 'kate': 0.0006717061335792914, 'floor': 0.0006817315982595793, 'loss': 0.0007118079923004432, 'cheese': 0.0006115533454975639, 'south': 0.0005514005574158362, 'chris': 0.0006215788101778517, 'walking': 0.0006616806688990035, 'promise': 0.0007017825276201552, 'there': 0.0006616806688990035, 'street': 0.0006616806688990035, 'gosh': 0.0007418843863413069, 'roll': 0.0008020371744230345, 'bummer': 0.0005814769514567, 'available': 0.0006215788101778517, 'magic': 0.0006316042748581396, 'daddy': 0.0007017825276201552, 'blood': 0.0006115533454975639, 'hmmm': 0.0006717061335792914, 'planning': 0.0006115533454975639, 'ring': 0.0006115533454975639, 'waking': 0.0006215788101778517, 'ishing': 0.0005714514867764121, 'nail': 0.0006616806688990035, 'anyways': 0.0006917570629398673, 'onna': 0.0006917570629398673, 'sense': 0.0007118079923004432, 'normal': 0.0006917570629398673, 'favourite': 0.0005514005574158362, 'report': 0.0007519098510215948, 'shake': 0.000591502416136988, 'quot': 0.0006717061335792914, 'paid': 0.0005012732340143966, 'series': 0.0006416297395384276, 'kitty': 0.0005213241633749724, 'john': 0.0007017825276201552, 'pissed': 0.0006817315982595793, 'copy': 0.0007619353157018828, 'hilarious': 0.0006817315982595793, 'disappointed': 0.0005714514867764121, 'race': 0.0006316042748581396, 'board': 0.0006717061335792914, 'quiet': 0.0006616806688990035, 'american': 0.0006616806688990035, 'badly': 0.0006316042748581396, 'doin': 0.0005714514867764121, 'figured': 0.0006917570629398673, 'epic': 0.0006616806688990035, 'dentist': 0.0006316042748581396, 'before': 0.0006015278808172759, 'experience': 0.0006516552042187155, 'oodnight': 0.0006416297395384276, 'australia': 0.0006115533454975639, 'fresh': 0.0005213241633749724, 'topic': 0.0006516552042187155, 'grandma': 0.0007218334569807311, 'congratulation': 0.0006316042748581396, 'speak': 0.0006416297395384276, 'become': 0.0005514005574158362, 'heat': 0.000591502416136988, 'gift': 0.000731858921661019, 'adam': 0.000591502416136988, 'heck': 0.0005112986986946844, 'finale': 0.0006015278808172759, 'jordanknight': 0.0006115533454975639, 'failed': 0.0006316042748581396, 'sooooo': 0.0006416297395384276, 'search': 0.0006416297395384276, 'knee': 0.0006215788101778517, 'exhausted': 0.0007118079923004432, 'shes': 0.0006215788101778517, 'complete': 0.0005814769514567, 'original': 0.0007017825276201552, 'review': 0.0006115533454975639, 'feelin': 0.0006516552042187155, 'match': 0.0006516552042187155, 'just': 0.000591502416136988, 'everyday': 0.000591502416136988, 'fight': 0.0005112986986946844, 'release': 0.0006316042748581396, 'america': 0.0005514005574158362, 'helping': 0.0006015278808172759, 'piece': 0.0006817315982595793, 'headed': 0.0006416297395384276, 'connection': 0.0006115533454975639, 'witter': 0.0006115533454975639, 'count': 0.0007118079923004432, 'laundry': 0.0006516552042187155, 'training': 0.0006717061335792914, 'lake': 0.0006616806688990035, 'island': 0.0005614260220961242, 'france': 0.0005714514867764121, 'style': 0.0006316042748581396, 'bill': 0.0005313496280552603, 'blast': 0.0006416297395384276, 'productive': 0.0006717061335792914, 'burn': 0.0006115533454975639, 'area': 0.0006115533454975639, 'nervous': 0.0007619353157018828, 'doubt': 0.0006115533454975639, 'confused': 0.0006616806688990035, 'article': 0.0005012732340143966, 'everywhere': 0.0005614260220961242, 'crash': 0.0006616806688990035, 'honey': 0.0006115533454975639, 'milk': 0.0006416297395384276, 'cancelled': 0.0006115533454975639, 'depressing': 0.0006516552042187155, 'anywhere': 0.0005814769514567, 'hurting': 0.0005614260220961242, 'step': 0.0006015278808172759, 'mark': 0.0004711968399735328, 'ello': 0.0006616806688990035, 'inished': 0.0006316042748581396, 'finding': 0.0005814769514567, 'ending': 0.0005313496280552603, 'allowed': 0.0005413750927355483, 'calling': 0.0004912477693341087, 'prob': 0.0006616806688990035, 'block': 0.0005814769514567, 'twit': 0.0005714514867764121, 'king': 0.00044112044593266897, 'dancing': 0.0005614260220961242, 'studio': 0.0005714514867764121, 'keeping': 0.0006416297395384276, 'station': 0.0005814769514567, 'imagine': 0.0005614260220961242, 'bank': 0.0005012732340143966, 'sending': 0.0006516552042187155, 'mama': 0.000591502416136988, 'afraid': 0.0006015278808172759, 'color': 0.0006416297395384276, 'depressed': 0.000591502416136988, 'demi': 0.0006817315982595793, 'midnight': 0.0005814769514567, 'mouth': 0.0005413750927355483, 'lesson': 0.0005514005574158362, 'showing': 0.0006316042748581396, 'thru': 0.0005714514867764121, 'irst': 0.0006717061335792914, 'surgery': 0.0006115533454975639, 'return': 0.000591502416136988, 'outta': 0.0005012732340143966, 'bright': 0.0005614260220961242, 'battery': 0.0006616806688990035, 'ored': 0.0005313496280552603, 'prayer': 0.000591502416136988, 'present': 0.0004812223046538207, 'fish': 0.0005714514867764121, 'moved': 0.0006817315982595793, 'suppose': 0.0005514005574158362, 'talked': 0.0006616806688990035, 'design': 0.0005614260220961242, 'angel': 0.0005413750927355483, 'strong': 0.0005714514867764121, 'wall': 0.0005814769514567, 'updated': 0.0006616806688990035, 'button': 0.0005714514867764121, 'mcfly': 0.0006316042748581396, 'noticed': 0.0005614260220961242, 'machine': 0.0006215788101778517, 'shout': 0.0005714514867764121, 'happening': 0.0006416297395384276, 'currently': 0.0006416297395384276, 'personal': 0.0006115533454975639, 'social': 0.0005514005574158362, 'tweeps': 0.000591502416136988, 'bottle': 0.0005714514867764121, 'hero': 0.0006015278808172759, 'invite': 0.0005112986986946844, 'dropped': 0.0006115533454975639, 'cooky': 0.0005112986986946844, 'brought': 0.0005714514867764121, 'delicious': 0.0006115533454975639, 'putting': 0.0005213241633749724, 'arrived': 0.0005714514867764121, 'bath': 0.0006015278808172759, 'august': 0.000591502416136988, 'nyone': 0.0006516552042187155, 'twittering': 0.0005614260220961242, 'asking': 0.0005814769514567, 'empty': 0.0005313496280552603, 'killed': 0.0005514005574158362, 'chip': 0.0004912477693341087, 'mess': 0.0005213241633749724, 'contact': 0.0005213241633749724, 'gutted': 0.000591502416136988, 'spending': 0.0005714514867764121, 'canada': 0.0005714514867764121, 'however': 0.0005413750927355483, 'price': 0.0006316042748581396, 'evil': 0.0005313496280552603, 'workout': 0.0004912477693341087, 'code': 0.000591502416136988, 'unless': 0.0006215788101778517, 'tune': 0.0005814769514567, 'drama': 0.0006316042748581396, 'relax': 0.0005313496280552603, 'schedule': 0.0006215788101778517, 'begin': 0.0005413750927355483, 'swear': 0.0007017825276201552, 'tonite': 0.0005714514867764121, 'feed': 0.0004812223046538207, 'spot': 0.0005413750927355483, 'letting': 0.0005213241633749724, 'west': 0.0005112986986946844, 'mobile': 0.0006215788101778517, 'shift': 0.0005213241633749724, 'twice': 0.0005514005574158362, 'adorable': 0.0005012732340143966, 'freakin': 0.0005012732340143966, 'donniewahlberg': 0.0005112986986946844, 'checked': 0.0006316042748581396, 'germany': 0.0005012732340143966, 'five': 0.0004711968399735328, 'retweet': 0.0005213241633749724, 'sometime': 0.00043109498125238103, 'four': 0.0005112986986946844, 'cried': 0.0005213241633749724, 'chicago': 0.00046117137529324485, 'starbucks': 0.000591502416136988, 'assignment': 0.0005514005574158362, 'player': 0.0004912477693341087, 'barely': 0.00040101858721151726, 'wrote': 0.000591502416136988, 'swine': 0.0005814769514567, 'space': 0.0005814769514567, 'kitchen': 0.0004711968399735328, 'tough': 0.0005814769514567, 'million': 0.0005313496280552603, 'rule': 0.0005514005574158362, 'energy': 0.00046117137529324485, '2morrow': 0.0004912477693341087, 'sweetie': 0.0005514005574158362, 'lived': 0.000591502416136988, 'essay': 0.0005714514867764121, 'brown': 0.0005012732340143966, 'travel': 0.0005714514867764121, 'chillin': 0.0005714514867764121, 'library': 0.0006115533454975639, 'session': 0.0003809676578509414, 'stress': 0.0005313496280552603, 'secret': 0.0005714514867764121, 'expensive': 0.0005413750927355483, 'ired': 0.0005213241633749724, 'wave': 0.0005112986986946844, 'crappy': 0.0006316042748581396, 'brazil': 0.0005413750927355483, 'mini': 0.0004711968399735328, 'simple': 0.0004711968399735328, 'prom': 0.0005514005574158362, 'butt': 0.0004711968399735328, 'disney': 0.0005814769514567, 'danny': 0.0005714514867764121, 'seat': 0.0005313496280552603, 'blah': 0.0004511459106129569, 'youll': 0.0005313496280552603, 'cooking': 0.000591502416136988, 'dang': 0.0005413750927355483, 'bread': 0.00044112044593266897, 'youre': 0.0005012732340143966, 'pant': 0.00046117137529324485, 'picked': 0.0004912477693341087, 'losing': 0.0005313496280552603, 'davidarchie': 0.0005112986986946844, 'easier': 0.0004812223046538207, 'bite': 0.00044112044593266897, 'lookin': 0.00043109498125238103, 'sushi': 0.0005213241633749724, 'cost': 0.0004912477693341087, 'orange': 0.0004511459106129569, 'flower': 0.0004912477693341087, 'michael': 0.0005012732340143966, 'tweeted': 0.0004912477693341087, 'excellent': 0.0005514005574158362, 'eaving': 0.0005714514867764121, 'server': 0.0004511459106129569, 'orry': 0.0005413750927355483, 'local': 0.00044112044593266897, 'honest': 0.0005012732340143966, 'girlfriend': 0.00043109498125238103, 'quote': 0.0005213241633749724, 'option': 0.00046117137529324485, 'client': 0.00046117137529324485, 'ishes': 0.0005614260220961242, 'spring': 0.0005413750927355483, 'rough': 0.0005112986986946844, 'checking': 0.00044112044593266897, 'teach': 0.0004711968399735328, 'mostly': 0.00046117137529324485, 'hinks': 0.00046117137529324485, 'handle': 0.0004812223046538207, 'market': 0.0004711968399735328, 'talent': 0.0005413750927355483, 'term': 0.0005112986986946844, 'falling': 0.00046117137529324485, 'texas': 0.0005313496280552603, 'important': 0.0004912477693341087, 'entire': 0.00046117137529324485, 'form': 0.0004912477693341087, 'strange': 0.0005313496280552603, 'pleasure': 0.0004511459106129569, 'followed': 0.0005614260220961242, 'salad': 0.0004110440518918052, 'kicked': 0.0003909931225312293, 'fabulous': 0.0005112986986946844, 'festival': 0.00046117137529324485, 'sport': 0.0003809676578509414, 'afford': 0.0004511459106129569, 'throw': 0.0004912477693341087, 'level': 0.0004912477693341087, 'gunna': 0.0005012732340143966, 'leaf': 0.0003909931225312293, 'turning': 0.0004711968399735328, 'official': 0.00046117137529324485, 'perhaps': 0.00040101858721151726, 'stayed': 0.0005112986986946844, 'daily': 0.0005413750927355483, 'sharing': 0.0004912477693341087, 'grad': 0.00044112044593266897, '2009': 0.0004812223046538207, 'truly': 0.0004511459106129569, 'table': 0.0005514005574158362, 'teacher': 0.0005112986986946844, 'alive': 0.0005012732340143966, 'beginning': 0.0003809676578509414, 'telling': 0.0005112986986946844, 'skin': 0.0004812223046538207, 'jonathanrknight': 0.0004812223046538207, 'general': 0.00043109498125238103, 'apartment': 0.0004711968399735328, 'lack': 0.0005213241633749724, 'somebody': 0.00043109498125238103, 'added': 0.0004912477693341087, 'soup': 0.0005313496280552603, 'flat': 0.0005112986986946844, 'craving': 0.0003809676578509414, 'offer': 0.0004812223046538207, 'anging': 0.00040101858721151726, 'pound': 0.0003909931225312293, 'here': 0.0005112986986946844, 'trust': 0.0004812223046538207, 'spanish': 0.0004711968399735328, 'alking': 0.00040101858721151726, 'gotten': 0.0005313496280552603, 'spam': 0.0004812223046538207, 'land': 0.0006115533454975639, 'ampamp': 0.00042106951657209314, 'animal': 0.0004511459106129569, 'voted': 0.0005313496280552603, 'positive': 0.0004711968399735328, 'sunburn': 0.0005112986986946844, 'desk': 0.0004511459106129569, 'xbox': 0.0004511459106129569, 'reminds': 0.00046117137529324485, 'omeone': 0.0005413750927355483, 'brilliant': 0.00042106951657209314, 'crack': 0.0004912477693341087, 'limit': 0.0004812223046538207, 'notice': 0.0005413750927355483, 'accident': 0.00044112044593266897, 'hinking': 0.00036091672849036555, 'squarespace': 0.00042106951657209314, 'allergy': 0.0005012732340143966, 'hannah': 0.00044112044593266897, 'jack': 0.0004110440518918052, 'realize': 0.00046117137529324485, 'student': 0.0005012732340143966, 'kept': 0.00046117137529324485, 'boston': 0.0003809676578509414, 'fave': 0.00040101858721151726, 'woohoo': 0.00046117137529324485, 'meal': 0.0005213241633749724, 'difficult': 0.0004812223046538207, 'hahaaha': 0.0005112986986946844, 'clear': 0.0004110440518918052, 'shining': 0.0004110440518918052, 'paris': 0.00042106951657209314, 'character': 0.0004812223046538207, 'onto': 0.0005614260220961242, 'pulled': 0.00042106951657209314, 'neck': 0.00040101858721151726, 'eeds': 0.0005012732340143966, 'slightly': 0.0005413750927355483, 'advice': 0.00044112044593266897, 'wanting': 0.0003909931225312293, 'cough': 0.00043109498125238103, 'decide': 0.0005514005574158362, 'oving': 0.0003909931225312293, 'england': 0.00042106951657209314, 'grey': 0.0004110440518918052, 'marathon': 0.0005213241633749724, 'ruined': 0.0005614260220961242, 'keyboard': 0.0004711968399735328, 'goodness': 0.00036091672849036555, 'ankle': 0.00036091672849036555, 'darn': 0.00044112044593266897, 'tweeter': 0.0005012732340143966, 'surprise': 0.00046117137529324485, 'fter': 0.00040101858721151726, 'status': 0.0004511459106129569, 'buying': 0.0004511459106129569, 'yard': 0.00043109498125238103, 'nightmare': 0.0004812223046538207, 'reality': 0.0005413750927355483, 'planned': 0.00042106951657209314, 'older': 0.0004912477693341087, 'cloud': 0.0004812223046538207, 'winter': 0.00036091672849036555, 'ugly': 0.0003809676578509414, 'weight': 0.0003909931225312293, 'deserve': 0.0004110440518918052, 'attention': 0.00034086579912978967, 'ooks': 0.00042106951657209314, 'credit': 0.0003508912638100776, 'size': 0.0004110440518918052, 'swim': 0.00040101858721151726, 'scene': 0.0005112986986946844, 'north': 0.00034086579912978967, 'transformer': 0.0004110440518918052, 'matt': 0.00036091672849036555, 'somehow': 0.0003909931225312293, 'anytime': 0.00044112044593266897, 'dumb': 0.0003909931225312293, 'ound': 0.0004812223046538207, 'performance': 0.00044112044593266897, 'strawberry': 0.0003809676578509414, 'control': 0.00042106951657209314, 'awhile': 0.0005112986986946844, 'trending': 0.00046117137529324485, 'pair': 0.0004511459106129569, 'sarah': 0.0004511459106129569, 'noooo': 0.0004110440518918052, 'brand': 0.00046117137529324485, 'florida': 0.0004110440518918052, 'couch': 0.00040101858721151726, 'stage': 0.00036091672849036555, 'science': 0.00042106951657209314, 'harry': 0.00042106951657209314, 'model': 0.0004110440518918052, 'neither': 0.0004711968399735328, 'software': 0.00043109498125238103, 'celebrate': 0.00040101858721151726, 'access': 0.00046117137529324485, 'woot': 0.0003809676578509414, 'tree': 0.0004110440518918052, 'lease': 0.0003809676578509414, 'uncle': 0.0003809676578509414, 'boot': 0.0004110440518918052, 'detail': 0.0004110440518918052, 'file': 0.0003909931225312293, 'posting': 0.00040101858721151726, 'knowing': 0.0005112986986946844, 'museum': 0.0004110440518918052, 'error': 0.00037094219317065344, 'biggest': 0.0003508912638100776, 'otherwise': 0.00044112044593266897, 'soul': 0.0004511459106129569, 'messed': 0.0003508912638100776, 'married': 0.00043109498125238103, 'juice': 0.00036091672849036555, 'hehehe': 0.0004110440518918052, 'breaking': 0.0003508912638100776, 'possibly': 0.0004511459106129569, 'suggestion': 0.00034086579912978967, 'wing': 0.0004511459106129569, 'medium': 0.00034086579912978967, 'thunder': 0.0003909931225312293, 'conference': 0.00040101858721151726, 'blame': 0.0004711968399735328, 'fault': 0.0003909931225312293, 'hole': 0.0003809676578509414, 'soccer': 0.00040101858721151726, 'thankyou': 0.0003809676578509414, 'ahaha': 0.0003508912638100776, 'ahhhh': 0.0004110440518918052, 'otta': 0.0004110440518918052, 'watchin': 0.00037094219317065344, 'tech': 0.00044112044593266897, 'nasty': 0.00036091672849036555, 'apart': 0.0003809676578509414, 'ordered': 0.00033084033444950173, 'oooo': 0.0003208148697692138, 'nooo': 0.00034086579912978967, 'aunt': 0.00042106951657209314, 'fucked': 0.00042106951657209314, 'alarm': 0.00046117137529324485, 'cancer': 0.00042106951657209314, 'painful': 0.0004511459106129569, 'program': 0.00040101858721151726, 'gtlt': 0.00036091672849036555, 'letter': 0.00042106951657209314, 'shitty': 0.00037094219317065344, 'chinese': 0.00034086579912978967, 'sandwich': 0.00046117137529324485, 'ebay': 0.0004110440518918052, 'james': 0.00043109498125238103, 'user': 0.00040101858721151726, 'total': 0.00037094219317065344, 'presentation': 0.0003809676578509414, 'liking': 0.00043109498125238103, 'british': 0.00034086579912978967, 'flying': 0.00033084033444950173, 'decent': 0.00044112044593266897, 'fake': 0.0004511459106129569, 'shoulder': 0.00044112044593266897, 'joined': 0.00036091672849036555, 'cali': 0.00044112044593266897, 'mitchelmusso': 0.00042106951657209314, 'cupcake': 0.0003909931225312293, 'quit': 0.00037094219317065344, 'upgrade': 0.00037094219317065344, 'crossed': 0.0003909931225312293, 'conversation': 0.0004511459106129569, 'ryan': 0.0004511459106129569, 'bear': 0.00037094219317065344, 'idol': 0.0004110440518918052, 'othing': 0.00040101858721151726, 'drag': 0.0004511459106129569, 'mistake': 0.0004110440518918052, 'expect': 0.00040101858721151726, 'njoying': 0.00046117137529324485, 'wash': 0.00037094219317065344, 'atchin': 0.0004711968399735328, 'across': 0.0004711968399735328, 'latest': 0.0004511459106129569, 'grow': 0.0003909931225312293, 'ohhh': 0.0004110440518918052, 'driver': 0.0004511459106129569, 'acting': 0.00033084033444950173, 'waste': 0.0004110440518918052, 'alex': 0.00042106951657209314, 'lauren': 0.00037094219317065344, 'quality': 0.0004110440518918052, 'queen': 0.00043109498125238103, 'learning': 0.00043109498125238103, 'treat': 0.0003809676578509414, 'tennis': 0.00036091672849036555, 'blocked': 0.0004812223046538207, 'everyones': 0.00033084033444950173, 'given': 0.00043109498125238103, 'contest': 0.0004110440518918052, 'attack': 0.00040101858721151726, 'boat': 0.0003208148697692138, 'national': 0.0003909931225312293, 'mmmm': 0.00042106951657209314, 'applications': 0.0004812223046538207, 'colour': 0.00042106951657209314, 'deleted': 0.00042106951657209314, 'eaten': 0.0004110440518918052, 'invited': 0.00040101858721151726, 'mike': 0.0003909931225312293, 'customer': 0.0003909931225312293, 'theme': 0.00034086579912978967, 'smart': 0.0004110440518918052, 'comp': 0.0003809676578509414, 'image': 0.00037094219317065344, 'anniversary': 0.00042106951657209314, 'susan': 0.00036091672849036555, 'football': 0.00040101858721151726, 'dirty': 0.0004812223046538207, 'imma': 0.00034086579912978967, 'chair': 0.0004110440518918052, 'literally': 0.0003909931225312293, 'europe': 0.00042106951657209314, 'interested': 0.0003909931225312293, 'difference': 0.00040101858721151726, 'annoyed': 0.0003208148697692138, 'neighbor': 0.0003508912638100776, 'setting': 0.0005313496280552603, 'mornin': 0.0003508912638100776, 'healthy': 0.00034086579912978967, 'charge': 0.0003809676578509414, 'revise': 0.00043109498125238103, 'pull': 0.0003809676578509414, 'certain': 0.00040101858721151726, 'taylorswift13': 0.00040101858721151726, 'blessed': 0.0004110440518918052, 'goal': 0.0003909931225312293, 'basically': 0.00034086579912978967, 'earth': 0.00029073847572835, 'click': 0.00036091672849036555, 'jean': 0.00037094219317065344, 'signed': 0.00037094219317065344, 'angry': 0.00037094219317065344, 'grand': 0.0004110440518918052, 'blow': 0.00046117137529324485, 'recently': 0.0004110440518918052, 'wouldnt': 0.0003909931225312293, 'diversity': 0.00042106951657209314, 'aying': 0.0003909931225312293, 'wind': 0.00036091672849036555, 'east': 0.0004110440518918052, 'hella': 0.0004110440518918052, 'crashed': 0.0003508912638100776, 'massive': 0.00040101858721151726, 'launch': 0.00033084033444950173, 'jump': 0.00031078940508892585, 'extremely': 0.00033084033444950173, 'montana': 0.0003909931225312293, 'winning': 0.00034086579912978967, 'addicted': 0.00027068754636777414, 'public': 0.00043109498125238103, 'rite': 0.00037094219317065344, 'truck': 0.0003809676578509414, 'workin': 0.00042106951657209314, 'gross': 0.00033084033444950173, 'painting': 0.00042106951657209314, 'closer': 0.00040101858721151726, 'chick': 0.0004110440518918052, 'ould': 0.0003909931225312293, 'title': 0.0004110440518918052, 'hardly': 0.00037094219317065344, 'wifi': 0.0003909931225312293, 'content': 0.00034086579912978967, 'adventure': 0.0003208148697692138, 'senior': 0.00044112044593266897, 'fuckin': 0.00044112044593266897, 'sugar': 0.00030076394040863796, 'migraine': 0.0003809676578509414, 'period': 0.0003508912638100776, 'hurry': 0.0003909931225312293, 'network': 0.0003909931225312293, 'wide': 0.0004110440518918052, 'known': 0.00034086579912978967, 'opinion': 0.00036091672849036555, 'third': 0.00046117137529324485, 'selling': 0.00040101858721151726, 'member': 0.00031078940508892585, 'deep': 0.0003508912638100776, 'filled': 0.00040101858721151726, 'excuse': 0.00042106951657209314, 'famous': 0.0003208148697692138, 'winner': 0.00044112044593266897, 'orlando': 0.00040101858721151726, 'oodmorning': 0.0003809676578509414, 'situation': 0.00042106951657209314, 'golf': 0.0003809676578509414, 'snow': 0.0003909931225312293, 'grade': 0.0003208148697692138, 'coast': 0.00037094219317065344, 'cash': 0.00037094219317065344, 'riding': 0.00034086579912978967, 'paint': 0.0003508912638100776, 'california': 0.0002807130110480621, 'idiot': 0.0003208148697692138, 'oops': 0.0004110440518918052, 'action': 0.00037094219317065344, 'avatar': 0.0003208148697692138, 'arent': 0.00037094219317065344, 'fellow': 0.0003909931225312293, 'greatest': 0.00034086579912978967, 'omorrow': 0.00037094219317065344, 'growing': 0.0004110440518918052, 'bowl': 0.0003508912638100776, 'freezing': 0.0003208148697692138}\n"
          ]
        }
      ],
      "source": [
        "#STEP b) PER L'UTILIZZO DI BAYES\n",
        "P_w_given_pos = {}\n",
        "P_w_given_neg = {}\n",
        "\n",
        "    #  Calculate the two probabilities\n",
        "    # STUDENT CODE HERE\n",
        "# devo calcolare quanto è probabile trovare ogni parola nel subset di tweet positivi e in quello dei negativi\n",
        "tot_neg_tweets,tot_pos_tweets=tweets['sentiment'].value_counts()\n",
        "#print(tot_pos_tweets)\n",
        "#print(tot_neg_tweets)\n",
        "for word in popular_words:\n",
        "    P_w_given_pos[word]=word_counter[word]['Pos']/tot_pos_tweets\n",
        "    P_w_given_neg[word]=word_counter[word]['Neg']/tot_neg_tweets\n",
        "\n",
        "#print(P_w_given_pos)\n",
        "#print(P_w_given_neg)\n",
        "\n",
        "\n",
        "\n",
        "    # STUDENT CODE ENDS\n"
      ]
    },
    {
      "cell_type": "code",
      "execution_count": 19,
      "metadata": {
        "id": "rx0wpntT-aAn"
      },
      "outputs": [],
      "source": [
        "classifier = {\n",
        "    'basis'  : popular_words,\n",
        "    'P(pos)'   : P_pos,\n",
        "    'P(neg)'   : P_neg,\n",
        "    'P(w|pos)' : P_w_given_pos,\n",
        "    'P(w|neg)' : P_w_given_neg\n",
        "    }"
      ]
    },
    {
      "cell_type": "markdown",
      "metadata": {
        "id": "_tE60FC2-aAn"
      },
      "source": [
        "#### Train and predict"
      ]
    },
    {
      "cell_type": "markdown",
      "metadata": {
        "id": "4dqjqrqb-aAn"
      },
      "source": [
        "Write a tweet_classifier function that takes your trained classifier and a tweet and returns wether it's about Positive or Negative using the popular words selected. Note that if there are words in the basis words in our classifier that are not in the tweet we have the opposite probabilities i.e P(w_1 occurs )* P(w_2 does not occur) * .... if w_1 occurs and w_2 does not occur. The function should return wether the tweet is Positive or Negative. i.e 'Pos' or 'Neg'."
      ]
    },
    {
      "cell_type": "code",
      "execution_count": 21,
      "metadata": {
        "id": "j886uxW6-aAn"
      },
      "outputs": [],
      "source": [
        "import math\n",
        "def tweet_classifier(tweet, classifier_dict):\n",
        "    \"\"\" param tweet: string containing tweet message\n",
        "        param classifier: dict containing 'basis' - training words\n",
        "                                          'P(pos)' - class probabilities\n",
        "                                          'P(neg)' - class probabilities\n",
        "                                          'P(w|pos)' - conditional probabilities\n",
        "                                          'P(w|neg)' - conditional probabilities\n",
        "\n",
        "        return: either 'Pos' or 'Neg'\n",
        "    \"\"\"\n",
        "    # ... Code for classifying tweets using the naive bayes classifier\n",
        "\n",
        "    # STUDENT CODE HERE\n",
        "#calcolo y_pos e y_neg e confronto i due risultati\n",
        " # Inizializzazione dei logaritmi delle probabilità (usiamo log per evitare underflow numerico)\n",
        "    y_pos = math.log(classifier_dict['P(pos)'])\n",
        "    y_neg = math.log(classifier_dict['P(neg)'])\n",
        "\n",
        "    # Scorriamo ogni parola nel tweet\n",
        "    for word in words_in_tweet:\n",
        "        if word in classifier_dict['P(w|pos)']:  # Se la parola è nel dizionario\n",
        "            y_pos += math.log(classifier_dict['P(w|pos)'][word])\n",
        "        else:  # Se la parola non è presente, usiamo una probabilità molto piccola (Laplace Smoothing)\n",
        "            y_pos += math.log(1e-6)\n",
        "\n",
        "        if word in classifier_dict['P(w|neg)']:\n",
        "            y_neg += math.log(classifier_dict['P(w|neg)'][word])\n",
        "        else:\n",
        "            y_neg += math.log(1e-6)\n",
        "\n",
        "    # Confrontiamo le probabilità e ritorniamo la classe più probabile\n",
        "    return \"Pos\" if y_pos > y_neg else \"Neg\"\n",
        "\n",
        "\n",
        "\n",
        "\n",
        "    # STUDENT CODE ENDS"
      ]
    },
    {
      "cell_type": "code",
      "execution_count": 16,
      "metadata": {
        "id": "VaMsFVeN-aAo"
      },
      "outputs": [],
      "source": [
        "def test_classifier(classifier, test_tweets, test_labels):\n",
        "    total = len(test_tweets)\n",
        "    correct = 0\n",
        "    for (tweet,label) in zip(test_tweets, test_labels):\n",
        "        predicted = tweet_classifier(tweet,classifier)\n",
        "        if predicted == label:\n",
        "            correct = correct + 1\n",
        "    return(correct/total)"
      ]
    },
    {
      "cell_type": "code",
      "execution_count": 17,
      "metadata": {
        "id": "vgyS5uis-aAo"
      },
      "outputs": [],
      "source": [
        "new_test_labels = test_labels.replace(0, \"Neg\", regex=True)\n",
        "final_test_labels = new_test_labels.replace(1, \"Pos\", regex=True)"
      ]
    },
    {
      "cell_type": "markdown",
      "metadata": {
        "id": "iktPHfnw-aAo"
      },
      "source": [
        "This will take a while."
      ]
    },
    {
      "cell_type": "code",
      "execution_count": 22,
      "metadata": {
        "id": "VY_J9q8N-aAo",
        "colab": {
          "base_uri": "https://localhost:8080/"
        },
        "outputId": "0a33f939-b3e7-449c-f97b-533f1750b2a5"
      },
      "outputs": [
        {
          "output_type": "stream",
          "name": "stdout",
          "text": [
            "Accuracy: 0.4973\n"
          ]
        }
      ],
      "source": [
        "acc = test_classifier(classifier, test_tweets, final_test_labels)\n",
        "print(f\"Accuracy: {acc:.4f}\")"
      ]
    },
    {
      "cell_type": "markdown",
      "metadata": {
        "id": "EJP6AARY-aAo"
      },
      "source": [
        "#### Optional work\n",
        "\n",
        "In basic sentiment analysis classifications we have 3 classes \"Positive\", \"Negative\" and \"Neutral\". Although because it is challenging to create the \"Neutral\" class. Try to improve the accuracy by filtering the dataset from the perspective of removing words that indicate neutrality."
      ]
    },
    {
      "cell_type": "code",
      "execution_count": null,
      "metadata": {
        "id": "DV2W07s1-aAo"
      },
      "outputs": [],
      "source": []
    }
  ],
  "metadata": {
    "kernelspec": {
      "display_name": "venv",
      "language": "python",
      "name": "python3"
    },
    "language_info": {
      "codemirror_mode": {
        "name": "ipython",
        "version": 3
      },
      "file_extension": ".py",
      "mimetype": "text/x-python",
      "name": "python",
      "nbconvert_exporter": "python",
      "pygments_lexer": "ipython3",
      "version": "3.12.4"
    },
    "colab": {
      "provenance": []
    }
  },
  "nbformat": 4,
  "nbformat_minor": 0
}