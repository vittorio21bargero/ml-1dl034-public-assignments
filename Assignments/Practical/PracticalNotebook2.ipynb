{
  "cells": [
    {
      "cell_type": "markdown",
      "metadata": {
        "id": "eTrDfRyQERZF"
      },
      "source": [
        "# Practical Notebook 2"
      ]
    },
    {
      "cell_type": "markdown",
      "metadata": {
        "id": "El_-ziva0AJK"
      },
      "source": [
        "## Pandas"
      ]
    },
    {
      "cell_type": "markdown",
      "metadata": {
        "id": "bLCRpCwBmJXW"
      },
      "source": [
        "In this course, we will use pandas to import the data into DataFrame objects.   \n",
        "Pandas is a commonly used library working with and manipulating data in various formats, such as txt, csv, excel format, and more.  \n",
        "\n",
        "You can read more about pandas [here](https://pandas.pydata.org/), or by searching online."
      ]
    },
    {
      "cell_type": "code",
      "execution_count": 3,
      "metadata": {
        "id": "Q9MCB5x5finy"
      },
      "outputs": [],
      "source": [
        "# The first thing we need to do is to import pandas\n",
        "import pandas as pd\n",
        "\n",
        "# We will also change how the floating point numbers are displayed\n",
        "pd.set_option(\"display.float_format\", lambda x: f\"{x:.5f}\")"
      ]
    },
    {
      "cell_type": "markdown",
      "metadata": {
        "id": "0mNrH639zPD8"
      },
      "source": [
        "### Creating our own dataset to file"
      ]
    },
    {
      "cell_type": "markdown",
      "metadata": {
        "id": "qJ5E9YdJgG4i"
      },
      "source": [
        "We will start by creating our own data set, but later on we will import the data from a file."
      ]
    },
    {
      "cell_type": "code",
      "execution_count": null,
      "metadata": {
        "id": "nuvD_kRRgK_5"
      },
      "outputs": [],
      "source": [
        "names = ['Alice', 'Bob', 'Charlie']\n",
        "animals = ['Dog', 'Cat', None]\n",
        "age = [27, 12, 43]\n",
        "sex = ['Female', 'Male', 'Male']"
      ]
    },
    {
      "cell_type": "markdown",
      "metadata": {
        "id": "LNPBybFlgNSx"
      },
      "source": [
        "We will then merge the lists together using the *zip* function."
      ]
    },
    {
      "cell_type": "code",
      "execution_count": null,
      "metadata": {
        "id": "pdYdzCf9gPMj"
      },
      "outputs": [],
      "source": [
        "people = list(zip(names, animals, age, sex))\n",
        "print(people)"
      ]
    },
    {
      "cell_type": "markdown",
      "metadata": {
        "id": "yI4ZQvclgYDG"
      },
      "source": [
        "Now we can make our merged list into a DataFrame object by using pandas."
      ]
    },
    {
      "cell_type": "code",
      "execution_count": null,
      "metadata": {
        "id": "f95I9vH1gZCz"
      },
      "outputs": [],
      "source": [
        "df = pd.DataFrame(data=people, columns=['Names','Animals','Age','Sex'])\n",
        "print(df)"
      ]
    },
    {
      "cell_type": "markdown",
      "metadata": {
        "id": "o1Qjvhs_gbKc"
      },
      "source": [
        "You can also export the dataframe to a csv file, where we use the function *to_csv* to export the file. You will find the file you created in the folder you are in. (In colab you will find the folder to the left.)\n",
        "The index parameter is set to *False*, i.e. we won't write the row names to the new file (in this case the row names are *0, 1, 2*). The header parameter is set to *True*, i.e. we will write the column names to the file (in this case the column names are *Names*, *Animals*, *Age*, *Sex*).\n",
        "You can change these parameters yourself to see the difference."
      ]
    },
    {
      "cell_type": "code",
      "execution_count": null,
      "metadata": {
        "id": "n-meveyygeiL"
      },
      "outputs": [],
      "source": [
        "df.to_csv('test_people.csv', index=False, header=True)"
      ]
    },
    {
      "cell_type": "markdown",
      "metadata": {
        "id": "wndKj8qyzXt6"
      },
      "source": [
        "### Read a dataset from file"
      ]
    },
    {
      "cell_type": "markdown",
      "metadata": {
        "id": "RsxduPJmgfPE"
      },
      "source": [
        "To read the data from a csv file we will use the function *read_csv*."
      ]
    },
    {
      "cell_type": "code",
      "execution_count": null,
      "metadata": {
        "id": "SZ0-SBYhgkBl"
      },
      "outputs": [],
      "source": [
        "df = pd.read_csv('test_people.csv')\n",
        "print(df)"
      ]
    },
    {
      "cell_type": "markdown",
      "metadata": {
        "id": "qpsS-O9rgktf"
      },
      "source": [
        "We can inspect the numerical values in the data using the function describe."
      ]
    },
    {
      "cell_type": "code",
      "execution_count": null,
      "metadata": {
        "id": "NzjtCzFWgq54"
      },
      "outputs": [],
      "source": [
        "print(df.describe())"
      ]
    },
    {
      "cell_type": "markdown",
      "metadata": {
        "id": "znST7y3Egxsc"
      },
      "source": [
        "And look at one specific column by using the names of the header."
      ]
    },
    {
      "cell_type": "code",
      "execution_count": null,
      "metadata": {
        "id": "NQpIs2Etgyhg"
      },
      "outputs": [],
      "source": [
        "print(f\"Here you will see the names: \\n{df['Names']}\")\n",
        "print(f\"\\nHere you will see the animals: \\n{df['Animals']}\")\n",
        "print(f\"\\nHere you will see the ages: \\n{df['Age']}\")\n",
        "print(f\"\\nHere you will see the sex: \\n{df['Sex']}\")"
      ]
    },
    {
      "cell_type": "markdown",
      "metadata": {
        "id": "vihv3StzhfDh"
      },
      "source": [
        "You can also divide the groups into females and males."
      ]
    },
    {
      "cell_type": "code",
      "execution_count": null,
      "metadata": {
        "id": "wjYeLhaJhf9g"
      },
      "outputs": [],
      "source": [
        "male, female = df['Sex'].value_counts()\n",
        "print(f\"Here we have {male} male(s) and {female} female(s).\")"
      ]
    },
    {
      "cell_type": "markdown",
      "metadata": {
        "id": "--S5ieFPhj2y"
      },
      "source": [
        "By looking only at one column, as we did before, we can find some interesting data about it as well."
      ]
    },
    {
      "cell_type": "code",
      "execution_count": null,
      "metadata": {
        "id": "0mj5jLlphlpC"
      },
      "outputs": [],
      "source": [
        "# finding the mean value of the ages (with 2 decimals)\n",
        "print(f\"mean: {df['Age'].mean():.2f}\")\n",
        "# and the standard deviation (with 2 decimals)\n",
        "print(f\"std: {df['Age'].std():.2f}\")"
      ]
    },
    {
      "cell_type": "markdown",
      "metadata": {
        "id": "TE7piMNGQWct"
      },
      "source": [
        "### Titanic"
      ]
    },
    {
      "cell_type": "markdown",
      "metadata": {
        "id": "2azINX-Lhwwi"
      },
      "source": [
        "Now we will download and use a larger dataset, to get a better understanding about the pandas library. The dataset contains passenger data from Titanic, and later on we will predict \"what sort of people were most likely to survive?\". The passenger data has 7 features: Name, Sex, Socio-economic class, Siblings/Spouses Aboard, Parents/Children Aboard and Fare and a binary responce variable \"survived\"."
      ]
    },
    {
      "cell_type": "code",
      "execution_count": 1,
      "metadata": {
        "colab": {
          "base_uri": "https://localhost:8080/"
        },
        "id": "9R7iLX18hxem",
        "outputId": "4c951fd6-1897-433b-e984-f20d448553c4"
      },
      "outputs": [
        {
          "output_type": "stream",
          "name": "stdout",
          "text": [
            "--2025-01-24 15:46:57--  https://web.stanford.edu/class/archive/cs/cs109/cs109.1166/stuff/titanic.csv\n",
            "Resolving web.stanford.edu (web.stanford.edu)... 171.67.215.200, 2607:f6d0:0:925a::ab43:d7c8\n",
            "Connecting to web.stanford.edu (web.stanford.edu)|171.67.215.200|:443... connected.\n",
            "HTTP request sent, awaiting response... 200 OK\n",
            "Length: 44225 (43K) [text/csv]\n",
            "Saving to: ‘titanic.csv’\n",
            "\n",
            "titanic.csv         100%[===================>]  43.19K  --.-KB/s    in 0.1s    \n",
            "\n",
            "2025-01-24 15:46:57 (443 KB/s) - ‘titanic.csv’ saved [44225/44225]\n",
            "\n"
          ]
        }
      ],
      "source": [
        "# Downloading the titanic dataset\n",
        "!wget https://web.stanford.edu/class/archive/cs/cs109/cs109.1166/stuff/titanic.csv"
      ]
    },
    {
      "cell_type": "markdown",
      "metadata": {
        "id": "OPi9VMPTM32q"
      },
      "source": [
        "#### Assignment a)"
      ]
    },
    {
      "cell_type": "code",
      "execution_count": 4,
      "metadata": {
        "colab": {
          "base_uri": "https://localhost:8080/"
        },
        "id": "Q_qVAI1Wh9Qm",
        "outputId": "6523fdee-160f-49b1-ee3b-749353d4fa0e"
      },
      "outputs": [
        {
          "output_type": "stream",
          "name": "stdout",
          "text": [
            "     Survived  Pclass                                               Name  \\\n",
            "0           0       3                             Mr. Owen Harris Braund   \n",
            "1           1       1  Mrs. John Bradley (Florence Briggs Thayer) Cum...   \n",
            "2           1       3                              Miss. Laina Heikkinen   \n",
            "3           1       1        Mrs. Jacques Heath (Lily May Peel) Futrelle   \n",
            "4           0       3                            Mr. William Henry Allen   \n",
            "..        ...     ...                                                ...   \n",
            "882         0       2                               Rev. Juozas Montvila   \n",
            "883         1       1                        Miss. Margaret Edith Graham   \n",
            "884         0       3                     Miss. Catherine Helen Johnston   \n",
            "885         1       1                               Mr. Karl Howell Behr   \n",
            "886         0       3                                 Mr. Patrick Dooley   \n",
            "\n",
            "        Sex      Age  Siblings/Spouses Aboard  Parents/Children Aboard  \\\n",
            "0      male 22.00000                        1                        0   \n",
            "1    female 38.00000                        1                        0   \n",
            "2    female 26.00000                        0                        0   \n",
            "3    female 35.00000                        1                        0   \n",
            "4      male 35.00000                        0                        0   \n",
            "..      ...      ...                      ...                      ...   \n",
            "882    male 27.00000                        0                        0   \n",
            "883  female 19.00000                        0                        0   \n",
            "884  female  7.00000                        1                        2   \n",
            "885    male 26.00000                        0                        0   \n",
            "886    male 32.00000                        0                        0   \n",
            "\n",
            "        Fare  \n",
            "0    7.25000  \n",
            "1   71.28330  \n",
            "2    7.92500  \n",
            "3   53.10000  \n",
            "4    8.05000  \n",
            "..       ...  \n",
            "882 13.00000  \n",
            "883 30.00000  \n",
            "884 23.45000  \n",
            "885 30.00000  \n",
            "886  7.75000  \n",
            "\n",
            "[887 rows x 8 columns]\n"
          ]
        }
      ],
      "source": [
        "# ASSIGNMENT:\n",
        "# Load the data and get familiar with it\n",
        "# Use the .describe() method to inspect numerical values\n",
        "\n",
        "\n",
        "df = pd.read_csv('titanic.csv')\n",
        "print(df)\n"
      ]
    },
    {
      "cell_type": "markdown",
      "metadata": {
        "id": "1VDou76wNrOZ"
      },
      "source": [
        "#### Assignment b)"
      ]
    },
    {
      "cell_type": "code",
      "execution_count": 5,
      "metadata": {
        "colab": {
          "base_uri": "https://localhost:8080/"
        },
        "id": "L74NoZY3iPSF",
        "outputId": "2a1bde30-dc0d-4432-d344-c43bc04a51cf"
      },
      "outputs": [
        {
          "output_type": "stream",
          "name": "stdout",
          "text": [
            "573 314\n"
          ]
        }
      ],
      "source": [
        "# ASSIGNMENT:\n",
        "# Count the number of males and females\n",
        "male, female = df['Sex'].value_counts()\n",
        "print(male, female)\n"
      ]
    },
    {
      "cell_type": "markdown",
      "metadata": {
        "id": "mO-L1rr2OFJm"
      },
      "source": [
        "#### Assignment c)"
      ]
    },
    {
      "cell_type": "code",
      "execution_count": 8,
      "metadata": {
        "colab": {
          "base_uri": "https://localhost:8080/"
        },
        "id": "WEuXIDGUiRLS",
        "outputId": "08f5bde5-877f-4278-b45a-eb1ce3f0ffc6"
      },
      "outputs": [
        {
          "output_type": "stream",
          "name": "stdout",
          "text": [
            "mean: 32.31\n",
            "std: 49.78\n"
          ]
        }
      ],
      "source": [
        "# ASSIGNMENT:\n",
        "# Find the mean fare and display with 2 floating point numbers\n",
        "print(f\"mean: {df['Fare'].mean():.2f}\")\n",
        "# Find the mean fare and display with 2 floating point numbers\n",
        "# Find the standard deviation of the fare and display with 2 floating point numbers\n",
        "\n",
        "\n",
        "print(f\"std: {df['Fare'].std():.2f}\")"
      ]
    },
    {
      "cell_type": "markdown",
      "metadata": {
        "id": "cIKUqpcOSBqF"
      },
      "source": [
        "#### Assignment d)"
      ]
    },
    {
      "cell_type": "code",
      "execution_count": 10,
      "metadata": {
        "colab": {
          "base_uri": "https://localhost:8080/"
        },
        "id": "bgtS3DBJiT4-",
        "outputId": "49e2d611-136f-40d7-d367-780088df61a5"
      },
      "outputs": [
        {
          "output_type": "stream",
          "name": "stdout",
          "text": [
            "545 342\n"
          ]
        }
      ],
      "source": [
        "# ASSIGNMENT:\n",
        "# Count how many survived (1) and how many died (0)\n",
        "\n",
        "# YOUR CODE HERE\n",
        "\n",
        "died, survived = df['Survived'].value_counts()\n",
        "print(died, survived)"
      ]
    },
    {
      "cell_type": "markdown",
      "metadata": {
        "id": "iX4N-tncTGtT"
      },
      "source": [
        "#### Assignment e)"
      ]
    },
    {
      "cell_type": "code",
      "execution_count": null,
      "metadata": {
        "id": "ipRuo8s8iWD1"
      },
      "outputs": [],
      "source": [
        "# ASSIGNMENT:\n",
        "# count and display the number of women who survived\n",
        "# and the number of men who survived\n",
        "\n",
        "# YOUR CODE HERE\n",
        "\n",
        "'''\n",
        "female_survived, male_survived =\n",
        "print(female_survived, male_survived)\n",
        "'''"
      ]
    },
    {
      "cell_type": "markdown",
      "metadata": {
        "id": "Aj62sNUqOyS4"
      },
      "source": [
        "#### Assignment f)"
      ]
    },
    {
      "cell_type": "code",
      "execution_count": null,
      "metadata": {
        "id": "JolMP8qRPDL3"
      },
      "outputs": [],
      "source": [
        "# ASSIGNMENT:\n",
        "# Separate the dataset from Titanic into X and y,\n",
        "# where y is the column Survived, and X is the rest.\n",
        "# Inspect the data. Look at for instance the function \"describe\" in pandas\n",
        "\n",
        "# YOUR CODE HERE\n",
        "'''\n",
        "X =\n",
        "y =\n",
        "\n",
        "x_describe =\n",
        "y_describe =\n",
        "\n",
        "print(x_describe, y_describe)\n",
        "'''"
      ]
    },
    {
      "cell_type": "markdown",
      "metadata": {
        "id": "ZeIx9Nvw7Xhu"
      },
      "source": [
        "#### Assignment g)"
      ]
    },
    {
      "cell_type": "code",
      "execution_count": null,
      "metadata": {
        "id": "VawaMemN7Xhu"
      },
      "outputs": [],
      "source": [
        "# ASSIGNMENT:\n",
        "# Standardize the data by subtracting the mean and dividing by the standard deviation.\n",
        "# Inspect the data again to see that the mean is (close to) zero and the standard deviation is one.\n",
        "\n",
        "# YOUR CODE HERE\n",
        "\n",
        "'''\n",
        "X_new =\n",
        "y_new =\n",
        "\n",
        "# Inspecting the data again:\n",
        "X_new_describe =\n",
        "y_new_describe =\n",
        "\n",
        "print(X_new_describe, y_new_describe)\n",
        "'''"
      ]
    },
    {
      "cell_type": "markdown",
      "metadata": {
        "id": "mT_fgGFvDysx"
      },
      "source": [
        "## Matplotlib"
      ]
    },
    {
      "cell_type": "markdown",
      "metadata": {
        "id": "7UAp2tzMkH19"
      },
      "source": [
        "Matplotlib is a commonly used library for visualizing data in Python. Other visualization libraries exist for Python, such as seaborn, plotly, and more. Beyond the first practical notebook, we do not enforce any particular plotting library, but strongly encourage the use of Matplotlib. Below we will use the plotting functions inside of *matplotlib.pyplot*. You can read more about matplotlib [here](https://matplotlib.org/) and pyplot [here](https://matplotlib.org/api/_as_gen/matplotlib.pyplot.html#module-matplotlib.pyplot)."
      ]
    },
    {
      "cell_type": "markdown",
      "metadata": {
        "id": "LFPDRxqfTi_a"
      },
      "source": [
        "### Examples"
      ]
    },
    {
      "cell_type": "code",
      "execution_count": null,
      "metadata": {
        "id": "T7dy6XwKDwQ7"
      },
      "outputs": [],
      "source": [
        "# import the relevant libraries\n",
        "import matplotlib.pyplot as plt\n",
        "import numpy as np"
      ]
    },
    {
      "cell_type": "markdown",
      "metadata": {
        "id": "scDiY0f0kRP2"
      },
      "source": [
        "We will start by looking at some small lists."
      ]
    },
    {
      "cell_type": "code",
      "execution_count": null,
      "metadata": {
        "id": "6v_Nv3X0kQjH"
      },
      "outputs": [],
      "source": [
        "# examples of some datapoint\n",
        "x = [1,2,3,4]\n",
        "y = [2,3.5,7,8.2]\n",
        "\n",
        "# plotting the data using matplotlib.pyplot.plot\n",
        "plt.plot(x, y)\n",
        "\n",
        "# It is important to add labels for the axes and a title\n",
        "plt.xlabel(\"x\")\n",
        "plt.ylabel(\"y\")\n",
        "plt.title(\"Plotting with matplotlib\")\n",
        "# and always end with show(), which will show you the plot.\n",
        "plt.show()"
      ]
    },
    {
      "cell_type": "markdown",
      "metadata": {
        "id": "34W7sZMqjVDe"
      },
      "source": [
        "Plots can also be below each other, or side by side by using [subplot](https://matplotlib.org/3.3.3/api/_as_gen/matplotlib.pyplot.subplot.html)."
      ]
    },
    {
      "cell_type": "code",
      "execution_count": null,
      "metadata": {
        "id": "65GoJL1MV-Gs"
      },
      "outputs": [],
      "source": [
        "# Vertical subplot\n",
        "\n",
        "plt.style.use('bmh')\n",
        "\n",
        "t = np.arange(0.0, 1.0, 0.01)\n",
        "sin = np.sin(2*np.pi*t)\n",
        "cos = np.cos(2*np.pi*t)\n",
        "\n",
        "fig = plt.figure()\n",
        "fig.suptitle(\"Sine and cosine for different t\", fontsize=18)\n",
        "\n",
        "ax1 = fig.add_subplot(2,1,1)\n",
        "ax1.plot(t, sin, color='red', lw=2)\n",
        "ax1.set_ylabel('Amplitude')\n",
        "ax1.set_xlabel('Time')\n",
        "ax1.set_title('Sine wave')\n",
        "\n",
        "ax2 = fig.add_subplot(2,1,2)\n",
        "ax2.plot(t, cos)\n",
        "ax2.set_ylabel('Amplitude')\n",
        "ax2.set_xlabel('Time')\n",
        "ax2.set_title('Cosine wave')\n",
        "\n",
        "fig.tight_layout() # comment out this line to see the difference\n",
        "fig.subplots_adjust(top=0.85)\n",
        "plt.show()"
      ]
    },
    {
      "cell_type": "code",
      "execution_count": null,
      "metadata": {
        "id": "DXr8cax6UnTi"
      },
      "outputs": [],
      "source": [
        "# Horizontal subplot\n",
        "\n",
        "plt.style.use('bmh')\n",
        "\n",
        "t = np.arange(0.0, 1.0, 0.01)\n",
        "sin = np.sin(2*np.pi*t)\n",
        "cos = np.cos(2*np.pi*t)\n",
        "\n",
        "fig = plt.figure()\n",
        "fig.suptitle(\"Sine and cosine for different t\", fontsize=18)\n",
        "\n",
        "ax1 = fig.add_subplot(1,2,1)  # we have changed (2,1,1) to (1,2,1)\n",
        "ax1.plot(t, sin, color='red', lw=2)\n",
        "ax1.set_ylabel('Amplitude')\n",
        "ax1.set_xlabel('Time')\n",
        "ax1.set_title('Sine wave')\n",
        "\n",
        "ax2 = fig.add_subplot(1,2,2)  # we have changed (2,1,2) to (1,2,2)\n",
        "ax2.plot(t, cos)\n",
        "ax2.set_ylabel('Amplitude')\n",
        "ax2.set_xlabel('Time')\n",
        "ax2.set_title('Cosine wave')\n",
        "\n",
        "fig.tight_layout() # comment out this line to see the difference\n",
        "fig.subplots_adjust(top=0.85)\n",
        "plt.show()"
      ]
    },
    {
      "cell_type": "markdown",
      "metadata": {
        "id": "UW0Yy4f3jcZt"
      },
      "source": [
        "And with different stylings"
      ]
    },
    {
      "cell_type": "code",
      "execution_count": null,
      "metadata": {
        "id": "tg44jB-0jbqa"
      },
      "outputs": [],
      "source": [
        "# Here are all the different \"pre-configured\" styles matplot lib supports\n",
        "# https://matplotlib.org/tutorials/intermediate/artists.html#sphx-glr-tutorials-intermediate-artists-py\n",
        "plt.style.available"
      ]
    },
    {
      "cell_type": "markdown",
      "metadata": {
        "id": "Je6jHfmCWj7l"
      },
      "source": [
        "The plotts can also be both below each other and side by side at the same time (as a matrix) as you can see below. Here we have also plotted two graphs together in every figure, and added a color and a label for each one of them."
      ]
    },
    {
      "cell_type": "code",
      "execution_count": null,
      "metadata": {
        "id": "X9pj2gkhjT8P"
      },
      "outputs": [],
      "source": [
        "# Matrix subplot\n",
        "\n",
        "fig = plt.figure()\n",
        "fig.suptitle(\"Sine and cosine for different t\", fontsize=18)\n",
        "\n",
        "i = 1\n",
        "for freq in [1, 2, 3]:\n",
        "  for t_max in [1, 2]:\n",
        "    t = np.arange(0.0, t_max, 0.01)\n",
        "    sin = np.sin(2*freq*np.pi*t)\n",
        "    cos = np.cos(2*freq*np.pi*t)\n",
        "\n",
        "    ax = fig.add_subplot(3,2,i)\n",
        "    ax.plot(t, sin, color='red', lw=2, label='sine')\n",
        "    ax.plot(t, cos, color='blue', lw=2, label='cosine')\n",
        "    ax.set_ylabel('Amplitude')\n",
        "    ax.set_xlabel('Time')\n",
        "    ax.legend(fontsize=6)\n",
        "    ax.set_title(f'freq = {freq}', fontsize=10)\n",
        "    i += 1\n",
        "\n",
        "fig.tight_layout() # comment out this line to see the difference\n",
        "fig.subplots_adjust(top=0.85)\n",
        "plt.show()"
      ]
    },
    {
      "cell_type": "markdown",
      "metadata": {
        "id": "O9IoXXvHn9h1"
      },
      "source": [
        "### Plotting data from Pandas"
      ]
    },
    {
      "cell_type": "markdown",
      "metadata": {
        "id": "s2tbiP4VkTMP"
      },
      "source": [
        "Now we will plot some of the datapoints from the titanic dataset to visualize it."
      ]
    },
    {
      "cell_type": "code",
      "execution_count": null,
      "metadata": {
        "id": "Z8oseI6goJrG"
      },
      "outputs": [],
      "source": [
        "# Downloading the titanic dataset\n",
        "!wget https://web.stanford.edu/class/archive/cs/cs109/cs109.1166/stuff/titanic.csv"
      ]
    },
    {
      "cell_type": "code",
      "execution_count": null,
      "metadata": {
        "id": "__TnMtLroLhE"
      },
      "outputs": [],
      "source": [
        "# Load the titanic dataset for plotting\n",
        "import pandas as pd\n",
        "df = pd.read_csv('titanic.csv')"
      ]
    },
    {
      "cell_type": "markdown",
      "metadata": {
        "id": "pTJ5-6q4XMf4"
      },
      "source": [
        "#### Assignment h)"
      ]
    },
    {
      "cell_type": "code",
      "execution_count": null,
      "metadata": {
        "id": "gib9ZRyCkdfx"
      },
      "outputs": [],
      "source": [
        "# ASSIGNMENT:\n",
        "# make a scatterplot of the class of ticket in the x-axis\n",
        "# and the fare on the y-axis\n",
        "# label the plot and the axes appropriately\n",
        "\n",
        "# YOUR CODE HERE\n",
        "'''\n",
        "\n",
        "'''"
      ]
    },
    {
      "cell_type": "markdown",
      "metadata": {
        "id": "9MZmF6eiZG27"
      },
      "source": [
        "#### Assignment i)"
      ]
    },
    {
      "cell_type": "markdown",
      "metadata": {
        "id": "renFog3zkmkR"
      },
      "source": [
        "It might also be a good idea to plot a histogram over the data, to get a better understanding of how the data looks. This can be done using the function *hist* from matplotlib."
      ]
    },
    {
      "cell_type": "code",
      "execution_count": null,
      "metadata": {
        "id": "ZQupTlOIko7r"
      },
      "outputs": [],
      "source": [
        "fare = df[\"Fare\"]\n",
        "plt.hist(fare)\n",
        "plt.xlabel(\"Fare\")\n",
        "plt.title(\"Visualization of the fare difference\")\n",
        "plt.show()"
      ]
    },
    {
      "cell_type": "markdown",
      "metadata": {
        "id": "X7RJMmLzX8LJ"
      },
      "source": [
        "As you can see, most of the people paid less than 150 for the ticket."
      ]
    },
    {
      "cell_type": "code",
      "execution_count": null,
      "metadata": {
        "id": "ClH6CmejYLQm"
      },
      "outputs": [],
      "source": [
        "# ASSIGNMENT:\n",
        "# Plot a histogram over the people who paid less than, or equal to, 150.\n",
        "# label the plot and the axes appropriately\n",
        "\n",
        "# YOUR CODE HERE\n",
        "'''\n",
        "\n",
        "'''"
      ]
    },
    {
      "cell_type": "markdown",
      "metadata": {
        "id": "ruBS3rYnYdRN"
      },
      "source": [
        "#### Assignment j)"
      ]
    },
    {
      "cell_type": "code",
      "execution_count": null,
      "metadata": {
        "id": "yzzWhLElksr0"
      },
      "outputs": [],
      "source": [
        "# ASSIGNMENT:\n",
        "# plot a histogram over all the ages with 20 bins. Draw a vertical line at the mean age.\n",
        "# label the plot and the axes appropriately\n",
        "\n",
        "# YOUR CODE HERE\n",
        "'''\n",
        "\n",
        "'''"
      ]
    },
    {
      "cell_type": "markdown",
      "metadata": {
        "id": "GRvH4bEzY4gW"
      },
      "source": [
        "#### Assignment k)"
      ]
    },
    {
      "cell_type": "markdown",
      "metadata": {
        "id": "Zz0xnlc8kunQ"
      },
      "source": [
        "Sometimes it is better to plot the figures together in one figure instead. This can be done with subplot, as shown in the examples above."
      ]
    },
    {
      "cell_type": "code",
      "execution_count": null,
      "metadata": {
        "id": "eJSZ_CsLkxig"
      },
      "outputs": [],
      "source": [
        "# ASSIGNMENT:\n",
        "# Make a subplot over the Fare, Class, and Age\n",
        "# label the plot and the axes appropriately\n",
        "\n",
        "# YOUR CODE HERE\n",
        "'''\n",
        "\n",
        "'''"
      ]
    },
    {
      "cell_type": "markdown",
      "metadata": {
        "id": "iszMf9K4aN6Y"
      },
      "source": [
        "#### Assignment l)"
      ]
    },
    {
      "cell_type": "markdown",
      "metadata": {
        "id": "4ImUP2JCZzKh"
      },
      "source": [
        "Now we want to compare the fare and class, as we did before, but this time we want to divide them into two colors, depending on if they survived or not."
      ]
    },
    {
      "cell_type": "code",
      "execution_count": null,
      "metadata": {
        "id": "j7hfWvEak1Mo"
      },
      "outputs": [],
      "source": [
        "# ASSIGNMENT:\n",
        "# Make a scatter plot with fare on the y-axis\n",
        "# and class on the x-axis\n",
        "# using red dots for all the people who died\n",
        "# and blue dots for the people who survived.\n",
        "# use different markers for the survived and died points\n",
        "# label the plot and the axes appropriately\n",
        "\n",
        "# YOUR CODE HERE\n",
        "'''\n",
        "\n",
        "'''\n"
      ]
    },
    {
      "cell_type": "markdown",
      "metadata": {
        "id": "Qti35zoTa6x0"
      },
      "source": [
        "#### Assignment m)"
      ]
    },
    {
      "cell_type": "markdown",
      "metadata": {
        "id": "Mz9hJK5wa9dY"
      },
      "source": [
        "It might also be interesting to visualize how many of the men and women survived. This can be done with the bar function, which will be given to you."
      ]
    },
    {
      "cell_type": "code",
      "execution_count": null,
      "metadata": {
        "id": "z_nEDn_rbBPK"
      },
      "outputs": [],
      "source": [
        "# ASSIGNMENT:\n",
        "# Calculate how many women and men died and survived.\n",
        "# label the plot and the axes appropriately\n",
        "\n",
        "# YOUR CODE HERE\n",
        "\n",
        "plt.bar([0.9,1.9], [female_survived, male_survived] , color='c', label='survived', width=0.2, alpha=0.3)\n",
        "plt.bar([1.1, 2.1], [female_died, male_died] , color='r', label='died', width=0.2, alpha=0.3)\n",
        "plt.xticks([1,2], ['Female','Male'])\n",
        "plt.legend()\n",
        "plt.show()"
      ]
    },
    {
      "cell_type": "code",
      "execution_count": null,
      "metadata": {
        "id": "Hgqiacy6gU7u"
      },
      "outputs": [],
      "source": [
        "### (Optional) Plotting a  histogram of a random distribution"
      ]
    },
    {
      "cell_type": "markdown",
      "metadata": {
        "id": "OmQNK4-siyps"
      },
      "source": [
        "OPTIONAL:  \n",
        "Plotting a Histogram of Random values\n",
        "\n",
        "Your task is to generate 10000 random numbers that follows the normal distribution, with a mean, $\\mu = 1$, and variance $\\sigma^2 = 0.25$.\n",
        "\n",
        "Plot the **normalized** histogram with 50 bars and a contour plot.   "
      ]
    },
    {
      "cell_type": "code",
      "execution_count": null,
      "metadata": {
        "id": "oLvkIjmvpP0Y"
      },
      "outputs": [],
      "source": [
        "import numpy as np\n",
        "import matplotlib.pyplot as plt\n",
        "\n",
        "plt.style.use('ggplot')\n",
        "np.random.seed(42)\n",
        "\n",
        "# OPTIONAL ASSIGNMENT:\n",
        "# Draw 10000 random values from a normal distribution with:\n",
        "#   mu = 1, sigma2 = 0.25\n",
        "#\n",
        "# Plot the histogram and cumulative distribution\n",
        "# label the plot and the axes appropriately\n",
        "\n",
        "\n",
        "# YOUR CODE HERE\n",
        "\n",
        "plt.show()"
      ]
    }
  ],
  "metadata": {
    "colab": {
      "collapsed_sections": [
        "LFPDRxqfTi_a"
      ],
      "name": "PracticalNotebook2.ipynb",
      "provenance": []
    },
    "kernelspec": {
      "display_name": "venv",
      "language": "python",
      "name": "python3"
    },
    "language_info": {
      "codemirror_mode": {
        "name": "ipython",
        "version": 3
      },
      "file_extension": ".py",
      "mimetype": "text/x-python",
      "name": "python",
      "nbconvert_exporter": "python",
      "pygments_lexer": "ipython3",
      "version": "3.12.4"
    }
  },
  "nbformat": 4,
  "nbformat_minor": 0
}